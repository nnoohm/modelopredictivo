{
  "cells": [
    {
      "cell_type": "markdown",
      "metadata": {
        "id": "view-in-github",
        "colab_type": "text"
      },
      "source": [
        "<a href=\"https://colab.research.google.com/github/nnoohm/modelopredictivo/blob/main/Proyecto_Equipo_23.ipynb\" target=\"_parent\"><img src=\"https://colab.research.google.com/assets/colab-badge.svg\" alt=\"Open In Colab\"/></a>"
      ]
    },
    {
      "cell_type": "markdown",
      "metadata": {
        "id": "jLL-_lC8Znbv"
      },
      "source": [
        "\n",
        "# **Modelo predictivo de calificación de películas en función de características como ingresos, popularidad, género y tiempo de duración**\n",
        "\n",
        "Nuestro proyecto tiene como objetivo predecir la calificación de películas que un usuario dará a una película utilizando un conjunto de datos de calificaciones de películas y modelos de regresión, a partir de a partir de sus ingresos, popularidad, género y tiempo de duración.\n",
        "\n",
        "El dataset fue obtenido de la plataforma de Kaggle y puede encontrarse en el siguiente link: https://www.kaggle.com/datasets/asaniczka/tmdb-movies-dataset-2023-930k-movies\n"
      ]
    },
    {
      "cell_type": "code",
      "execution_count": null,
      "metadata": {
        "id": "zlBtMrzPpx0E"
      },
      "outputs": [],
      "source": [
        "import pandas as pd\n",
        "import numpy as np\n",
        "import seaborn as sns\n",
        "import matplotlib.pyplot as plt\n",
        "import plotly.express as px"
      ]
    },
    {
      "cell_type": "markdown",
      "metadata": {
        "id": "aoEe0AmilItR"
      },
      "source": [
        "La base de datos contiene 988,728 registros, distribuidos en 22 columnas que almacenan la siguiente información:"
      ]
    },
    {
      "cell_type": "code",
      "execution_count": null,
      "metadata": {
        "colab": {
          "base_uri": "https://localhost:8080/",
          "height": 739
        },
        "id": "mO1tdxA7oQ5I",
        "outputId": "6cf83f56-1596-4406-9973-38cdd97b8f87"
      },
      "outputs": [
        {
          "output_type": "execute_result",
          "data": {
            "text/plain": [
              "    Nombre de la columna                                  Descripción\n",
              "0                  title                        Título de la película\n",
              "1           vote_average              Puntuación media de la película\n",
              "2             vote_count            Cantidad total de votos recibidos\n",
              "3                 status                 Estado actual de la película\n",
              "4           release_date                             Fecha de estreno\n",
              "5                revenue               Ingresos financieros generados\n",
              "6                runtime           Duración de la película en minutos\n",
              "7                  adult      Indicador de clasificación para adultos\n",
              "8          backdrop_path                   Ruta de imagen promocional\n",
              "9                 budget                    Presupuesto de producción\n",
              "10              homepage                          Página web asociada\n",
              "11               imdb_id     Identificador en Internet Movie Database\n",
              "12     original_language               Idioma original de la película\n",
              "13        original_title        Título original en el idioma original\n",
              "14              overview                Breve descripción de la trama\n",
              "15            popularity                        Índice de popularidad\n",
              "16           poster_path                Ruta al póster de la película\n",
              "17               tagline                      Eslogan o lema asociado\n",
              "18                genres                     Géneros cinematográficos\n",
              "19  production_companies  Compañías que participaron en la producción\n",
              "20  production_countries          Países donde se produjo la película\n",
              "21      spoken_languages              Idiomas hablados en la película"
            ],
            "text/html": [
              "\n",
              "  <div id=\"df-7cab6f17-50cb-4356-9e7a-8a78fc740710\" class=\"colab-df-container\">\n",
              "    <div>\n",
              "<style scoped>\n",
              "    .dataframe tbody tr th:only-of-type {\n",
              "        vertical-align: middle;\n",
              "    }\n",
              "\n",
              "    .dataframe tbody tr th {\n",
              "        vertical-align: top;\n",
              "    }\n",
              "\n",
              "    .dataframe thead th {\n",
              "        text-align: right;\n",
              "    }\n",
              "</style>\n",
              "<table border=\"1\" class=\"dataframe\">\n",
              "  <thead>\n",
              "    <tr style=\"text-align: right;\">\n",
              "      <th></th>\n",
              "      <th>Nombre de la columna</th>\n",
              "      <th>Descripción</th>\n",
              "    </tr>\n",
              "  </thead>\n",
              "  <tbody>\n",
              "    <tr>\n",
              "      <th>0</th>\n",
              "      <td>title</td>\n",
              "      <td>Título de la película</td>\n",
              "    </tr>\n",
              "    <tr>\n",
              "      <th>1</th>\n",
              "      <td>vote_average</td>\n",
              "      <td>Puntuación media de la película</td>\n",
              "    </tr>\n",
              "    <tr>\n",
              "      <th>2</th>\n",
              "      <td>vote_count</td>\n",
              "      <td>Cantidad total de votos recibidos</td>\n",
              "    </tr>\n",
              "    <tr>\n",
              "      <th>3</th>\n",
              "      <td>status</td>\n",
              "      <td>Estado actual de la película</td>\n",
              "    </tr>\n",
              "    <tr>\n",
              "      <th>4</th>\n",
              "      <td>release_date</td>\n",
              "      <td>Fecha de estreno</td>\n",
              "    </tr>\n",
              "    <tr>\n",
              "      <th>5</th>\n",
              "      <td>revenue</td>\n",
              "      <td>Ingresos financieros generados</td>\n",
              "    </tr>\n",
              "    <tr>\n",
              "      <th>6</th>\n",
              "      <td>runtime</td>\n",
              "      <td>Duración de la película en minutos</td>\n",
              "    </tr>\n",
              "    <tr>\n",
              "      <th>7</th>\n",
              "      <td>adult</td>\n",
              "      <td>Indicador de clasificación para adultos</td>\n",
              "    </tr>\n",
              "    <tr>\n",
              "      <th>8</th>\n",
              "      <td>backdrop_path</td>\n",
              "      <td>Ruta de imagen promocional</td>\n",
              "    </tr>\n",
              "    <tr>\n",
              "      <th>9</th>\n",
              "      <td>budget</td>\n",
              "      <td>Presupuesto de producción</td>\n",
              "    </tr>\n",
              "    <tr>\n",
              "      <th>10</th>\n",
              "      <td>homepage</td>\n",
              "      <td>Página web asociada</td>\n",
              "    </tr>\n",
              "    <tr>\n",
              "      <th>11</th>\n",
              "      <td>imdb_id</td>\n",
              "      <td>Identificador en Internet Movie Database</td>\n",
              "    </tr>\n",
              "    <tr>\n",
              "      <th>12</th>\n",
              "      <td>original_language</td>\n",
              "      <td>Idioma original de la película</td>\n",
              "    </tr>\n",
              "    <tr>\n",
              "      <th>13</th>\n",
              "      <td>original_title</td>\n",
              "      <td>Título original en el idioma original</td>\n",
              "    </tr>\n",
              "    <tr>\n",
              "      <th>14</th>\n",
              "      <td>overview</td>\n",
              "      <td>Breve descripción de la trama</td>\n",
              "    </tr>\n",
              "    <tr>\n",
              "      <th>15</th>\n",
              "      <td>popularity</td>\n",
              "      <td>Índice de popularidad</td>\n",
              "    </tr>\n",
              "    <tr>\n",
              "      <th>16</th>\n",
              "      <td>poster_path</td>\n",
              "      <td>Ruta al póster de la película</td>\n",
              "    </tr>\n",
              "    <tr>\n",
              "      <th>17</th>\n",
              "      <td>tagline</td>\n",
              "      <td>Eslogan o lema asociado</td>\n",
              "    </tr>\n",
              "    <tr>\n",
              "      <th>18</th>\n",
              "      <td>genres</td>\n",
              "      <td>Géneros cinematográficos</td>\n",
              "    </tr>\n",
              "    <tr>\n",
              "      <th>19</th>\n",
              "      <td>production_companies</td>\n",
              "      <td>Compañías que participaron en la producción</td>\n",
              "    </tr>\n",
              "    <tr>\n",
              "      <th>20</th>\n",
              "      <td>production_countries</td>\n",
              "      <td>Países donde se produjo la película</td>\n",
              "    </tr>\n",
              "    <tr>\n",
              "      <th>21</th>\n",
              "      <td>spoken_languages</td>\n",
              "      <td>Idiomas hablados en la película</td>\n",
              "    </tr>\n",
              "  </tbody>\n",
              "</table>\n",
              "</div>\n",
              "    <div class=\"colab-df-buttons\">\n",
              "\n",
              "  <div class=\"colab-df-container\">\n",
              "    <button class=\"colab-df-convert\" onclick=\"convertToInteractive('df-7cab6f17-50cb-4356-9e7a-8a78fc740710')\"\n",
              "            title=\"Convert this dataframe to an interactive table.\"\n",
              "            style=\"display:none;\">\n",
              "\n",
              "  <svg xmlns=\"http://www.w3.org/2000/svg\" height=\"24px\" viewBox=\"0 -960 960 960\">\n",
              "    <path d=\"M120-120v-720h720v720H120Zm60-500h600v-160H180v160Zm220 220h160v-160H400v160Zm0 220h160v-160H400v160ZM180-400h160v-160H180v160Zm440 0h160v-160H620v160ZM180-180h160v-160H180v160Zm440 0h160v-160H620v160Z\"/>\n",
              "  </svg>\n",
              "    </button>\n",
              "\n",
              "  <style>\n",
              "    .colab-df-container {\n",
              "      display:flex;\n",
              "      gap: 12px;\n",
              "    }\n",
              "\n",
              "    .colab-df-convert {\n",
              "      background-color: #E8F0FE;\n",
              "      border: none;\n",
              "      border-radius: 50%;\n",
              "      cursor: pointer;\n",
              "      display: none;\n",
              "      fill: #1967D2;\n",
              "      height: 32px;\n",
              "      padding: 0 0 0 0;\n",
              "      width: 32px;\n",
              "    }\n",
              "\n",
              "    .colab-df-convert:hover {\n",
              "      background-color: #E2EBFA;\n",
              "      box-shadow: 0px 1px 2px rgba(60, 64, 67, 0.3), 0px 1px 3px 1px rgba(60, 64, 67, 0.15);\n",
              "      fill: #174EA6;\n",
              "    }\n",
              "\n",
              "    .colab-df-buttons div {\n",
              "      margin-bottom: 4px;\n",
              "    }\n",
              "\n",
              "    [theme=dark] .colab-df-convert {\n",
              "      background-color: #3B4455;\n",
              "      fill: #D2E3FC;\n",
              "    }\n",
              "\n",
              "    [theme=dark] .colab-df-convert:hover {\n",
              "      background-color: #434B5C;\n",
              "      box-shadow: 0px 1px 3px 1px rgba(0, 0, 0, 0.15);\n",
              "      filter: drop-shadow(0px 1px 2px rgba(0, 0, 0, 0.3));\n",
              "      fill: #FFFFFF;\n",
              "    }\n",
              "  </style>\n",
              "\n",
              "    <script>\n",
              "      const buttonEl =\n",
              "        document.querySelector('#df-7cab6f17-50cb-4356-9e7a-8a78fc740710 button.colab-df-convert');\n",
              "      buttonEl.style.display =\n",
              "        google.colab.kernel.accessAllowed ? 'block' : 'none';\n",
              "\n",
              "      async function convertToInteractive(key) {\n",
              "        const element = document.querySelector('#df-7cab6f17-50cb-4356-9e7a-8a78fc740710');\n",
              "        const dataTable =\n",
              "          await google.colab.kernel.invokeFunction('convertToInteractive',\n",
              "                                                    [key], {});\n",
              "        if (!dataTable) return;\n",
              "\n",
              "        const docLinkHtml = 'Like what you see? Visit the ' +\n",
              "          '<a target=\"_blank\" href=https://colab.research.google.com/notebooks/data_table.ipynb>data table notebook</a>'\n",
              "          + ' to learn more about interactive tables.';\n",
              "        element.innerHTML = '';\n",
              "        dataTable['output_type'] = 'display_data';\n",
              "        await google.colab.output.renderOutput(dataTable, element);\n",
              "        const docLink = document.createElement('div');\n",
              "        docLink.innerHTML = docLinkHtml;\n",
              "        element.appendChild(docLink);\n",
              "      }\n",
              "    </script>\n",
              "  </div>\n",
              "\n",
              "\n",
              "<div id=\"df-04ed5323-c758-40c5-8447-3d2d8cb5f3a9\">\n",
              "  <button class=\"colab-df-quickchart\" onclick=\"quickchart('df-04ed5323-c758-40c5-8447-3d2d8cb5f3a9')\"\n",
              "            title=\"Suggest charts\"\n",
              "            style=\"display:none;\">\n",
              "\n",
              "<svg xmlns=\"http://www.w3.org/2000/svg\" height=\"24px\"viewBox=\"0 0 24 24\"\n",
              "     width=\"24px\">\n",
              "    <g>\n",
              "        <path d=\"M19 3H5c-1.1 0-2 .9-2 2v14c0 1.1.9 2 2 2h14c1.1 0 2-.9 2-2V5c0-1.1-.9-2-2-2zM9 17H7v-7h2v7zm4 0h-2V7h2v10zm4 0h-2v-4h2v4z\"/>\n",
              "    </g>\n",
              "</svg>\n",
              "  </button>\n",
              "\n",
              "<style>\n",
              "  .colab-df-quickchart {\n",
              "      --bg-color: #E8F0FE;\n",
              "      --fill-color: #1967D2;\n",
              "      --hover-bg-color: #E2EBFA;\n",
              "      --hover-fill-color: #174EA6;\n",
              "      --disabled-fill-color: #AAA;\n",
              "      --disabled-bg-color: #DDD;\n",
              "  }\n",
              "\n",
              "  [theme=dark] .colab-df-quickchart {\n",
              "      --bg-color: #3B4455;\n",
              "      --fill-color: #D2E3FC;\n",
              "      --hover-bg-color: #434B5C;\n",
              "      --hover-fill-color: #FFFFFF;\n",
              "      --disabled-bg-color: #3B4455;\n",
              "      --disabled-fill-color: #666;\n",
              "  }\n",
              "\n",
              "  .colab-df-quickchart {\n",
              "    background-color: var(--bg-color);\n",
              "    border: none;\n",
              "    border-radius: 50%;\n",
              "    cursor: pointer;\n",
              "    display: none;\n",
              "    fill: var(--fill-color);\n",
              "    height: 32px;\n",
              "    padding: 0;\n",
              "    width: 32px;\n",
              "  }\n",
              "\n",
              "  .colab-df-quickchart:hover {\n",
              "    background-color: var(--hover-bg-color);\n",
              "    box-shadow: 0 1px 2px rgba(60, 64, 67, 0.3), 0 1px 3px 1px rgba(60, 64, 67, 0.15);\n",
              "    fill: var(--button-hover-fill-color);\n",
              "  }\n",
              "\n",
              "  .colab-df-quickchart-complete:disabled,\n",
              "  .colab-df-quickchart-complete:disabled:hover {\n",
              "    background-color: var(--disabled-bg-color);\n",
              "    fill: var(--disabled-fill-color);\n",
              "    box-shadow: none;\n",
              "  }\n",
              "\n",
              "  .colab-df-spinner {\n",
              "    border: 2px solid var(--fill-color);\n",
              "    border-color: transparent;\n",
              "    border-bottom-color: var(--fill-color);\n",
              "    animation:\n",
              "      spin 1s steps(1) infinite;\n",
              "  }\n",
              "\n",
              "  @keyframes spin {\n",
              "    0% {\n",
              "      border-color: transparent;\n",
              "      border-bottom-color: var(--fill-color);\n",
              "      border-left-color: var(--fill-color);\n",
              "    }\n",
              "    20% {\n",
              "      border-color: transparent;\n",
              "      border-left-color: var(--fill-color);\n",
              "      border-top-color: var(--fill-color);\n",
              "    }\n",
              "    30% {\n",
              "      border-color: transparent;\n",
              "      border-left-color: var(--fill-color);\n",
              "      border-top-color: var(--fill-color);\n",
              "      border-right-color: var(--fill-color);\n",
              "    }\n",
              "    40% {\n",
              "      border-color: transparent;\n",
              "      border-right-color: var(--fill-color);\n",
              "      border-top-color: var(--fill-color);\n",
              "    }\n",
              "    60% {\n",
              "      border-color: transparent;\n",
              "      border-right-color: var(--fill-color);\n",
              "    }\n",
              "    80% {\n",
              "      border-color: transparent;\n",
              "      border-right-color: var(--fill-color);\n",
              "      border-bottom-color: var(--fill-color);\n",
              "    }\n",
              "    90% {\n",
              "      border-color: transparent;\n",
              "      border-bottom-color: var(--fill-color);\n",
              "    }\n",
              "  }\n",
              "</style>\n",
              "\n",
              "  <script>\n",
              "    async function quickchart(key) {\n",
              "      const quickchartButtonEl =\n",
              "        document.querySelector('#' + key + ' button');\n",
              "      quickchartButtonEl.disabled = true;  // To prevent multiple clicks.\n",
              "      quickchartButtonEl.classList.add('colab-df-spinner');\n",
              "      try {\n",
              "        const charts = await google.colab.kernel.invokeFunction(\n",
              "            'suggestCharts', [key], {});\n",
              "      } catch (error) {\n",
              "        console.error('Error during call to suggestCharts:', error);\n",
              "      }\n",
              "      quickchartButtonEl.classList.remove('colab-df-spinner');\n",
              "      quickchartButtonEl.classList.add('colab-df-quickchart-complete');\n",
              "    }\n",
              "    (() => {\n",
              "      let quickchartButtonEl =\n",
              "        document.querySelector('#df-04ed5323-c758-40c5-8447-3d2d8cb5f3a9 button');\n",
              "      quickchartButtonEl.style.display =\n",
              "        google.colab.kernel.accessAllowed ? 'block' : 'none';\n",
              "    })();\n",
              "  </script>\n",
              "</div>\n",
              "\n",
              "  <div id=\"id_962536f9-c92c-47a9-9660-b399601a5823\">\n",
              "    <style>\n",
              "      .colab-df-generate {\n",
              "        background-color: #E8F0FE;\n",
              "        border: none;\n",
              "        border-radius: 50%;\n",
              "        cursor: pointer;\n",
              "        display: none;\n",
              "        fill: #1967D2;\n",
              "        height: 32px;\n",
              "        padding: 0 0 0 0;\n",
              "        width: 32px;\n",
              "      }\n",
              "\n",
              "      .colab-df-generate:hover {\n",
              "        background-color: #E2EBFA;\n",
              "        box-shadow: 0px 1px 2px rgba(60, 64, 67, 0.3), 0px 1px 3px 1px rgba(60, 64, 67, 0.15);\n",
              "        fill: #174EA6;\n",
              "      }\n",
              "\n",
              "      [theme=dark] .colab-df-generate {\n",
              "        background-color: #3B4455;\n",
              "        fill: #D2E3FC;\n",
              "      }\n",
              "\n",
              "      [theme=dark] .colab-df-generate:hover {\n",
              "        background-color: #434B5C;\n",
              "        box-shadow: 0px 1px 3px 1px rgba(0, 0, 0, 0.15);\n",
              "        filter: drop-shadow(0px 1px 2px rgba(0, 0, 0, 0.3));\n",
              "        fill: #FFFFFF;\n",
              "      }\n",
              "    </style>\n",
              "    <button class=\"colab-df-generate\" onclick=\"generateWithVariable('df_descripcion_columnas')\"\n",
              "            title=\"Generate code using this dataframe.\"\n",
              "            style=\"display:none;\">\n",
              "\n",
              "  <svg xmlns=\"http://www.w3.org/2000/svg\" height=\"24px\"viewBox=\"0 0 24 24\"\n",
              "       width=\"24px\">\n",
              "    <path d=\"M7,19H8.4L18.45,9,17,7.55,7,17.6ZM5,21V16.75L18.45,3.32a2,2,0,0,1,2.83,0l1.4,1.43a1.91,1.91,0,0,1,.58,1.4,1.91,1.91,0,0,1-.58,1.4L9.25,21ZM18.45,9,17,7.55Zm-12,3A5.31,5.31,0,0,0,4.9,8.1,5.31,5.31,0,0,0,1,6.5,5.31,5.31,0,0,0,4.9,4.9,5.31,5.31,0,0,0,6.5,1,5.31,5.31,0,0,0,8.1,4.9,5.31,5.31,0,0,0,12,6.5,5.46,5.46,0,0,0,6.5,12Z\"/>\n",
              "  </svg>\n",
              "    </button>\n",
              "    <script>\n",
              "      (() => {\n",
              "      const buttonEl =\n",
              "        document.querySelector('#id_962536f9-c92c-47a9-9660-b399601a5823 button.colab-df-generate');\n",
              "      buttonEl.style.display =\n",
              "        google.colab.kernel.accessAllowed ? 'block' : 'none';\n",
              "\n",
              "      buttonEl.onclick = () => {\n",
              "        google.colab.notebook.generateWithVariable('df_descripcion_columnas');\n",
              "      }\n",
              "      })();\n",
              "    </script>\n",
              "  </div>\n",
              "\n",
              "    </div>\n",
              "  </div>\n"
            ]
          },
          "metadata": {},
          "execution_count": 84
        }
      ],
      "source": [
        "descripcion_columnas = {'Nombre de la columna':['title', 'vote_average', 'vote_count', 'status', 'release_date',\n",
        "                                                'revenue', 'runtime', 'adult', 'backdrop_path', 'budget', 'homepage',\n",
        "                                                'imdb_id', 'original_language', 'original_title', 'overview',\n",
        "                                                'popularity', 'poster_path', 'tagline', 'genres', 'production_companies',\n",
        "                                                'production_countries', 'spoken_languages'],\n",
        "                        'Descripción':['Título de la película', 'Puntuación media de la película',\n",
        "                                       'Cantidad total de votos recibidos', 'Estado actual de la película', 'Fecha de estreno',\n",
        "                                       'Ingresos financieros generados', 'Duración de la película en minutos',\n",
        "                                       'Indicador de clasificación para adultos', 'Ruta de imagen promocional',\n",
        "                                       'Presupuesto de producción', 'Página web asociada', 'Identificador en Internet Movie Database',\n",
        "                                       'Idioma original de la película', 'Título original en el idioma original',\n",
        "                                       'Breve descripción de la trama', 'Índice de popularidad', 'Ruta al póster de la película',\n",
        "                                       'Eslogan o lema asociado', 'Géneros cinematográficos', 'Compañías que participaron en la producción',\n",
        "                                       'Países donde se produjo la película', 'Idiomas hablados en la película']}\n",
        "df_descripcion_columnas = pd.DataFrame (descripcion_columnas)\n",
        "df_descripcion_columnas"
      ]
    },
    {
      "cell_type": "markdown",
      "metadata": {
        "id": "agxpaaL4Yv8O"
      },
      "source": [
        "# Vinculamos al dataset:"
      ]
    },
    {
      "cell_type": "markdown",
      "metadata": {
        "id": "EDLY6jbvY_lX"
      },
      "source": [
        "Importamos el dataset que vamos a trabajar en archivo .csv"
      ]
    },
    {
      "cell_type": "code",
      "execution_count": null,
      "metadata": {
        "colab": {
          "base_uri": "https://localhost:8080/"
        },
        "id": "Ul0Lfd6nlDto",
        "outputId": "e36bbb6b-5543-4e68-f118-c2f261efb70b"
      },
      "outputs": [
        {
          "output_type": "stream",
          "name": "stdout",
          "text": [
            "Drive already mounted at /content/drive; to attempt to forcibly remount, call drive.mount(\"/content/drive\", force_remount=True).\n"
          ]
        }
      ],
      "source": [
        "from google.colab import drive\n",
        "drive.mount('/content/drive')"
      ]
    },
    {
      "cell_type": "code",
      "execution_count": null,
      "metadata": {
        "colab": {
          "base_uri": "https://localhost:8080/",
          "height": 686
        },
        "id": "i6J7J7CtYKRC",
        "outputId": "3354d190-fb4e-4cc6-9f4c-f22489a5c828"
      },
      "outputs": [
        {
          "output_type": "execute_result",
          "data": {
            "text/plain": [
              "                  title  vote_average  vote_count    status release_date  \\\n",
              "id                                                                         \n",
              "27205         Inception         8.364       34495  Released   2010-07-15   \n",
              "157336     Interstellar         8.417       32571  Released   2014-11-05   \n",
              "155     The Dark Knight         8.512       30619  Released   2008-07-16   \n",
              "19995            Avatar         7.573       29815  Released   2009-12-15   \n",
              "24428      The Avengers         7.710       29166  Released   2012-04-25   \n",
              "\n",
              "           revenue  runtime  adult                     backdrop_path  \\\n",
              "id                                                                     \n",
              "27205    825532764      148  False  /8ZTVqvKDQ8emSGUEMjsS4yHAwrp.jpg   \n",
              "157336   701729206      169  False  /pbrkL804c8yAv3zBZR4QPEafpAR.jpg   \n",
              "155     1004558444      152  False  /nMKdUUepR0i5zn0y1T4CsSB5chy.jpg   \n",
              "19995   2923706026      162  False  /vL5LR6WdxWPjLPFRLe133jXWsh5.jpg   \n",
              "24428   1518815515      143  False  /9BBTo63ANSmhC4e6r62OJFuK2GL.jpg   \n",
              "\n",
              "           budget  ... original_language   original_title  \\\n",
              "id                 ...                                      \n",
              "27205   160000000  ...                en        Inception   \n",
              "157336  165000000  ...                en     Interstellar   \n",
              "155     185000000  ...                en  The Dark Knight   \n",
              "19995   237000000  ...                en           Avatar   \n",
              "24428   220000000  ...                en     The Avengers   \n",
              "\n",
              "                                                 overview popularity  \\\n",
              "id                                                                     \n",
              "27205   Cobb, a skilled thief who commits corporate es...     83.952   \n",
              "157336  The adventures of a group of explorers who mak...    140.241   \n",
              "155     Batman raises the stakes in his war on crime. ...    130.643   \n",
              "19995   In the 22nd century, a paraplegic Marine is di...     79.932   \n",
              "24428   When an unexpected enemy emerges and threatens...     98.082   \n",
              "\n",
              "                             poster_path  \\\n",
              "id                                         \n",
              "27205   /oYuLEt3zVCKq57qu2F8dT7NIa6f.jpg   \n",
              "157336  /gEU2QniE6E77NI6lCU6MxlNBvIx.jpg   \n",
              "155     /qJ2tW6WMUDux911r6m7haRef0WH.jpg   \n",
              "19995   /kyeqWdyUXW608qlYkRqosgbbJyK.jpg   \n",
              "24428    /RYMX2wcKCBAr24UyPD7xwmjaTn.jpg   \n",
              "\n",
              "                                                  tagline  \\\n",
              "id                                                          \n",
              "27205                Your mind is the scene of the crime.   \n",
              "157336  Mankind was born on Earth. It was never meant ...   \n",
              "155                     Welcome to a world without rules.   \n",
              "19995                         Enter the world of Pandora.   \n",
              "24428                             Some assembly required.   \n",
              "\n",
              "                                             genres  \\\n",
              "id                                                    \n",
              "27205            Action, Science Fiction, Adventure   \n",
              "157336            Adventure, Drama, Science Fiction   \n",
              "155                  Drama, Action, Crime, Thriller   \n",
              "19995   Action, Adventure, Fantasy, Science Fiction   \n",
              "24428            Science Fiction, Action, Adventure   \n",
              "\n",
              "                                     production_companies  \\\n",
              "id                                                          \n",
              "27205   Legendary Pictures, Syncopy, Warner Bros. Pict...   \n",
              "157336  Legendary Pictures, Syncopy, Lynda Obst Produc...   \n",
              "155     DC Comics, Legendary Pictures, Syncopy, Isobel...   \n",
              "19995   Dune Entertainment, Lightstorm Entertainment, ...   \n",
              "24428                                      Marvel Studios   \n",
              "\n",
              "                            production_countries  \\\n",
              "id                                                 \n",
              "27205   United Kingdom, United States of America   \n",
              "157336  United Kingdom, United States of America   \n",
              "155     United Kingdom, United States of America   \n",
              "19995   United States of America, United Kingdom   \n",
              "24428                   United States of America   \n",
              "\n",
              "                          spoken_languages  \n",
              "id                                          \n",
              "27205   English, French, Japanese, Swahili  \n",
              "157336                             English  \n",
              "155                      English, Mandarin  \n",
              "19995                     English, Spanish  \n",
              "24428              English, Hindi, Russian  \n",
              "\n",
              "[5 rows x 22 columns]"
            ],
            "text/html": [
              "\n",
              "  <div id=\"df-f59da454-0e1b-4ca5-9667-25047069f6cb\" class=\"colab-df-container\">\n",
              "    <div>\n",
              "<style scoped>\n",
              "    .dataframe tbody tr th:only-of-type {\n",
              "        vertical-align: middle;\n",
              "    }\n",
              "\n",
              "    .dataframe tbody tr th {\n",
              "        vertical-align: top;\n",
              "    }\n",
              "\n",
              "    .dataframe thead th {\n",
              "        text-align: right;\n",
              "    }\n",
              "</style>\n",
              "<table border=\"1\" class=\"dataframe\">\n",
              "  <thead>\n",
              "    <tr style=\"text-align: right;\">\n",
              "      <th></th>\n",
              "      <th>title</th>\n",
              "      <th>vote_average</th>\n",
              "      <th>vote_count</th>\n",
              "      <th>status</th>\n",
              "      <th>release_date</th>\n",
              "      <th>revenue</th>\n",
              "      <th>runtime</th>\n",
              "      <th>adult</th>\n",
              "      <th>backdrop_path</th>\n",
              "      <th>budget</th>\n",
              "      <th>...</th>\n",
              "      <th>original_language</th>\n",
              "      <th>original_title</th>\n",
              "      <th>overview</th>\n",
              "      <th>popularity</th>\n",
              "      <th>poster_path</th>\n",
              "      <th>tagline</th>\n",
              "      <th>genres</th>\n",
              "      <th>production_companies</th>\n",
              "      <th>production_countries</th>\n",
              "      <th>spoken_languages</th>\n",
              "    </tr>\n",
              "    <tr>\n",
              "      <th>id</th>\n",
              "      <th></th>\n",
              "      <th></th>\n",
              "      <th></th>\n",
              "      <th></th>\n",
              "      <th></th>\n",
              "      <th></th>\n",
              "      <th></th>\n",
              "      <th></th>\n",
              "      <th></th>\n",
              "      <th></th>\n",
              "      <th></th>\n",
              "      <th></th>\n",
              "      <th></th>\n",
              "      <th></th>\n",
              "      <th></th>\n",
              "      <th></th>\n",
              "      <th></th>\n",
              "      <th></th>\n",
              "      <th></th>\n",
              "      <th></th>\n",
              "      <th></th>\n",
              "    </tr>\n",
              "  </thead>\n",
              "  <tbody>\n",
              "    <tr>\n",
              "      <th>27205</th>\n",
              "      <td>Inception</td>\n",
              "      <td>8.364</td>\n",
              "      <td>34495</td>\n",
              "      <td>Released</td>\n",
              "      <td>2010-07-15</td>\n",
              "      <td>825532764</td>\n",
              "      <td>148</td>\n",
              "      <td>False</td>\n",
              "      <td>/8ZTVqvKDQ8emSGUEMjsS4yHAwrp.jpg</td>\n",
              "      <td>160000000</td>\n",
              "      <td>...</td>\n",
              "      <td>en</td>\n",
              "      <td>Inception</td>\n",
              "      <td>Cobb, a skilled thief who commits corporate es...</td>\n",
              "      <td>83.952</td>\n",
              "      <td>/oYuLEt3zVCKq57qu2F8dT7NIa6f.jpg</td>\n",
              "      <td>Your mind is the scene of the crime.</td>\n",
              "      <td>Action, Science Fiction, Adventure</td>\n",
              "      <td>Legendary Pictures, Syncopy, Warner Bros. Pict...</td>\n",
              "      <td>United Kingdom, United States of America</td>\n",
              "      <td>English, French, Japanese, Swahili</td>\n",
              "    </tr>\n",
              "    <tr>\n",
              "      <th>157336</th>\n",
              "      <td>Interstellar</td>\n",
              "      <td>8.417</td>\n",
              "      <td>32571</td>\n",
              "      <td>Released</td>\n",
              "      <td>2014-11-05</td>\n",
              "      <td>701729206</td>\n",
              "      <td>169</td>\n",
              "      <td>False</td>\n",
              "      <td>/pbrkL804c8yAv3zBZR4QPEafpAR.jpg</td>\n",
              "      <td>165000000</td>\n",
              "      <td>...</td>\n",
              "      <td>en</td>\n",
              "      <td>Interstellar</td>\n",
              "      <td>The adventures of a group of explorers who mak...</td>\n",
              "      <td>140.241</td>\n",
              "      <td>/gEU2QniE6E77NI6lCU6MxlNBvIx.jpg</td>\n",
              "      <td>Mankind was born on Earth. It was never meant ...</td>\n",
              "      <td>Adventure, Drama, Science Fiction</td>\n",
              "      <td>Legendary Pictures, Syncopy, Lynda Obst Produc...</td>\n",
              "      <td>United Kingdom, United States of America</td>\n",
              "      <td>English</td>\n",
              "    </tr>\n",
              "    <tr>\n",
              "      <th>155</th>\n",
              "      <td>The Dark Knight</td>\n",
              "      <td>8.512</td>\n",
              "      <td>30619</td>\n",
              "      <td>Released</td>\n",
              "      <td>2008-07-16</td>\n",
              "      <td>1004558444</td>\n",
              "      <td>152</td>\n",
              "      <td>False</td>\n",
              "      <td>/nMKdUUepR0i5zn0y1T4CsSB5chy.jpg</td>\n",
              "      <td>185000000</td>\n",
              "      <td>...</td>\n",
              "      <td>en</td>\n",
              "      <td>The Dark Knight</td>\n",
              "      <td>Batman raises the stakes in his war on crime. ...</td>\n",
              "      <td>130.643</td>\n",
              "      <td>/qJ2tW6WMUDux911r6m7haRef0WH.jpg</td>\n",
              "      <td>Welcome to a world without rules.</td>\n",
              "      <td>Drama, Action, Crime, Thriller</td>\n",
              "      <td>DC Comics, Legendary Pictures, Syncopy, Isobel...</td>\n",
              "      <td>United Kingdom, United States of America</td>\n",
              "      <td>English, Mandarin</td>\n",
              "    </tr>\n",
              "    <tr>\n",
              "      <th>19995</th>\n",
              "      <td>Avatar</td>\n",
              "      <td>7.573</td>\n",
              "      <td>29815</td>\n",
              "      <td>Released</td>\n",
              "      <td>2009-12-15</td>\n",
              "      <td>2923706026</td>\n",
              "      <td>162</td>\n",
              "      <td>False</td>\n",
              "      <td>/vL5LR6WdxWPjLPFRLe133jXWsh5.jpg</td>\n",
              "      <td>237000000</td>\n",
              "      <td>...</td>\n",
              "      <td>en</td>\n",
              "      <td>Avatar</td>\n",
              "      <td>In the 22nd century, a paraplegic Marine is di...</td>\n",
              "      <td>79.932</td>\n",
              "      <td>/kyeqWdyUXW608qlYkRqosgbbJyK.jpg</td>\n",
              "      <td>Enter the world of Pandora.</td>\n",
              "      <td>Action, Adventure, Fantasy, Science Fiction</td>\n",
              "      <td>Dune Entertainment, Lightstorm Entertainment, ...</td>\n",
              "      <td>United States of America, United Kingdom</td>\n",
              "      <td>English, Spanish</td>\n",
              "    </tr>\n",
              "    <tr>\n",
              "      <th>24428</th>\n",
              "      <td>The Avengers</td>\n",
              "      <td>7.710</td>\n",
              "      <td>29166</td>\n",
              "      <td>Released</td>\n",
              "      <td>2012-04-25</td>\n",
              "      <td>1518815515</td>\n",
              "      <td>143</td>\n",
              "      <td>False</td>\n",
              "      <td>/9BBTo63ANSmhC4e6r62OJFuK2GL.jpg</td>\n",
              "      <td>220000000</td>\n",
              "      <td>...</td>\n",
              "      <td>en</td>\n",
              "      <td>The Avengers</td>\n",
              "      <td>When an unexpected enemy emerges and threatens...</td>\n",
              "      <td>98.082</td>\n",
              "      <td>/RYMX2wcKCBAr24UyPD7xwmjaTn.jpg</td>\n",
              "      <td>Some assembly required.</td>\n",
              "      <td>Science Fiction, Action, Adventure</td>\n",
              "      <td>Marvel Studios</td>\n",
              "      <td>United States of America</td>\n",
              "      <td>English, Hindi, Russian</td>\n",
              "    </tr>\n",
              "  </tbody>\n",
              "</table>\n",
              "<p>5 rows × 22 columns</p>\n",
              "</div>\n",
              "    <div class=\"colab-df-buttons\">\n",
              "\n",
              "  <div class=\"colab-df-container\">\n",
              "    <button class=\"colab-df-convert\" onclick=\"convertToInteractive('df-f59da454-0e1b-4ca5-9667-25047069f6cb')\"\n",
              "            title=\"Convert this dataframe to an interactive table.\"\n",
              "            style=\"display:none;\">\n",
              "\n",
              "  <svg xmlns=\"http://www.w3.org/2000/svg\" height=\"24px\" viewBox=\"0 -960 960 960\">\n",
              "    <path d=\"M120-120v-720h720v720H120Zm60-500h600v-160H180v160Zm220 220h160v-160H400v160Zm0 220h160v-160H400v160ZM180-400h160v-160H180v160Zm440 0h160v-160H620v160ZM180-180h160v-160H180v160Zm440 0h160v-160H620v160Z\"/>\n",
              "  </svg>\n",
              "    </button>\n",
              "\n",
              "  <style>\n",
              "    .colab-df-container {\n",
              "      display:flex;\n",
              "      gap: 12px;\n",
              "    }\n",
              "\n",
              "    .colab-df-convert {\n",
              "      background-color: #E8F0FE;\n",
              "      border: none;\n",
              "      border-radius: 50%;\n",
              "      cursor: pointer;\n",
              "      display: none;\n",
              "      fill: #1967D2;\n",
              "      height: 32px;\n",
              "      padding: 0 0 0 0;\n",
              "      width: 32px;\n",
              "    }\n",
              "\n",
              "    .colab-df-convert:hover {\n",
              "      background-color: #E2EBFA;\n",
              "      box-shadow: 0px 1px 2px rgba(60, 64, 67, 0.3), 0px 1px 3px 1px rgba(60, 64, 67, 0.15);\n",
              "      fill: #174EA6;\n",
              "    }\n",
              "\n",
              "    .colab-df-buttons div {\n",
              "      margin-bottom: 4px;\n",
              "    }\n",
              "\n",
              "    [theme=dark] .colab-df-convert {\n",
              "      background-color: #3B4455;\n",
              "      fill: #D2E3FC;\n",
              "    }\n",
              "\n",
              "    [theme=dark] .colab-df-convert:hover {\n",
              "      background-color: #434B5C;\n",
              "      box-shadow: 0px 1px 3px 1px rgba(0, 0, 0, 0.15);\n",
              "      filter: drop-shadow(0px 1px 2px rgba(0, 0, 0, 0.3));\n",
              "      fill: #FFFFFF;\n",
              "    }\n",
              "  </style>\n",
              "\n",
              "    <script>\n",
              "      const buttonEl =\n",
              "        document.querySelector('#df-f59da454-0e1b-4ca5-9667-25047069f6cb button.colab-df-convert');\n",
              "      buttonEl.style.display =\n",
              "        google.colab.kernel.accessAllowed ? 'block' : 'none';\n",
              "\n",
              "      async function convertToInteractive(key) {\n",
              "        const element = document.querySelector('#df-f59da454-0e1b-4ca5-9667-25047069f6cb');\n",
              "        const dataTable =\n",
              "          await google.colab.kernel.invokeFunction('convertToInteractive',\n",
              "                                                    [key], {});\n",
              "        if (!dataTable) return;\n",
              "\n",
              "        const docLinkHtml = 'Like what you see? Visit the ' +\n",
              "          '<a target=\"_blank\" href=https://colab.research.google.com/notebooks/data_table.ipynb>data table notebook</a>'\n",
              "          + ' to learn more about interactive tables.';\n",
              "        element.innerHTML = '';\n",
              "        dataTable['output_type'] = 'display_data';\n",
              "        await google.colab.output.renderOutput(dataTable, element);\n",
              "        const docLink = document.createElement('div');\n",
              "        docLink.innerHTML = docLinkHtml;\n",
              "        element.appendChild(docLink);\n",
              "      }\n",
              "    </script>\n",
              "  </div>\n",
              "\n",
              "\n",
              "<div id=\"df-1480b239-1f89-4d83-96e8-f504cbb1a5bd\">\n",
              "  <button class=\"colab-df-quickchart\" onclick=\"quickchart('df-1480b239-1f89-4d83-96e8-f504cbb1a5bd')\"\n",
              "            title=\"Suggest charts\"\n",
              "            style=\"display:none;\">\n",
              "\n",
              "<svg xmlns=\"http://www.w3.org/2000/svg\" height=\"24px\"viewBox=\"0 0 24 24\"\n",
              "     width=\"24px\">\n",
              "    <g>\n",
              "        <path d=\"M19 3H5c-1.1 0-2 .9-2 2v14c0 1.1.9 2 2 2h14c1.1 0 2-.9 2-2V5c0-1.1-.9-2-2-2zM9 17H7v-7h2v7zm4 0h-2V7h2v10zm4 0h-2v-4h2v4z\"/>\n",
              "    </g>\n",
              "</svg>\n",
              "  </button>\n",
              "\n",
              "<style>\n",
              "  .colab-df-quickchart {\n",
              "      --bg-color: #E8F0FE;\n",
              "      --fill-color: #1967D2;\n",
              "      --hover-bg-color: #E2EBFA;\n",
              "      --hover-fill-color: #174EA6;\n",
              "      --disabled-fill-color: #AAA;\n",
              "      --disabled-bg-color: #DDD;\n",
              "  }\n",
              "\n",
              "  [theme=dark] .colab-df-quickchart {\n",
              "      --bg-color: #3B4455;\n",
              "      --fill-color: #D2E3FC;\n",
              "      --hover-bg-color: #434B5C;\n",
              "      --hover-fill-color: #FFFFFF;\n",
              "      --disabled-bg-color: #3B4455;\n",
              "      --disabled-fill-color: #666;\n",
              "  }\n",
              "\n",
              "  .colab-df-quickchart {\n",
              "    background-color: var(--bg-color);\n",
              "    border: none;\n",
              "    border-radius: 50%;\n",
              "    cursor: pointer;\n",
              "    display: none;\n",
              "    fill: var(--fill-color);\n",
              "    height: 32px;\n",
              "    padding: 0;\n",
              "    width: 32px;\n",
              "  }\n",
              "\n",
              "  .colab-df-quickchart:hover {\n",
              "    background-color: var(--hover-bg-color);\n",
              "    box-shadow: 0 1px 2px rgba(60, 64, 67, 0.3), 0 1px 3px 1px rgba(60, 64, 67, 0.15);\n",
              "    fill: var(--button-hover-fill-color);\n",
              "  }\n",
              "\n",
              "  .colab-df-quickchart-complete:disabled,\n",
              "  .colab-df-quickchart-complete:disabled:hover {\n",
              "    background-color: var(--disabled-bg-color);\n",
              "    fill: var(--disabled-fill-color);\n",
              "    box-shadow: none;\n",
              "  }\n",
              "\n",
              "  .colab-df-spinner {\n",
              "    border: 2px solid var(--fill-color);\n",
              "    border-color: transparent;\n",
              "    border-bottom-color: var(--fill-color);\n",
              "    animation:\n",
              "      spin 1s steps(1) infinite;\n",
              "  }\n",
              "\n",
              "  @keyframes spin {\n",
              "    0% {\n",
              "      border-color: transparent;\n",
              "      border-bottom-color: var(--fill-color);\n",
              "      border-left-color: var(--fill-color);\n",
              "    }\n",
              "    20% {\n",
              "      border-color: transparent;\n",
              "      border-left-color: var(--fill-color);\n",
              "      border-top-color: var(--fill-color);\n",
              "    }\n",
              "    30% {\n",
              "      border-color: transparent;\n",
              "      border-left-color: var(--fill-color);\n",
              "      border-top-color: var(--fill-color);\n",
              "      border-right-color: var(--fill-color);\n",
              "    }\n",
              "    40% {\n",
              "      border-color: transparent;\n",
              "      border-right-color: var(--fill-color);\n",
              "      border-top-color: var(--fill-color);\n",
              "    }\n",
              "    60% {\n",
              "      border-color: transparent;\n",
              "      border-right-color: var(--fill-color);\n",
              "    }\n",
              "    80% {\n",
              "      border-color: transparent;\n",
              "      border-right-color: var(--fill-color);\n",
              "      border-bottom-color: var(--fill-color);\n",
              "    }\n",
              "    90% {\n",
              "      border-color: transparent;\n",
              "      border-bottom-color: var(--fill-color);\n",
              "    }\n",
              "  }\n",
              "</style>\n",
              "\n",
              "  <script>\n",
              "    async function quickchart(key) {\n",
              "      const quickchartButtonEl =\n",
              "        document.querySelector('#' + key + ' button');\n",
              "      quickchartButtonEl.disabled = true;  // To prevent multiple clicks.\n",
              "      quickchartButtonEl.classList.add('colab-df-spinner');\n",
              "      try {\n",
              "        const charts = await google.colab.kernel.invokeFunction(\n",
              "            'suggestCharts', [key], {});\n",
              "      } catch (error) {\n",
              "        console.error('Error during call to suggestCharts:', error);\n",
              "      }\n",
              "      quickchartButtonEl.classList.remove('colab-df-spinner');\n",
              "      quickchartButtonEl.classList.add('colab-df-quickchart-complete');\n",
              "    }\n",
              "    (() => {\n",
              "      let quickchartButtonEl =\n",
              "        document.querySelector('#df-1480b239-1f89-4d83-96e8-f504cbb1a5bd button');\n",
              "      quickchartButtonEl.style.display =\n",
              "        google.colab.kernel.accessAllowed ? 'block' : 'none';\n",
              "    })();\n",
              "  </script>\n",
              "</div>\n",
              "\n",
              "    </div>\n",
              "  </div>\n"
            ]
          },
          "metadata": {},
          "execution_count": 86
        }
      ],
      "source": [
        "df = pd.read_csv(\"/content/drive/MyDrive/Equipo 23 - PLAN B/TMDB_movie_dataset_v11.csv\", index_col=0)\n",
        "df.head()"
      ]
    },
    {
      "cell_type": "markdown",
      "metadata": {
        "id": "ug-46yXTZpt4"
      },
      "source": [
        "Las dimensiones de nuestro dataset son las siguientes:"
      ]
    },
    {
      "cell_type": "code",
      "execution_count": null,
      "metadata": {
        "id": "5qHdnzcubBGp",
        "colab": {
          "base_uri": "https://localhost:8080/"
        },
        "outputId": "0008de0b-4d07-4a08-b86f-31b7d86e660e"
      },
      "outputs": [
        {
          "output_type": "execute_result",
          "data": {
            "text/plain": [
              "(988728, 22)"
            ]
          },
          "metadata": {},
          "execution_count": 87
        }
      ],
      "source": [
        "df.shape"
      ]
    },
    {
      "cell_type": "markdown",
      "metadata": {
        "id": "iAcap3t7cG4w"
      },
      "source": [
        "Además, cuenta con datos de tipo object, float, int y bool."
      ]
    },
    {
      "cell_type": "code",
      "execution_count": null,
      "metadata": {
        "colab": {
          "base_uri": "https://localhost:8080/"
        },
        "id": "vt0N7TRYb8TL",
        "outputId": "99c6171d-1ac3-4431-be61-340e691a5398"
      },
      "outputs": [
        {
          "output_type": "stream",
          "name": "stdout",
          "text": [
            "<class 'pandas.core.frame.DataFrame'>\n",
            "Int64Index: 988728 entries, 27205 to 1240227\n",
            "Data columns (total 22 columns):\n",
            " #   Column                Non-Null Count   Dtype  \n",
            "---  ------                --------------   -----  \n",
            " 0   title                 988716 non-null  object \n",
            " 1   vote_average          988728 non-null  float64\n",
            " 2   vote_count            988728 non-null  int64  \n",
            " 3   status                988728 non-null  object \n",
            " 4   release_date          880177 non-null  object \n",
            " 5   revenue               988728 non-null  int64  \n",
            " 6   runtime               988728 non-null  int64  \n",
            " 7   adult                 988728 non-null  bool   \n",
            " 8   backdrop_path         282628 non-null  object \n",
            " 9   budget                988728 non-null  int64  \n",
            " 10  homepage              107261 non-null  object \n",
            " 11  imdb_id               568451 non-null  object \n",
            " 12  original_language     988728 non-null  object \n",
            " 13  original_title        988716 non-null  object \n",
            " 14  overview              810916 non-null  object \n",
            " 15  popularity            988728 non-null  float64\n",
            " 16  poster_path           720016 non-null  object \n",
            " 17  tagline               142091 non-null  object \n",
            " 18  genres                627783 non-null  object \n",
            " 19  production_companies  473197 non-null  object \n",
            " 20  production_countries  590248 non-null  object \n",
            " 21  spoken_languages      599091 non-null  object \n",
            "dtypes: bool(1), float64(2), int64(4), object(15)\n",
            "memory usage: 166.9+ MB\n"
          ]
        }
      ],
      "source": [
        "df.info()"
      ]
    },
    {
      "cell_type": "markdown",
      "metadata": {
        "id": "mRl90HXgbz0O"
      },
      "source": [
        "Las 22 columnas están identificadas con los siguientes nombres:"
      ]
    },
    {
      "cell_type": "code",
      "execution_count": null,
      "metadata": {
        "id": "JXNDQeChdkxP",
        "colab": {
          "base_uri": "https://localhost:8080/"
        },
        "outputId": "004e6eb2-8750-4816-96f4-8a13bc1265f6"
      },
      "outputs": [
        {
          "output_type": "execute_result",
          "data": {
            "text/plain": [
              "Index(['title', 'vote_average', 'vote_count', 'status', 'release_date',\n",
              "       'revenue', 'runtime', 'adult', 'backdrop_path', 'budget', 'homepage',\n",
              "       'imdb_id', 'original_language', 'original_title', 'overview',\n",
              "       'popularity', 'poster_path', 'tagline', 'genres',\n",
              "       'production_companies', 'production_countries', 'spoken_languages'],\n",
              "      dtype='object')"
            ]
          },
          "metadata": {},
          "execution_count": 89
        }
      ],
      "source": [
        "df.columns"
      ]
    },
    {
      "cell_type": "markdown",
      "metadata": {
        "id": "XW12ARWdd3PE"
      },
      "source": [
        "## **Limpieza de datos**"
      ]
    },
    {
      "cell_type": "markdown",
      "metadata": {
        "id": "e4XOyJjk3ic5"
      },
      "source": [
        "En nuestro próximo análisis, podemos prescindir de ciertas columnas, ya que contienen información que no resulta esencial para nuestros objetivos. Estas columnas son: id, status, adult, backdrop_path, homepage, imbd_id, original_title, overview, poster_path, tagline, production_companies y spoken_languages.\n"
      ]
    },
    {
      "cell_type": "markdown",
      "metadata": {
        "id": "Zq-KRZa-eQQi"
      },
      "source": [
        "### **Valores flotantes y valores duplicados**"
      ]
    },
    {
      "cell_type": "markdown",
      "metadata": {
        "id": "ibn8EqiCXFvT"
      },
      "source": [
        "Basándonos en la información anterior, utilizaremos las siguientes variables para nuestro análisis para abordar aspectos críticos en nuestro análisis cinematográfico. A continuación, detallamos algunas variables que van a ser particularmente relevantes para nuestro modelo predictivo:\n",
        "\n",
        "* `'title'(título):`\n",
        "Identificador clave para distinguir y asociar cada registro con una película específica.\n",
        "\n",
        "* `'vote_average' (calificación promedio):`\n",
        "Indica la evaluación subjetiva de la calidad de la película por parte del público.\n",
        "\n",
        "* `'vote_count' (número de votos):`\n",
        "Ofrece una medida de la popularidad de la película basada en la participación del público.\n",
        "\n",
        "* `'release_date' (fecha de lanzamiento):`\n",
        "Permite explorar tendencias a lo largo del tiempo y su impacto en la recepción y los ingresos.\n",
        "\n",
        "* `'revenue' (ingresos):`\n",
        "Indica el rendimiento económico de la película, clave para la predicción.\n",
        "\n",
        "* `'runtime' (duración):`\n",
        "Puede influir en la popularidad y éxito, especialmente en relación con las preferencias del público.\n",
        "\n",
        "* `'budget' (presupuesto):`\n",
        " El presupuesto puede impactar en la calidad de producción y, por ende, en la calificación y los ingresos.\n",
        "\n",
        "* `'original_language' (idioma original):`\n",
        "Puede influir en la audiencia objetivo y en cómo se recibe la película en diferentes regiones.\n",
        "\n",
        "* `'popularity' (popularidad):`\n",
        "Proporciona una medida cuantitativa del interés del público, valiosa para la predicción.\n",
        "\n",
        "* `'genres' (géneros):`\n",
        "Permite explorar cómo los géneros influyen en la popularidad y los ingresos.\n",
        "\n",
        "* `'production_companies' (empresas productoras):`\n",
        "Identificar la influencia de las productoras exitosas en el rendimiento de la película."
      ]
    },
    {
      "cell_type": "markdown",
      "metadata": {
        "id": "PsDJo_tk3Fid"
      },
      "source": [
        "\n",
        "Ahora, realizaremos un análisis de las variables mencionadas para identificar la presencia de valores faltantes y duplicados."
      ]
    },
    {
      "cell_type": "code",
      "execution_count": null,
      "metadata": {
        "id": "rk4jMRyVdjoU"
      },
      "outputs": [],
      "source": [
        "df = df[['title', 'vote_average', 'vote_count', 'release_date', 'revenue','runtime', 'budget',\n",
        "        'original_language', 'popularity', 'genres', 'production_companies',]]"
      ]
    },
    {
      "cell_type": "code",
      "execution_count": null,
      "metadata": {
        "id": "idjDKyBD3oe7"
      },
      "outputs": [],
      "source": [
        "def porcentaje_faltantes(data):\n",
        "\n",
        "    # Calcula el número de valores faltantes en cada columna\n",
        "    nan = pd.DataFrame(data.isna().sum(), columns=['nan'])\n",
        "\n",
        "    # Filtra las variables que tienen valores faltantes\n",
        "    nan = nan[nan['nan'] > 0]\n",
        "\n",
        "    # Calcula el porcentaje de valores faltantes\n",
        "    nan['Porcentaje'] = (nan['nan'] / len(data)) * 100\n",
        "\n",
        "    # Renombra la columna 'nan'\n",
        "    nan = nan.rename(columns={'nan': 'Total de faltantes'})\n",
        "\n",
        "    return nan"
      ]
    },
    {
      "cell_type": "code",
      "execution_count": null,
      "metadata": {
        "id": "Eoyi-MGZyh0v",
        "colab": {
          "base_uri": "https://localhost:8080/",
          "height": 174
        },
        "outputId": "972284ee-36aa-4c9c-cc1e-459e9a888842"
      },
      "outputs": [
        {
          "output_type": "execute_result",
          "data": {
            "text/plain": [
              "                      Total de faltantes  Porcentaje\n",
              "title                                 12    0.001214\n",
              "release_date                      108551   10.978854\n",
              "genres                            360945   36.505996\n",
              "production_companies              515531   52.140831"
            ],
            "text/html": [
              "\n",
              "  <div id=\"df-7aeb85fe-0979-461f-98d3-53656b467f44\" class=\"colab-df-container\">\n",
              "    <div>\n",
              "<style scoped>\n",
              "    .dataframe tbody tr th:only-of-type {\n",
              "        vertical-align: middle;\n",
              "    }\n",
              "\n",
              "    .dataframe tbody tr th {\n",
              "        vertical-align: top;\n",
              "    }\n",
              "\n",
              "    .dataframe thead th {\n",
              "        text-align: right;\n",
              "    }\n",
              "</style>\n",
              "<table border=\"1\" class=\"dataframe\">\n",
              "  <thead>\n",
              "    <tr style=\"text-align: right;\">\n",
              "      <th></th>\n",
              "      <th>Total de faltantes</th>\n",
              "      <th>Porcentaje</th>\n",
              "    </tr>\n",
              "  </thead>\n",
              "  <tbody>\n",
              "    <tr>\n",
              "      <th>title</th>\n",
              "      <td>12</td>\n",
              "      <td>0.001214</td>\n",
              "    </tr>\n",
              "    <tr>\n",
              "      <th>release_date</th>\n",
              "      <td>108551</td>\n",
              "      <td>10.978854</td>\n",
              "    </tr>\n",
              "    <tr>\n",
              "      <th>genres</th>\n",
              "      <td>360945</td>\n",
              "      <td>36.505996</td>\n",
              "    </tr>\n",
              "    <tr>\n",
              "      <th>production_companies</th>\n",
              "      <td>515531</td>\n",
              "      <td>52.140831</td>\n",
              "    </tr>\n",
              "  </tbody>\n",
              "</table>\n",
              "</div>\n",
              "    <div class=\"colab-df-buttons\">\n",
              "\n",
              "  <div class=\"colab-df-container\">\n",
              "    <button class=\"colab-df-convert\" onclick=\"convertToInteractive('df-7aeb85fe-0979-461f-98d3-53656b467f44')\"\n",
              "            title=\"Convert this dataframe to an interactive table.\"\n",
              "            style=\"display:none;\">\n",
              "\n",
              "  <svg xmlns=\"http://www.w3.org/2000/svg\" height=\"24px\" viewBox=\"0 -960 960 960\">\n",
              "    <path d=\"M120-120v-720h720v720H120Zm60-500h600v-160H180v160Zm220 220h160v-160H400v160Zm0 220h160v-160H400v160ZM180-400h160v-160H180v160Zm440 0h160v-160H620v160ZM180-180h160v-160H180v160Zm440 0h160v-160H620v160Z\"/>\n",
              "  </svg>\n",
              "    </button>\n",
              "\n",
              "  <style>\n",
              "    .colab-df-container {\n",
              "      display:flex;\n",
              "      gap: 12px;\n",
              "    }\n",
              "\n",
              "    .colab-df-convert {\n",
              "      background-color: #E8F0FE;\n",
              "      border: none;\n",
              "      border-radius: 50%;\n",
              "      cursor: pointer;\n",
              "      display: none;\n",
              "      fill: #1967D2;\n",
              "      height: 32px;\n",
              "      padding: 0 0 0 0;\n",
              "      width: 32px;\n",
              "    }\n",
              "\n",
              "    .colab-df-convert:hover {\n",
              "      background-color: #E2EBFA;\n",
              "      box-shadow: 0px 1px 2px rgba(60, 64, 67, 0.3), 0px 1px 3px 1px rgba(60, 64, 67, 0.15);\n",
              "      fill: #174EA6;\n",
              "    }\n",
              "\n",
              "    .colab-df-buttons div {\n",
              "      margin-bottom: 4px;\n",
              "    }\n",
              "\n",
              "    [theme=dark] .colab-df-convert {\n",
              "      background-color: #3B4455;\n",
              "      fill: #D2E3FC;\n",
              "    }\n",
              "\n",
              "    [theme=dark] .colab-df-convert:hover {\n",
              "      background-color: #434B5C;\n",
              "      box-shadow: 0px 1px 3px 1px rgba(0, 0, 0, 0.15);\n",
              "      filter: drop-shadow(0px 1px 2px rgba(0, 0, 0, 0.3));\n",
              "      fill: #FFFFFF;\n",
              "    }\n",
              "  </style>\n",
              "\n",
              "    <script>\n",
              "      const buttonEl =\n",
              "        document.querySelector('#df-7aeb85fe-0979-461f-98d3-53656b467f44 button.colab-df-convert');\n",
              "      buttonEl.style.display =\n",
              "        google.colab.kernel.accessAllowed ? 'block' : 'none';\n",
              "\n",
              "      async function convertToInteractive(key) {\n",
              "        const element = document.querySelector('#df-7aeb85fe-0979-461f-98d3-53656b467f44');\n",
              "        const dataTable =\n",
              "          await google.colab.kernel.invokeFunction('convertToInteractive',\n",
              "                                                    [key], {});\n",
              "        if (!dataTable) return;\n",
              "\n",
              "        const docLinkHtml = 'Like what you see? Visit the ' +\n",
              "          '<a target=\"_blank\" href=https://colab.research.google.com/notebooks/data_table.ipynb>data table notebook</a>'\n",
              "          + ' to learn more about interactive tables.';\n",
              "        element.innerHTML = '';\n",
              "        dataTable['output_type'] = 'display_data';\n",
              "        await google.colab.output.renderOutput(dataTable, element);\n",
              "        const docLink = document.createElement('div');\n",
              "        docLink.innerHTML = docLinkHtml;\n",
              "        element.appendChild(docLink);\n",
              "      }\n",
              "    </script>\n",
              "  </div>\n",
              "\n",
              "\n",
              "<div id=\"df-d3aaef6d-d70d-4a6c-b38e-97de39237a0b\">\n",
              "  <button class=\"colab-df-quickchart\" onclick=\"quickchart('df-d3aaef6d-d70d-4a6c-b38e-97de39237a0b')\"\n",
              "            title=\"Suggest charts\"\n",
              "            style=\"display:none;\">\n",
              "\n",
              "<svg xmlns=\"http://www.w3.org/2000/svg\" height=\"24px\"viewBox=\"0 0 24 24\"\n",
              "     width=\"24px\">\n",
              "    <g>\n",
              "        <path d=\"M19 3H5c-1.1 0-2 .9-2 2v14c0 1.1.9 2 2 2h14c1.1 0 2-.9 2-2V5c0-1.1-.9-2-2-2zM9 17H7v-7h2v7zm4 0h-2V7h2v10zm4 0h-2v-4h2v4z\"/>\n",
              "    </g>\n",
              "</svg>\n",
              "  </button>\n",
              "\n",
              "<style>\n",
              "  .colab-df-quickchart {\n",
              "      --bg-color: #E8F0FE;\n",
              "      --fill-color: #1967D2;\n",
              "      --hover-bg-color: #E2EBFA;\n",
              "      --hover-fill-color: #174EA6;\n",
              "      --disabled-fill-color: #AAA;\n",
              "      --disabled-bg-color: #DDD;\n",
              "  }\n",
              "\n",
              "  [theme=dark] .colab-df-quickchart {\n",
              "      --bg-color: #3B4455;\n",
              "      --fill-color: #D2E3FC;\n",
              "      --hover-bg-color: #434B5C;\n",
              "      --hover-fill-color: #FFFFFF;\n",
              "      --disabled-bg-color: #3B4455;\n",
              "      --disabled-fill-color: #666;\n",
              "  }\n",
              "\n",
              "  .colab-df-quickchart {\n",
              "    background-color: var(--bg-color);\n",
              "    border: none;\n",
              "    border-radius: 50%;\n",
              "    cursor: pointer;\n",
              "    display: none;\n",
              "    fill: var(--fill-color);\n",
              "    height: 32px;\n",
              "    padding: 0;\n",
              "    width: 32px;\n",
              "  }\n",
              "\n",
              "  .colab-df-quickchart:hover {\n",
              "    background-color: var(--hover-bg-color);\n",
              "    box-shadow: 0 1px 2px rgba(60, 64, 67, 0.3), 0 1px 3px 1px rgba(60, 64, 67, 0.15);\n",
              "    fill: var(--button-hover-fill-color);\n",
              "  }\n",
              "\n",
              "  .colab-df-quickchart-complete:disabled,\n",
              "  .colab-df-quickchart-complete:disabled:hover {\n",
              "    background-color: var(--disabled-bg-color);\n",
              "    fill: var(--disabled-fill-color);\n",
              "    box-shadow: none;\n",
              "  }\n",
              "\n",
              "  .colab-df-spinner {\n",
              "    border: 2px solid var(--fill-color);\n",
              "    border-color: transparent;\n",
              "    border-bottom-color: var(--fill-color);\n",
              "    animation:\n",
              "      spin 1s steps(1) infinite;\n",
              "  }\n",
              "\n",
              "  @keyframes spin {\n",
              "    0% {\n",
              "      border-color: transparent;\n",
              "      border-bottom-color: var(--fill-color);\n",
              "      border-left-color: var(--fill-color);\n",
              "    }\n",
              "    20% {\n",
              "      border-color: transparent;\n",
              "      border-left-color: var(--fill-color);\n",
              "      border-top-color: var(--fill-color);\n",
              "    }\n",
              "    30% {\n",
              "      border-color: transparent;\n",
              "      border-left-color: var(--fill-color);\n",
              "      border-top-color: var(--fill-color);\n",
              "      border-right-color: var(--fill-color);\n",
              "    }\n",
              "    40% {\n",
              "      border-color: transparent;\n",
              "      border-right-color: var(--fill-color);\n",
              "      border-top-color: var(--fill-color);\n",
              "    }\n",
              "    60% {\n",
              "      border-color: transparent;\n",
              "      border-right-color: var(--fill-color);\n",
              "    }\n",
              "    80% {\n",
              "      border-color: transparent;\n",
              "      border-right-color: var(--fill-color);\n",
              "      border-bottom-color: var(--fill-color);\n",
              "    }\n",
              "    90% {\n",
              "      border-color: transparent;\n",
              "      border-bottom-color: var(--fill-color);\n",
              "    }\n",
              "  }\n",
              "</style>\n",
              "\n",
              "  <script>\n",
              "    async function quickchart(key) {\n",
              "      const quickchartButtonEl =\n",
              "        document.querySelector('#' + key + ' button');\n",
              "      quickchartButtonEl.disabled = true;  // To prevent multiple clicks.\n",
              "      quickchartButtonEl.classList.add('colab-df-spinner');\n",
              "      try {\n",
              "        const charts = await google.colab.kernel.invokeFunction(\n",
              "            'suggestCharts', [key], {});\n",
              "      } catch (error) {\n",
              "        console.error('Error during call to suggestCharts:', error);\n",
              "      }\n",
              "      quickchartButtonEl.classList.remove('colab-df-spinner');\n",
              "      quickchartButtonEl.classList.add('colab-df-quickchart-complete');\n",
              "    }\n",
              "    (() => {\n",
              "      let quickchartButtonEl =\n",
              "        document.querySelector('#df-d3aaef6d-d70d-4a6c-b38e-97de39237a0b button');\n",
              "      quickchartButtonEl.style.display =\n",
              "        google.colab.kernel.accessAllowed ? 'block' : 'none';\n",
              "    })();\n",
              "  </script>\n",
              "</div>\n",
              "\n",
              "    </div>\n",
              "  </div>\n"
            ]
          },
          "metadata": {},
          "execution_count": 92
        }
      ],
      "source": [
        "porcentaje_faltantes(df)"
      ]
    },
    {
      "cell_type": "markdown",
      "metadata": {
        "id": "KoRCZijb1r1d"
      },
      "source": [
        "Omitiremos \"production_companies\", \"genres\" y \"release_date\" por el alto porcentaje de valores faltantes.\n"
      ]
    },
    {
      "cell_type": "code",
      "execution_count": null,
      "metadata": {
        "id": "b79a839r4p8_"
      },
      "outputs": [],
      "source": [
        "df.drop(columns = ['production_companies', 'release_date'], axis= 1, inplace= True)"
      ]
    },
    {
      "cell_type": "markdown",
      "metadata": {
        "id": "tLabVjHo4zaI"
      },
      "source": [
        "\n",
        "A pesar de la presencia de datos faltantes, \"genres\" tiene un papel fundamental en el análisis de preferencias y tendencias cinematográficas."
      ]
    },
    {
      "cell_type": "code",
      "execution_count": null,
      "metadata": {
        "id": "_5QdrM6j41ex",
        "colab": {
          "base_uri": "https://localhost:8080/",
          "height": 112
        },
        "outputId": "11fa8ace-f1d9-4c19-9a2e-e90f41738dfe"
      },
      "outputs": [
        {
          "output_type": "execute_result",
          "data": {
            "text/plain": [
              "        Total de faltantes  Porcentaje\n",
              "title                   12    0.001214\n",
              "genres              360945   36.505996"
            ],
            "text/html": [
              "\n",
              "  <div id=\"df-2ef75faf-5972-41fe-b158-e1f6e15bb3bb\" class=\"colab-df-container\">\n",
              "    <div>\n",
              "<style scoped>\n",
              "    .dataframe tbody tr th:only-of-type {\n",
              "        vertical-align: middle;\n",
              "    }\n",
              "\n",
              "    .dataframe tbody tr th {\n",
              "        vertical-align: top;\n",
              "    }\n",
              "\n",
              "    .dataframe thead th {\n",
              "        text-align: right;\n",
              "    }\n",
              "</style>\n",
              "<table border=\"1\" class=\"dataframe\">\n",
              "  <thead>\n",
              "    <tr style=\"text-align: right;\">\n",
              "      <th></th>\n",
              "      <th>Total de faltantes</th>\n",
              "      <th>Porcentaje</th>\n",
              "    </tr>\n",
              "  </thead>\n",
              "  <tbody>\n",
              "    <tr>\n",
              "      <th>title</th>\n",
              "      <td>12</td>\n",
              "      <td>0.001214</td>\n",
              "    </tr>\n",
              "    <tr>\n",
              "      <th>genres</th>\n",
              "      <td>360945</td>\n",
              "      <td>36.505996</td>\n",
              "    </tr>\n",
              "  </tbody>\n",
              "</table>\n",
              "</div>\n",
              "    <div class=\"colab-df-buttons\">\n",
              "\n",
              "  <div class=\"colab-df-container\">\n",
              "    <button class=\"colab-df-convert\" onclick=\"convertToInteractive('df-2ef75faf-5972-41fe-b158-e1f6e15bb3bb')\"\n",
              "            title=\"Convert this dataframe to an interactive table.\"\n",
              "            style=\"display:none;\">\n",
              "\n",
              "  <svg xmlns=\"http://www.w3.org/2000/svg\" height=\"24px\" viewBox=\"0 -960 960 960\">\n",
              "    <path d=\"M120-120v-720h720v720H120Zm60-500h600v-160H180v160Zm220 220h160v-160H400v160Zm0 220h160v-160H400v160ZM180-400h160v-160H180v160Zm440 0h160v-160H620v160ZM180-180h160v-160H180v160Zm440 0h160v-160H620v160Z\"/>\n",
              "  </svg>\n",
              "    </button>\n",
              "\n",
              "  <style>\n",
              "    .colab-df-container {\n",
              "      display:flex;\n",
              "      gap: 12px;\n",
              "    }\n",
              "\n",
              "    .colab-df-convert {\n",
              "      background-color: #E8F0FE;\n",
              "      border: none;\n",
              "      border-radius: 50%;\n",
              "      cursor: pointer;\n",
              "      display: none;\n",
              "      fill: #1967D2;\n",
              "      height: 32px;\n",
              "      padding: 0 0 0 0;\n",
              "      width: 32px;\n",
              "    }\n",
              "\n",
              "    .colab-df-convert:hover {\n",
              "      background-color: #E2EBFA;\n",
              "      box-shadow: 0px 1px 2px rgba(60, 64, 67, 0.3), 0px 1px 3px 1px rgba(60, 64, 67, 0.15);\n",
              "      fill: #174EA6;\n",
              "    }\n",
              "\n",
              "    .colab-df-buttons div {\n",
              "      margin-bottom: 4px;\n",
              "    }\n",
              "\n",
              "    [theme=dark] .colab-df-convert {\n",
              "      background-color: #3B4455;\n",
              "      fill: #D2E3FC;\n",
              "    }\n",
              "\n",
              "    [theme=dark] .colab-df-convert:hover {\n",
              "      background-color: #434B5C;\n",
              "      box-shadow: 0px 1px 3px 1px rgba(0, 0, 0, 0.15);\n",
              "      filter: drop-shadow(0px 1px 2px rgba(0, 0, 0, 0.3));\n",
              "      fill: #FFFFFF;\n",
              "    }\n",
              "  </style>\n",
              "\n",
              "    <script>\n",
              "      const buttonEl =\n",
              "        document.querySelector('#df-2ef75faf-5972-41fe-b158-e1f6e15bb3bb button.colab-df-convert');\n",
              "      buttonEl.style.display =\n",
              "        google.colab.kernel.accessAllowed ? 'block' : 'none';\n",
              "\n",
              "      async function convertToInteractive(key) {\n",
              "        const element = document.querySelector('#df-2ef75faf-5972-41fe-b158-e1f6e15bb3bb');\n",
              "        const dataTable =\n",
              "          await google.colab.kernel.invokeFunction('convertToInteractive',\n",
              "                                                    [key], {});\n",
              "        if (!dataTable) return;\n",
              "\n",
              "        const docLinkHtml = 'Like what you see? Visit the ' +\n",
              "          '<a target=\"_blank\" href=https://colab.research.google.com/notebooks/data_table.ipynb>data table notebook</a>'\n",
              "          + ' to learn more about interactive tables.';\n",
              "        element.innerHTML = '';\n",
              "        dataTable['output_type'] = 'display_data';\n",
              "        await google.colab.output.renderOutput(dataTable, element);\n",
              "        const docLink = document.createElement('div');\n",
              "        docLink.innerHTML = docLinkHtml;\n",
              "        element.appendChild(docLink);\n",
              "      }\n",
              "    </script>\n",
              "  </div>\n",
              "\n",
              "\n",
              "<div id=\"df-922569b9-354e-48f0-a47d-9fc4aba69916\">\n",
              "  <button class=\"colab-df-quickchart\" onclick=\"quickchart('df-922569b9-354e-48f0-a47d-9fc4aba69916')\"\n",
              "            title=\"Suggest charts\"\n",
              "            style=\"display:none;\">\n",
              "\n",
              "<svg xmlns=\"http://www.w3.org/2000/svg\" height=\"24px\"viewBox=\"0 0 24 24\"\n",
              "     width=\"24px\">\n",
              "    <g>\n",
              "        <path d=\"M19 3H5c-1.1 0-2 .9-2 2v14c0 1.1.9 2 2 2h14c1.1 0 2-.9 2-2V5c0-1.1-.9-2-2-2zM9 17H7v-7h2v7zm4 0h-2V7h2v10zm4 0h-2v-4h2v4z\"/>\n",
              "    </g>\n",
              "</svg>\n",
              "  </button>\n",
              "\n",
              "<style>\n",
              "  .colab-df-quickchart {\n",
              "      --bg-color: #E8F0FE;\n",
              "      --fill-color: #1967D2;\n",
              "      --hover-bg-color: #E2EBFA;\n",
              "      --hover-fill-color: #174EA6;\n",
              "      --disabled-fill-color: #AAA;\n",
              "      --disabled-bg-color: #DDD;\n",
              "  }\n",
              "\n",
              "  [theme=dark] .colab-df-quickchart {\n",
              "      --bg-color: #3B4455;\n",
              "      --fill-color: #D2E3FC;\n",
              "      --hover-bg-color: #434B5C;\n",
              "      --hover-fill-color: #FFFFFF;\n",
              "      --disabled-bg-color: #3B4455;\n",
              "      --disabled-fill-color: #666;\n",
              "  }\n",
              "\n",
              "  .colab-df-quickchart {\n",
              "    background-color: var(--bg-color);\n",
              "    border: none;\n",
              "    border-radius: 50%;\n",
              "    cursor: pointer;\n",
              "    display: none;\n",
              "    fill: var(--fill-color);\n",
              "    height: 32px;\n",
              "    padding: 0;\n",
              "    width: 32px;\n",
              "  }\n",
              "\n",
              "  .colab-df-quickchart:hover {\n",
              "    background-color: var(--hover-bg-color);\n",
              "    box-shadow: 0 1px 2px rgba(60, 64, 67, 0.3), 0 1px 3px 1px rgba(60, 64, 67, 0.15);\n",
              "    fill: var(--button-hover-fill-color);\n",
              "  }\n",
              "\n",
              "  .colab-df-quickchart-complete:disabled,\n",
              "  .colab-df-quickchart-complete:disabled:hover {\n",
              "    background-color: var(--disabled-bg-color);\n",
              "    fill: var(--disabled-fill-color);\n",
              "    box-shadow: none;\n",
              "  }\n",
              "\n",
              "  .colab-df-spinner {\n",
              "    border: 2px solid var(--fill-color);\n",
              "    border-color: transparent;\n",
              "    border-bottom-color: var(--fill-color);\n",
              "    animation:\n",
              "      spin 1s steps(1) infinite;\n",
              "  }\n",
              "\n",
              "  @keyframes spin {\n",
              "    0% {\n",
              "      border-color: transparent;\n",
              "      border-bottom-color: var(--fill-color);\n",
              "      border-left-color: var(--fill-color);\n",
              "    }\n",
              "    20% {\n",
              "      border-color: transparent;\n",
              "      border-left-color: var(--fill-color);\n",
              "      border-top-color: var(--fill-color);\n",
              "    }\n",
              "    30% {\n",
              "      border-color: transparent;\n",
              "      border-left-color: var(--fill-color);\n",
              "      border-top-color: var(--fill-color);\n",
              "      border-right-color: var(--fill-color);\n",
              "    }\n",
              "    40% {\n",
              "      border-color: transparent;\n",
              "      border-right-color: var(--fill-color);\n",
              "      border-top-color: var(--fill-color);\n",
              "    }\n",
              "    60% {\n",
              "      border-color: transparent;\n",
              "      border-right-color: var(--fill-color);\n",
              "    }\n",
              "    80% {\n",
              "      border-color: transparent;\n",
              "      border-right-color: var(--fill-color);\n",
              "      border-bottom-color: var(--fill-color);\n",
              "    }\n",
              "    90% {\n",
              "      border-color: transparent;\n",
              "      border-bottom-color: var(--fill-color);\n",
              "    }\n",
              "  }\n",
              "</style>\n",
              "\n",
              "  <script>\n",
              "    async function quickchart(key) {\n",
              "      const quickchartButtonEl =\n",
              "        document.querySelector('#' + key + ' button');\n",
              "      quickchartButtonEl.disabled = true;  // To prevent multiple clicks.\n",
              "      quickchartButtonEl.classList.add('colab-df-spinner');\n",
              "      try {\n",
              "        const charts = await google.colab.kernel.invokeFunction(\n",
              "            'suggestCharts', [key], {});\n",
              "      } catch (error) {\n",
              "        console.error('Error during call to suggestCharts:', error);\n",
              "      }\n",
              "      quickchartButtonEl.classList.remove('colab-df-spinner');\n",
              "      quickchartButtonEl.classList.add('colab-df-quickchart-complete');\n",
              "    }\n",
              "    (() => {\n",
              "      let quickchartButtonEl =\n",
              "        document.querySelector('#df-922569b9-354e-48f0-a47d-9fc4aba69916 button');\n",
              "      quickchartButtonEl.style.display =\n",
              "        google.colab.kernel.accessAllowed ? 'block' : 'none';\n",
              "    })();\n",
              "  </script>\n",
              "</div>\n",
              "\n",
              "    </div>\n",
              "  </div>\n"
            ]
          },
          "metadata": {},
          "execution_count": 94
        }
      ],
      "source": [
        "porcentaje_faltantes(df)"
      ]
    },
    {
      "cell_type": "markdown",
      "metadata": {
        "id": "eiVafQwtB-9n"
      },
      "source": [
        "Contamos el número de valores duplicados en el DataFrame:\n"
      ]
    },
    {
      "cell_type": "code",
      "execution_count": null,
      "metadata": {
        "id": "el-Y9bg9E8SC",
        "colab": {
          "base_uri": "https://localhost:8080/"
        },
        "outputId": "6e91dbea-72db-42e7-903d-9a9c62f3b77b"
      },
      "outputs": [
        {
          "output_type": "execute_result",
          "data": {
            "text/plain": [
              "1593"
            ]
          },
          "metadata": {},
          "execution_count": 95
        }
      ],
      "source": [
        "df.duplicated().sum()"
      ]
    },
    {
      "cell_type": "markdown",
      "metadata": {
        "id": "P_KgH5sc58_X"
      },
      "source": [
        "Vamos a ver las primeras 5 filas duplicadas en nuestro DataFrame"
      ]
    },
    {
      "cell_type": "code",
      "execution_count": null,
      "metadata": {
        "id": "VXlTURcp5uEl",
        "colab": {
          "base_uri": "https://localhost:8080/",
          "height": 237
        },
        "outputId": "4bd1f4ef-7b54-467b-b04a-b75834f0cb55"
      },
      "outputs": [
        {
          "output_type": "execute_result",
          "data": {
            "text/plain": [
              "                           title  vote_average  vote_count  revenue  runtime  \\\n",
              "id                                                                             \n",
              "679602        La ley de la mafia           5.0           2        0        0   \n",
              "669045   Los chicos de la prensa           5.0           2        0        0   \n",
              "668892                 Clemencia           5.0           2        0        0   \n",
              "677500    El charro del misterio           5.0           2        0       80   \n",
              "1119666                 The Fall          10.0           1        0        1   \n",
              "\n",
              "         budget original_language  popularity genres  \n",
              "id                                                    \n",
              "679602        0                es         0.6    NaN  \n",
              "669045        0                en         0.6    NaN  \n",
              "668892        0                en         0.6    NaN  \n",
              "677500        0                es         0.6    NaN  \n",
              "1119666       0                en         0.6    NaN  "
            ],
            "text/html": [
              "\n",
              "  <div id=\"df-9ff3dfec-0dfa-4fcb-aa09-ecfc9d45c64c\" class=\"colab-df-container\">\n",
              "    <div>\n",
              "<style scoped>\n",
              "    .dataframe tbody tr th:only-of-type {\n",
              "        vertical-align: middle;\n",
              "    }\n",
              "\n",
              "    .dataframe tbody tr th {\n",
              "        vertical-align: top;\n",
              "    }\n",
              "\n",
              "    .dataframe thead th {\n",
              "        text-align: right;\n",
              "    }\n",
              "</style>\n",
              "<table border=\"1\" class=\"dataframe\">\n",
              "  <thead>\n",
              "    <tr style=\"text-align: right;\">\n",
              "      <th></th>\n",
              "      <th>title</th>\n",
              "      <th>vote_average</th>\n",
              "      <th>vote_count</th>\n",
              "      <th>revenue</th>\n",
              "      <th>runtime</th>\n",
              "      <th>budget</th>\n",
              "      <th>original_language</th>\n",
              "      <th>popularity</th>\n",
              "      <th>genres</th>\n",
              "    </tr>\n",
              "    <tr>\n",
              "      <th>id</th>\n",
              "      <th></th>\n",
              "      <th></th>\n",
              "      <th></th>\n",
              "      <th></th>\n",
              "      <th></th>\n",
              "      <th></th>\n",
              "      <th></th>\n",
              "      <th></th>\n",
              "      <th></th>\n",
              "    </tr>\n",
              "  </thead>\n",
              "  <tbody>\n",
              "    <tr>\n",
              "      <th>679602</th>\n",
              "      <td>La ley de la mafia</td>\n",
              "      <td>5.0</td>\n",
              "      <td>2</td>\n",
              "      <td>0</td>\n",
              "      <td>0</td>\n",
              "      <td>0</td>\n",
              "      <td>es</td>\n",
              "      <td>0.6</td>\n",
              "      <td>NaN</td>\n",
              "    </tr>\n",
              "    <tr>\n",
              "      <th>669045</th>\n",
              "      <td>Los chicos de la prensa</td>\n",
              "      <td>5.0</td>\n",
              "      <td>2</td>\n",
              "      <td>0</td>\n",
              "      <td>0</td>\n",
              "      <td>0</td>\n",
              "      <td>en</td>\n",
              "      <td>0.6</td>\n",
              "      <td>NaN</td>\n",
              "    </tr>\n",
              "    <tr>\n",
              "      <th>668892</th>\n",
              "      <td>Clemencia</td>\n",
              "      <td>5.0</td>\n",
              "      <td>2</td>\n",
              "      <td>0</td>\n",
              "      <td>0</td>\n",
              "      <td>0</td>\n",
              "      <td>en</td>\n",
              "      <td>0.6</td>\n",
              "      <td>NaN</td>\n",
              "    </tr>\n",
              "    <tr>\n",
              "      <th>677500</th>\n",
              "      <td>El charro del misterio</td>\n",
              "      <td>5.0</td>\n",
              "      <td>2</td>\n",
              "      <td>0</td>\n",
              "      <td>80</td>\n",
              "      <td>0</td>\n",
              "      <td>es</td>\n",
              "      <td>0.6</td>\n",
              "      <td>NaN</td>\n",
              "    </tr>\n",
              "    <tr>\n",
              "      <th>1119666</th>\n",
              "      <td>The Fall</td>\n",
              "      <td>10.0</td>\n",
              "      <td>1</td>\n",
              "      <td>0</td>\n",
              "      <td>1</td>\n",
              "      <td>0</td>\n",
              "      <td>en</td>\n",
              "      <td>0.6</td>\n",
              "      <td>NaN</td>\n",
              "    </tr>\n",
              "  </tbody>\n",
              "</table>\n",
              "</div>\n",
              "    <div class=\"colab-df-buttons\">\n",
              "\n",
              "  <div class=\"colab-df-container\">\n",
              "    <button class=\"colab-df-convert\" onclick=\"convertToInteractive('df-9ff3dfec-0dfa-4fcb-aa09-ecfc9d45c64c')\"\n",
              "            title=\"Convert this dataframe to an interactive table.\"\n",
              "            style=\"display:none;\">\n",
              "\n",
              "  <svg xmlns=\"http://www.w3.org/2000/svg\" height=\"24px\" viewBox=\"0 -960 960 960\">\n",
              "    <path d=\"M120-120v-720h720v720H120Zm60-500h600v-160H180v160Zm220 220h160v-160H400v160Zm0 220h160v-160H400v160ZM180-400h160v-160H180v160Zm440 0h160v-160H620v160ZM180-180h160v-160H180v160Zm440 0h160v-160H620v160Z\"/>\n",
              "  </svg>\n",
              "    </button>\n",
              "\n",
              "  <style>\n",
              "    .colab-df-container {\n",
              "      display:flex;\n",
              "      gap: 12px;\n",
              "    }\n",
              "\n",
              "    .colab-df-convert {\n",
              "      background-color: #E8F0FE;\n",
              "      border: none;\n",
              "      border-radius: 50%;\n",
              "      cursor: pointer;\n",
              "      display: none;\n",
              "      fill: #1967D2;\n",
              "      height: 32px;\n",
              "      padding: 0 0 0 0;\n",
              "      width: 32px;\n",
              "    }\n",
              "\n",
              "    .colab-df-convert:hover {\n",
              "      background-color: #E2EBFA;\n",
              "      box-shadow: 0px 1px 2px rgba(60, 64, 67, 0.3), 0px 1px 3px 1px rgba(60, 64, 67, 0.15);\n",
              "      fill: #174EA6;\n",
              "    }\n",
              "\n",
              "    .colab-df-buttons div {\n",
              "      margin-bottom: 4px;\n",
              "    }\n",
              "\n",
              "    [theme=dark] .colab-df-convert {\n",
              "      background-color: #3B4455;\n",
              "      fill: #D2E3FC;\n",
              "    }\n",
              "\n",
              "    [theme=dark] .colab-df-convert:hover {\n",
              "      background-color: #434B5C;\n",
              "      box-shadow: 0px 1px 3px 1px rgba(0, 0, 0, 0.15);\n",
              "      filter: drop-shadow(0px 1px 2px rgba(0, 0, 0, 0.3));\n",
              "      fill: #FFFFFF;\n",
              "    }\n",
              "  </style>\n",
              "\n",
              "    <script>\n",
              "      const buttonEl =\n",
              "        document.querySelector('#df-9ff3dfec-0dfa-4fcb-aa09-ecfc9d45c64c button.colab-df-convert');\n",
              "      buttonEl.style.display =\n",
              "        google.colab.kernel.accessAllowed ? 'block' : 'none';\n",
              "\n",
              "      async function convertToInteractive(key) {\n",
              "        const element = document.querySelector('#df-9ff3dfec-0dfa-4fcb-aa09-ecfc9d45c64c');\n",
              "        const dataTable =\n",
              "          await google.colab.kernel.invokeFunction('convertToInteractive',\n",
              "                                                    [key], {});\n",
              "        if (!dataTable) return;\n",
              "\n",
              "        const docLinkHtml = 'Like what you see? Visit the ' +\n",
              "          '<a target=\"_blank\" href=https://colab.research.google.com/notebooks/data_table.ipynb>data table notebook</a>'\n",
              "          + ' to learn more about interactive tables.';\n",
              "        element.innerHTML = '';\n",
              "        dataTable['output_type'] = 'display_data';\n",
              "        await google.colab.output.renderOutput(dataTable, element);\n",
              "        const docLink = document.createElement('div');\n",
              "        docLink.innerHTML = docLinkHtml;\n",
              "        element.appendChild(docLink);\n",
              "      }\n",
              "    </script>\n",
              "  </div>\n",
              "\n",
              "\n",
              "<div id=\"df-3361f1e9-45ae-4cc9-9582-1127c83b5f9a\">\n",
              "  <button class=\"colab-df-quickchart\" onclick=\"quickchart('df-3361f1e9-45ae-4cc9-9582-1127c83b5f9a')\"\n",
              "            title=\"Suggest charts\"\n",
              "            style=\"display:none;\">\n",
              "\n",
              "<svg xmlns=\"http://www.w3.org/2000/svg\" height=\"24px\"viewBox=\"0 0 24 24\"\n",
              "     width=\"24px\">\n",
              "    <g>\n",
              "        <path d=\"M19 3H5c-1.1 0-2 .9-2 2v14c0 1.1.9 2 2 2h14c1.1 0 2-.9 2-2V5c0-1.1-.9-2-2-2zM9 17H7v-7h2v7zm4 0h-2V7h2v10zm4 0h-2v-4h2v4z\"/>\n",
              "    </g>\n",
              "</svg>\n",
              "  </button>\n",
              "\n",
              "<style>\n",
              "  .colab-df-quickchart {\n",
              "      --bg-color: #E8F0FE;\n",
              "      --fill-color: #1967D2;\n",
              "      --hover-bg-color: #E2EBFA;\n",
              "      --hover-fill-color: #174EA6;\n",
              "      --disabled-fill-color: #AAA;\n",
              "      --disabled-bg-color: #DDD;\n",
              "  }\n",
              "\n",
              "  [theme=dark] .colab-df-quickchart {\n",
              "      --bg-color: #3B4455;\n",
              "      --fill-color: #D2E3FC;\n",
              "      --hover-bg-color: #434B5C;\n",
              "      --hover-fill-color: #FFFFFF;\n",
              "      --disabled-bg-color: #3B4455;\n",
              "      --disabled-fill-color: #666;\n",
              "  }\n",
              "\n",
              "  .colab-df-quickchart {\n",
              "    background-color: var(--bg-color);\n",
              "    border: none;\n",
              "    border-radius: 50%;\n",
              "    cursor: pointer;\n",
              "    display: none;\n",
              "    fill: var(--fill-color);\n",
              "    height: 32px;\n",
              "    padding: 0;\n",
              "    width: 32px;\n",
              "  }\n",
              "\n",
              "  .colab-df-quickchart:hover {\n",
              "    background-color: var(--hover-bg-color);\n",
              "    box-shadow: 0 1px 2px rgba(60, 64, 67, 0.3), 0 1px 3px 1px rgba(60, 64, 67, 0.15);\n",
              "    fill: var(--button-hover-fill-color);\n",
              "  }\n",
              "\n",
              "  .colab-df-quickchart-complete:disabled,\n",
              "  .colab-df-quickchart-complete:disabled:hover {\n",
              "    background-color: var(--disabled-bg-color);\n",
              "    fill: var(--disabled-fill-color);\n",
              "    box-shadow: none;\n",
              "  }\n",
              "\n",
              "  .colab-df-spinner {\n",
              "    border: 2px solid var(--fill-color);\n",
              "    border-color: transparent;\n",
              "    border-bottom-color: var(--fill-color);\n",
              "    animation:\n",
              "      spin 1s steps(1) infinite;\n",
              "  }\n",
              "\n",
              "  @keyframes spin {\n",
              "    0% {\n",
              "      border-color: transparent;\n",
              "      border-bottom-color: var(--fill-color);\n",
              "      border-left-color: var(--fill-color);\n",
              "    }\n",
              "    20% {\n",
              "      border-color: transparent;\n",
              "      border-left-color: var(--fill-color);\n",
              "      border-top-color: var(--fill-color);\n",
              "    }\n",
              "    30% {\n",
              "      border-color: transparent;\n",
              "      border-left-color: var(--fill-color);\n",
              "      border-top-color: var(--fill-color);\n",
              "      border-right-color: var(--fill-color);\n",
              "    }\n",
              "    40% {\n",
              "      border-color: transparent;\n",
              "      border-right-color: var(--fill-color);\n",
              "      border-top-color: var(--fill-color);\n",
              "    }\n",
              "    60% {\n",
              "      border-color: transparent;\n",
              "      border-right-color: var(--fill-color);\n",
              "    }\n",
              "    80% {\n",
              "      border-color: transparent;\n",
              "      border-right-color: var(--fill-color);\n",
              "      border-bottom-color: var(--fill-color);\n",
              "    }\n",
              "    90% {\n",
              "      border-color: transparent;\n",
              "      border-bottom-color: var(--fill-color);\n",
              "    }\n",
              "  }\n",
              "</style>\n",
              "\n",
              "  <script>\n",
              "    async function quickchart(key) {\n",
              "      const quickchartButtonEl =\n",
              "        document.querySelector('#' + key + ' button');\n",
              "      quickchartButtonEl.disabled = true;  // To prevent multiple clicks.\n",
              "      quickchartButtonEl.classList.add('colab-df-spinner');\n",
              "      try {\n",
              "        const charts = await google.colab.kernel.invokeFunction(\n",
              "            'suggestCharts', [key], {});\n",
              "      } catch (error) {\n",
              "        console.error('Error during call to suggestCharts:', error);\n",
              "      }\n",
              "      quickchartButtonEl.classList.remove('colab-df-spinner');\n",
              "      quickchartButtonEl.classList.add('colab-df-quickchart-complete');\n",
              "    }\n",
              "    (() => {\n",
              "      let quickchartButtonEl =\n",
              "        document.querySelector('#df-3361f1e9-45ae-4cc9-9582-1127c83b5f9a button');\n",
              "      quickchartButtonEl.style.display =\n",
              "        google.colab.kernel.accessAllowed ? 'block' : 'none';\n",
              "    })();\n",
              "  </script>\n",
              "</div>\n",
              "\n",
              "    </div>\n",
              "  </div>\n"
            ]
          },
          "metadata": {},
          "execution_count": 96
        }
      ],
      "source": [
        "df[df.duplicated()].head(5)"
      ]
    },
    {
      "cell_type": "markdown",
      "metadata": {
        "id": "e_Z8TLrWFI0D"
      },
      "source": [
        "Eliminamos los valores duplicados en nuestro DataFrame"
      ]
    },
    {
      "cell_type": "code",
      "execution_count": null,
      "metadata": {
        "id": "2Se6jcnEFGRR"
      },
      "outputs": [],
      "source": [
        "df.drop_duplicates(inplace=True)"
      ]
    },
    {
      "cell_type": "markdown",
      "metadata": {
        "id": "eztR0hqtFR6X"
      },
      "source": [
        "Contamos el número de valores duplicados en el DataFrame después de eliminar los duplicados"
      ]
    },
    {
      "cell_type": "code",
      "execution_count": null,
      "metadata": {
        "id": "7sSBbOveFUeU",
        "colab": {
          "base_uri": "https://localhost:8080/"
        },
        "outputId": "1242a4f1-1808-4907-f198-d805bcc55742"
      },
      "outputs": [
        {
          "output_type": "execute_result",
          "data": {
            "text/plain": [
              "0"
            ]
          },
          "metadata": {},
          "execution_count": 98
        }
      ],
      "source": [
        "df.duplicated().sum()"
      ]
    },
    {
      "cell_type": "code",
      "execution_count": null,
      "metadata": {
        "id": "ivk4sq8oCfzR",
        "colab": {
          "base_uri": "https://localhost:8080/"
        },
        "outputId": "4060bb04-003b-4b49-e146-1e7a32308419"
      },
      "outputs": [
        {
          "output_type": "execute_result",
          "data": {
            "text/plain": [
              "(987135, 9)"
            ]
          },
          "metadata": {},
          "execution_count": 99
        }
      ],
      "source": [
        "df.shape"
      ]
    },
    {
      "cell_type": "markdown",
      "metadata": {
        "id": "AvO0xmCXGIcT"
      },
      "source": [
        "Vamos a eliminar los valores faltantes de las demás columnas"
      ]
    },
    {
      "cell_type": "code",
      "execution_count": null,
      "metadata": {
        "id": "J0u3IFyiGGz6"
      },
      "outputs": [],
      "source": [
        "df = df.dropna()"
      ]
    },
    {
      "cell_type": "markdown",
      "metadata": {
        "id": "6A1Pb49Ze75x"
      },
      "source": [
        "## **Estimados de locación y variabilidad**"
      ]
    },
    {
      "cell_type": "markdown",
      "metadata": {
        "id": "grzCVlphG3qv"
      },
      "source": [
        "Vamos a realizar un análisis estadístico de nuestros datos con el objetivo de identificar posibles valores atípicos (outliers) y comprender las distribuciones presentes en nuestro conjunto de datos. Este proceso nos permitirá obtener insights sobre la variabilidad y la forma general de las variables clave, mejorando así nuestra comprensión de la naturaleza de los datos."
      ]
    },
    {
      "cell_type": "code",
      "execution_count": null,
      "metadata": {
        "id": "44ea-hbV5Vi2",
        "colab": {
          "base_uri": "https://localhost:8080/",
          "height": 300
        },
        "outputId": "5f3eed96-6d0b-4e7b-d2fe-2a3062ab7399"
      },
      "outputs": [
        {
          "output_type": "execute_result",
          "data": {
            "text/plain": [
              "        vote_average     vote_count       revenue        runtime  \\\n",
              "count  627476.000000  627476.000000  6.274760e+05  627476.000000   \n",
              "mean        2.766815      33.985489  1.159506e+06      55.092410   \n",
              "std         3.257595     428.085174  2.215484e+07      60.981812   \n",
              "min         0.000000       0.000000  0.000000e+00       0.000000   \n",
              "25%         0.000000       0.000000  0.000000e+00       6.000000   \n",
              "50%         0.000000       0.000000  0.000000e+00      57.000000   \n",
              "75%         6.000000       3.000000  0.000000e+00      91.000000   \n",
              "max        10.000000   34495.000000  3.000000e+09   14400.000000   \n",
              "\n",
              "             budget     popularity  \n",
              "count  6.274760e+05  627476.000000  \n",
              "mean   4.551248e+05       1.782361  \n",
              "std    6.231794e+06      10.076872  \n",
              "min    0.000000e+00       0.000000  \n",
              "25%    0.000000e+00       0.600000  \n",
              "50%    0.000000e+00       0.618000  \n",
              "75%    0.000000e+00       1.336000  \n",
              "max    8.880000e+08    2994.357000  "
            ],
            "text/html": [
              "\n",
              "  <div id=\"df-7ab0a241-2c57-45d3-af81-d8522927c00c\" class=\"colab-df-container\">\n",
              "    <div>\n",
              "<style scoped>\n",
              "    .dataframe tbody tr th:only-of-type {\n",
              "        vertical-align: middle;\n",
              "    }\n",
              "\n",
              "    .dataframe tbody tr th {\n",
              "        vertical-align: top;\n",
              "    }\n",
              "\n",
              "    .dataframe thead th {\n",
              "        text-align: right;\n",
              "    }\n",
              "</style>\n",
              "<table border=\"1\" class=\"dataframe\">\n",
              "  <thead>\n",
              "    <tr style=\"text-align: right;\">\n",
              "      <th></th>\n",
              "      <th>vote_average</th>\n",
              "      <th>vote_count</th>\n",
              "      <th>revenue</th>\n",
              "      <th>runtime</th>\n",
              "      <th>budget</th>\n",
              "      <th>popularity</th>\n",
              "    </tr>\n",
              "  </thead>\n",
              "  <tbody>\n",
              "    <tr>\n",
              "      <th>count</th>\n",
              "      <td>627476.000000</td>\n",
              "      <td>627476.000000</td>\n",
              "      <td>6.274760e+05</td>\n",
              "      <td>627476.000000</td>\n",
              "      <td>6.274760e+05</td>\n",
              "      <td>627476.000000</td>\n",
              "    </tr>\n",
              "    <tr>\n",
              "      <th>mean</th>\n",
              "      <td>2.766815</td>\n",
              "      <td>33.985489</td>\n",
              "      <td>1.159506e+06</td>\n",
              "      <td>55.092410</td>\n",
              "      <td>4.551248e+05</td>\n",
              "      <td>1.782361</td>\n",
              "    </tr>\n",
              "    <tr>\n",
              "      <th>std</th>\n",
              "      <td>3.257595</td>\n",
              "      <td>428.085174</td>\n",
              "      <td>2.215484e+07</td>\n",
              "      <td>60.981812</td>\n",
              "      <td>6.231794e+06</td>\n",
              "      <td>10.076872</td>\n",
              "    </tr>\n",
              "    <tr>\n",
              "      <th>min</th>\n",
              "      <td>0.000000</td>\n",
              "      <td>0.000000</td>\n",
              "      <td>0.000000e+00</td>\n",
              "      <td>0.000000</td>\n",
              "      <td>0.000000e+00</td>\n",
              "      <td>0.000000</td>\n",
              "    </tr>\n",
              "    <tr>\n",
              "      <th>25%</th>\n",
              "      <td>0.000000</td>\n",
              "      <td>0.000000</td>\n",
              "      <td>0.000000e+00</td>\n",
              "      <td>6.000000</td>\n",
              "      <td>0.000000e+00</td>\n",
              "      <td>0.600000</td>\n",
              "    </tr>\n",
              "    <tr>\n",
              "      <th>50%</th>\n",
              "      <td>0.000000</td>\n",
              "      <td>0.000000</td>\n",
              "      <td>0.000000e+00</td>\n",
              "      <td>57.000000</td>\n",
              "      <td>0.000000e+00</td>\n",
              "      <td>0.618000</td>\n",
              "    </tr>\n",
              "    <tr>\n",
              "      <th>75%</th>\n",
              "      <td>6.000000</td>\n",
              "      <td>3.000000</td>\n",
              "      <td>0.000000e+00</td>\n",
              "      <td>91.000000</td>\n",
              "      <td>0.000000e+00</td>\n",
              "      <td>1.336000</td>\n",
              "    </tr>\n",
              "    <tr>\n",
              "      <th>max</th>\n",
              "      <td>10.000000</td>\n",
              "      <td>34495.000000</td>\n",
              "      <td>3.000000e+09</td>\n",
              "      <td>14400.000000</td>\n",
              "      <td>8.880000e+08</td>\n",
              "      <td>2994.357000</td>\n",
              "    </tr>\n",
              "  </tbody>\n",
              "</table>\n",
              "</div>\n",
              "    <div class=\"colab-df-buttons\">\n",
              "\n",
              "  <div class=\"colab-df-container\">\n",
              "    <button class=\"colab-df-convert\" onclick=\"convertToInteractive('df-7ab0a241-2c57-45d3-af81-d8522927c00c')\"\n",
              "            title=\"Convert this dataframe to an interactive table.\"\n",
              "            style=\"display:none;\">\n",
              "\n",
              "  <svg xmlns=\"http://www.w3.org/2000/svg\" height=\"24px\" viewBox=\"0 -960 960 960\">\n",
              "    <path d=\"M120-120v-720h720v720H120Zm60-500h600v-160H180v160Zm220 220h160v-160H400v160Zm0 220h160v-160H400v160ZM180-400h160v-160H180v160Zm440 0h160v-160H620v160ZM180-180h160v-160H180v160Zm440 0h160v-160H620v160Z\"/>\n",
              "  </svg>\n",
              "    </button>\n",
              "\n",
              "  <style>\n",
              "    .colab-df-container {\n",
              "      display:flex;\n",
              "      gap: 12px;\n",
              "    }\n",
              "\n",
              "    .colab-df-convert {\n",
              "      background-color: #E8F0FE;\n",
              "      border: none;\n",
              "      border-radius: 50%;\n",
              "      cursor: pointer;\n",
              "      display: none;\n",
              "      fill: #1967D2;\n",
              "      height: 32px;\n",
              "      padding: 0 0 0 0;\n",
              "      width: 32px;\n",
              "    }\n",
              "\n",
              "    .colab-df-convert:hover {\n",
              "      background-color: #E2EBFA;\n",
              "      box-shadow: 0px 1px 2px rgba(60, 64, 67, 0.3), 0px 1px 3px 1px rgba(60, 64, 67, 0.15);\n",
              "      fill: #174EA6;\n",
              "    }\n",
              "\n",
              "    .colab-df-buttons div {\n",
              "      margin-bottom: 4px;\n",
              "    }\n",
              "\n",
              "    [theme=dark] .colab-df-convert {\n",
              "      background-color: #3B4455;\n",
              "      fill: #D2E3FC;\n",
              "    }\n",
              "\n",
              "    [theme=dark] .colab-df-convert:hover {\n",
              "      background-color: #434B5C;\n",
              "      box-shadow: 0px 1px 3px 1px rgba(0, 0, 0, 0.15);\n",
              "      filter: drop-shadow(0px 1px 2px rgba(0, 0, 0, 0.3));\n",
              "      fill: #FFFFFF;\n",
              "    }\n",
              "  </style>\n",
              "\n",
              "    <script>\n",
              "      const buttonEl =\n",
              "        document.querySelector('#df-7ab0a241-2c57-45d3-af81-d8522927c00c button.colab-df-convert');\n",
              "      buttonEl.style.display =\n",
              "        google.colab.kernel.accessAllowed ? 'block' : 'none';\n",
              "\n",
              "      async function convertToInteractive(key) {\n",
              "        const element = document.querySelector('#df-7ab0a241-2c57-45d3-af81-d8522927c00c');\n",
              "        const dataTable =\n",
              "          await google.colab.kernel.invokeFunction('convertToInteractive',\n",
              "                                                    [key], {});\n",
              "        if (!dataTable) return;\n",
              "\n",
              "        const docLinkHtml = 'Like what you see? Visit the ' +\n",
              "          '<a target=\"_blank\" href=https://colab.research.google.com/notebooks/data_table.ipynb>data table notebook</a>'\n",
              "          + ' to learn more about interactive tables.';\n",
              "        element.innerHTML = '';\n",
              "        dataTable['output_type'] = 'display_data';\n",
              "        await google.colab.output.renderOutput(dataTable, element);\n",
              "        const docLink = document.createElement('div');\n",
              "        docLink.innerHTML = docLinkHtml;\n",
              "        element.appendChild(docLink);\n",
              "      }\n",
              "    </script>\n",
              "  </div>\n",
              "\n",
              "\n",
              "<div id=\"df-9827a4bb-4078-49c0-9346-c53b430c6bae\">\n",
              "  <button class=\"colab-df-quickchart\" onclick=\"quickchart('df-9827a4bb-4078-49c0-9346-c53b430c6bae')\"\n",
              "            title=\"Suggest charts\"\n",
              "            style=\"display:none;\">\n",
              "\n",
              "<svg xmlns=\"http://www.w3.org/2000/svg\" height=\"24px\"viewBox=\"0 0 24 24\"\n",
              "     width=\"24px\">\n",
              "    <g>\n",
              "        <path d=\"M19 3H5c-1.1 0-2 .9-2 2v14c0 1.1.9 2 2 2h14c1.1 0 2-.9 2-2V5c0-1.1-.9-2-2-2zM9 17H7v-7h2v7zm4 0h-2V7h2v10zm4 0h-2v-4h2v4z\"/>\n",
              "    </g>\n",
              "</svg>\n",
              "  </button>\n",
              "\n",
              "<style>\n",
              "  .colab-df-quickchart {\n",
              "      --bg-color: #E8F0FE;\n",
              "      --fill-color: #1967D2;\n",
              "      --hover-bg-color: #E2EBFA;\n",
              "      --hover-fill-color: #174EA6;\n",
              "      --disabled-fill-color: #AAA;\n",
              "      --disabled-bg-color: #DDD;\n",
              "  }\n",
              "\n",
              "  [theme=dark] .colab-df-quickchart {\n",
              "      --bg-color: #3B4455;\n",
              "      --fill-color: #D2E3FC;\n",
              "      --hover-bg-color: #434B5C;\n",
              "      --hover-fill-color: #FFFFFF;\n",
              "      --disabled-bg-color: #3B4455;\n",
              "      --disabled-fill-color: #666;\n",
              "  }\n",
              "\n",
              "  .colab-df-quickchart {\n",
              "    background-color: var(--bg-color);\n",
              "    border: none;\n",
              "    border-radius: 50%;\n",
              "    cursor: pointer;\n",
              "    display: none;\n",
              "    fill: var(--fill-color);\n",
              "    height: 32px;\n",
              "    padding: 0;\n",
              "    width: 32px;\n",
              "  }\n",
              "\n",
              "  .colab-df-quickchart:hover {\n",
              "    background-color: var(--hover-bg-color);\n",
              "    box-shadow: 0 1px 2px rgba(60, 64, 67, 0.3), 0 1px 3px 1px rgba(60, 64, 67, 0.15);\n",
              "    fill: var(--button-hover-fill-color);\n",
              "  }\n",
              "\n",
              "  .colab-df-quickchart-complete:disabled,\n",
              "  .colab-df-quickchart-complete:disabled:hover {\n",
              "    background-color: var(--disabled-bg-color);\n",
              "    fill: var(--disabled-fill-color);\n",
              "    box-shadow: none;\n",
              "  }\n",
              "\n",
              "  .colab-df-spinner {\n",
              "    border: 2px solid var(--fill-color);\n",
              "    border-color: transparent;\n",
              "    border-bottom-color: var(--fill-color);\n",
              "    animation:\n",
              "      spin 1s steps(1) infinite;\n",
              "  }\n",
              "\n",
              "  @keyframes spin {\n",
              "    0% {\n",
              "      border-color: transparent;\n",
              "      border-bottom-color: var(--fill-color);\n",
              "      border-left-color: var(--fill-color);\n",
              "    }\n",
              "    20% {\n",
              "      border-color: transparent;\n",
              "      border-left-color: var(--fill-color);\n",
              "      border-top-color: var(--fill-color);\n",
              "    }\n",
              "    30% {\n",
              "      border-color: transparent;\n",
              "      border-left-color: var(--fill-color);\n",
              "      border-top-color: var(--fill-color);\n",
              "      border-right-color: var(--fill-color);\n",
              "    }\n",
              "    40% {\n",
              "      border-color: transparent;\n",
              "      border-right-color: var(--fill-color);\n",
              "      border-top-color: var(--fill-color);\n",
              "    }\n",
              "    60% {\n",
              "      border-color: transparent;\n",
              "      border-right-color: var(--fill-color);\n",
              "    }\n",
              "    80% {\n",
              "      border-color: transparent;\n",
              "      border-right-color: var(--fill-color);\n",
              "      border-bottom-color: var(--fill-color);\n",
              "    }\n",
              "    90% {\n",
              "      border-color: transparent;\n",
              "      border-bottom-color: var(--fill-color);\n",
              "    }\n",
              "  }\n",
              "</style>\n",
              "\n",
              "  <script>\n",
              "    async function quickchart(key) {\n",
              "      const quickchartButtonEl =\n",
              "        document.querySelector('#' + key + ' button');\n",
              "      quickchartButtonEl.disabled = true;  // To prevent multiple clicks.\n",
              "      quickchartButtonEl.classList.add('colab-df-spinner');\n",
              "      try {\n",
              "        const charts = await google.colab.kernel.invokeFunction(\n",
              "            'suggestCharts', [key], {});\n",
              "      } catch (error) {\n",
              "        console.error('Error during call to suggestCharts:', error);\n",
              "      }\n",
              "      quickchartButtonEl.classList.remove('colab-df-spinner');\n",
              "      quickchartButtonEl.classList.add('colab-df-quickchart-complete');\n",
              "    }\n",
              "    (() => {\n",
              "      let quickchartButtonEl =\n",
              "        document.querySelector('#df-9827a4bb-4078-49c0-9346-c53b430c6bae button');\n",
              "      quickchartButtonEl.style.display =\n",
              "        google.colab.kernel.accessAllowed ? 'block' : 'none';\n",
              "    })();\n",
              "  </script>\n",
              "</div>\n",
              "\n",
              "    </div>\n",
              "  </div>\n"
            ]
          },
          "metadata": {},
          "execution_count": 101
        }
      ],
      "source": [
        "df.describe()"
      ]
    },
    {
      "cell_type": "markdown",
      "metadata": {
        "id": "SGzd2hmQGXzV"
      },
      "source": [
        "Además, incluimos el resultado de la mediana para cada una de las variables numéricas."
      ]
    },
    {
      "cell_type": "code",
      "execution_count": null,
      "metadata": {
        "id": "7MgpBjdeGlDK",
        "colab": {
          "base_uri": "https://localhost:8080/"
        },
        "outputId": "41b727af-a119-476c-bc16-af66eab6ff65"
      },
      "outputs": [
        {
          "output_type": "execute_result",
          "data": {
            "text/plain": [
              "vote_average     0.000\n",
              "vote_count       0.000\n",
              "revenue          0.000\n",
              "runtime         57.000\n",
              "budget           0.000\n",
              "popularity       0.618\n",
              "dtype: float64"
            ]
          },
          "metadata": {},
          "execution_count": 102
        }
      ],
      "source": [
        "mediana = (df[['vote_average', 'vote_count', 'revenue', 'runtime', 'budget', 'popularity']].median())\n",
        "mediana"
      ]
    },
    {
      "cell_type": "markdown",
      "metadata": {
        "id": "pmiDyi0bK0Rv"
      },
      "source": [
        "Por último, calculamos la moda de cada una de las variables numéricas."
      ]
    },
    {
      "cell_type": "code",
      "execution_count": null,
      "metadata": {
        "id": "YQRXvZOTK05-",
        "colab": {
          "base_uri": "https://localhost:8080/",
          "height": 89
        },
        "outputId": "bf53b719-03bf-447e-e184-2f621ca0ee01"
      },
      "outputs": [
        {
          "output_type": "execute_result",
          "data": {
            "text/plain": [
              "   vote_average  vote_count  revenue  runtime  budget  popularity\n",
              "0           0.0           0        0        0       0         0.6"
            ],
            "text/html": [
              "\n",
              "  <div id=\"df-25bc0cd4-6dd9-4067-9d96-40ff339e7e7a\" class=\"colab-df-container\">\n",
              "    <div>\n",
              "<style scoped>\n",
              "    .dataframe tbody tr th:only-of-type {\n",
              "        vertical-align: middle;\n",
              "    }\n",
              "\n",
              "    .dataframe tbody tr th {\n",
              "        vertical-align: top;\n",
              "    }\n",
              "\n",
              "    .dataframe thead th {\n",
              "        text-align: right;\n",
              "    }\n",
              "</style>\n",
              "<table border=\"1\" class=\"dataframe\">\n",
              "  <thead>\n",
              "    <tr style=\"text-align: right;\">\n",
              "      <th></th>\n",
              "      <th>vote_average</th>\n",
              "      <th>vote_count</th>\n",
              "      <th>revenue</th>\n",
              "      <th>runtime</th>\n",
              "      <th>budget</th>\n",
              "      <th>popularity</th>\n",
              "    </tr>\n",
              "  </thead>\n",
              "  <tbody>\n",
              "    <tr>\n",
              "      <th>0</th>\n",
              "      <td>0.0</td>\n",
              "      <td>0</td>\n",
              "      <td>0</td>\n",
              "      <td>0</td>\n",
              "      <td>0</td>\n",
              "      <td>0.6</td>\n",
              "    </tr>\n",
              "  </tbody>\n",
              "</table>\n",
              "</div>\n",
              "    <div class=\"colab-df-buttons\">\n",
              "\n",
              "  <div class=\"colab-df-container\">\n",
              "    <button class=\"colab-df-convert\" onclick=\"convertToInteractive('df-25bc0cd4-6dd9-4067-9d96-40ff339e7e7a')\"\n",
              "            title=\"Convert this dataframe to an interactive table.\"\n",
              "            style=\"display:none;\">\n",
              "\n",
              "  <svg xmlns=\"http://www.w3.org/2000/svg\" height=\"24px\" viewBox=\"0 -960 960 960\">\n",
              "    <path d=\"M120-120v-720h720v720H120Zm60-500h600v-160H180v160Zm220 220h160v-160H400v160Zm0 220h160v-160H400v160ZM180-400h160v-160H180v160Zm440 0h160v-160H620v160ZM180-180h160v-160H180v160Zm440 0h160v-160H620v160Z\"/>\n",
              "  </svg>\n",
              "    </button>\n",
              "\n",
              "  <style>\n",
              "    .colab-df-container {\n",
              "      display:flex;\n",
              "      gap: 12px;\n",
              "    }\n",
              "\n",
              "    .colab-df-convert {\n",
              "      background-color: #E8F0FE;\n",
              "      border: none;\n",
              "      border-radius: 50%;\n",
              "      cursor: pointer;\n",
              "      display: none;\n",
              "      fill: #1967D2;\n",
              "      height: 32px;\n",
              "      padding: 0 0 0 0;\n",
              "      width: 32px;\n",
              "    }\n",
              "\n",
              "    .colab-df-convert:hover {\n",
              "      background-color: #E2EBFA;\n",
              "      box-shadow: 0px 1px 2px rgba(60, 64, 67, 0.3), 0px 1px 3px 1px rgba(60, 64, 67, 0.15);\n",
              "      fill: #174EA6;\n",
              "    }\n",
              "\n",
              "    .colab-df-buttons div {\n",
              "      margin-bottom: 4px;\n",
              "    }\n",
              "\n",
              "    [theme=dark] .colab-df-convert {\n",
              "      background-color: #3B4455;\n",
              "      fill: #D2E3FC;\n",
              "    }\n",
              "\n",
              "    [theme=dark] .colab-df-convert:hover {\n",
              "      background-color: #434B5C;\n",
              "      box-shadow: 0px 1px 3px 1px rgba(0, 0, 0, 0.15);\n",
              "      filter: drop-shadow(0px 1px 2px rgba(0, 0, 0, 0.3));\n",
              "      fill: #FFFFFF;\n",
              "    }\n",
              "  </style>\n",
              "\n",
              "    <script>\n",
              "      const buttonEl =\n",
              "        document.querySelector('#df-25bc0cd4-6dd9-4067-9d96-40ff339e7e7a button.colab-df-convert');\n",
              "      buttonEl.style.display =\n",
              "        google.colab.kernel.accessAllowed ? 'block' : 'none';\n",
              "\n",
              "      async function convertToInteractive(key) {\n",
              "        const element = document.querySelector('#df-25bc0cd4-6dd9-4067-9d96-40ff339e7e7a');\n",
              "        const dataTable =\n",
              "          await google.colab.kernel.invokeFunction('convertToInteractive',\n",
              "                                                    [key], {});\n",
              "        if (!dataTable) return;\n",
              "\n",
              "        const docLinkHtml = 'Like what you see? Visit the ' +\n",
              "          '<a target=\"_blank\" href=https://colab.research.google.com/notebooks/data_table.ipynb>data table notebook</a>'\n",
              "          + ' to learn more about interactive tables.';\n",
              "        element.innerHTML = '';\n",
              "        dataTable['output_type'] = 'display_data';\n",
              "        await google.colab.output.renderOutput(dataTable, element);\n",
              "        const docLink = document.createElement('div');\n",
              "        docLink.innerHTML = docLinkHtml;\n",
              "        element.appendChild(docLink);\n",
              "      }\n",
              "    </script>\n",
              "  </div>\n",
              "\n",
              "\n",
              "  <div id=\"id_5aae375e-3640-493b-8d06-cb42a7532968\">\n",
              "    <style>\n",
              "      .colab-df-generate {\n",
              "        background-color: #E8F0FE;\n",
              "        border: none;\n",
              "        border-radius: 50%;\n",
              "        cursor: pointer;\n",
              "        display: none;\n",
              "        fill: #1967D2;\n",
              "        height: 32px;\n",
              "        padding: 0 0 0 0;\n",
              "        width: 32px;\n",
              "      }\n",
              "\n",
              "      .colab-df-generate:hover {\n",
              "        background-color: #E2EBFA;\n",
              "        box-shadow: 0px 1px 2px rgba(60, 64, 67, 0.3), 0px 1px 3px 1px rgba(60, 64, 67, 0.15);\n",
              "        fill: #174EA6;\n",
              "      }\n",
              "\n",
              "      [theme=dark] .colab-df-generate {\n",
              "        background-color: #3B4455;\n",
              "        fill: #D2E3FC;\n",
              "      }\n",
              "\n",
              "      [theme=dark] .colab-df-generate:hover {\n",
              "        background-color: #434B5C;\n",
              "        box-shadow: 0px 1px 3px 1px rgba(0, 0, 0, 0.15);\n",
              "        filter: drop-shadow(0px 1px 2px rgba(0, 0, 0, 0.3));\n",
              "        fill: #FFFFFF;\n",
              "      }\n",
              "    </style>\n",
              "    <button class=\"colab-df-generate\" onclick=\"generateWithVariable('moda')\"\n",
              "            title=\"Generate code using this dataframe.\"\n",
              "            style=\"display:none;\">\n",
              "\n",
              "  <svg xmlns=\"http://www.w3.org/2000/svg\" height=\"24px\"viewBox=\"0 0 24 24\"\n",
              "       width=\"24px\">\n",
              "    <path d=\"M7,19H8.4L18.45,9,17,7.55,7,17.6ZM5,21V16.75L18.45,3.32a2,2,0,0,1,2.83,0l1.4,1.43a1.91,1.91,0,0,1,.58,1.4,1.91,1.91,0,0,1-.58,1.4L9.25,21ZM18.45,9,17,7.55Zm-12,3A5.31,5.31,0,0,0,4.9,8.1,5.31,5.31,0,0,0,1,6.5,5.31,5.31,0,0,0,4.9,4.9,5.31,5.31,0,0,0,6.5,1,5.31,5.31,0,0,0,8.1,4.9,5.31,5.31,0,0,0,12,6.5,5.46,5.46,0,0,0,6.5,12Z\"/>\n",
              "  </svg>\n",
              "    </button>\n",
              "    <script>\n",
              "      (() => {\n",
              "      const buttonEl =\n",
              "        document.querySelector('#id_5aae375e-3640-493b-8d06-cb42a7532968 button.colab-df-generate');\n",
              "      buttonEl.style.display =\n",
              "        google.colab.kernel.accessAllowed ? 'block' : 'none';\n",
              "\n",
              "      buttonEl.onclick = () => {\n",
              "        google.colab.notebook.generateWithVariable('moda');\n",
              "      }\n",
              "      })();\n",
              "    </script>\n",
              "  </div>\n",
              "\n",
              "    </div>\n",
              "  </div>\n"
            ]
          },
          "metadata": {},
          "execution_count": 103
        }
      ],
      "source": [
        "moda = (df[['vote_average', 'vote_count', 'revenue', 'runtime', 'budget', 'popularity']].mode())\n",
        "moda"
      ]
    },
    {
      "cell_type": "markdown",
      "metadata": {
        "id": "pB3rxL9kLUJl"
      },
      "source": [
        "Al analizar estas dos últimas medidas de tendencia central, vemos que no nos proporcionan información relevante. Esto se debe a que los datos están sesgados hacia el valor 0. En otros palabras, la mayoría de observaciones de las variables numéricas se concentrar alrededor del 0, lo cual será explicado más adelante, considerando los valores atípicos."
      ]
    },
    {
      "cell_type": "markdown",
      "metadata": {
        "id": "nRnL8XdjOOFJ"
      },
      "source": [
        "###**Matriz de correlación**"
      ]
    },
    {
      "cell_type": "markdown",
      "metadata": {
        "id": "6mnUxy7at2DF"
      },
      "source": [
        "Vamos a realizar nuestra matriz de correlación para identificar las correlaciones moderadas o fuertes."
      ]
    },
    {
      "cell_type": "markdown",
      "metadata": {
        "id": "kMqKTFYyvJyo"
      },
      "source": [
        "Encontramos útil enfocarnos en las relaciones con correlaciones más fuertes para obtener los insights más significaticos en nuestro análisis.\n",
        "\n",
        "Además, calcularemos los coeficientes de Pearson para examinar la correlación lineal entre las variables de nuestro conjunto de datos. En esta sección, nos centraremos exclusivamente en las variables numéricas, que son las adecuadas para este tipo de análisis."
      ]
    },
    {
      "cell_type": "code",
      "execution_count": null,
      "metadata": {
        "id": "IELVxPOlqLkF",
        "colab": {
          "base_uri": "https://localhost:8080/",
          "height": 237
        },
        "outputId": "f795e6f8-1b17-4615-f963-e0b115fb432b"
      },
      "outputs": [
        {
          "output_type": "execute_result",
          "data": {
            "text/plain": [
              "              vote_average  vote_count   revenue   runtime    budget  \\\n",
              "vote_average      1.000000    0.099089  0.063334  0.229559  0.075712   \n",
              "vote_count        0.099089    1.000000  0.756493  0.072073  0.619807   \n",
              "revenue           0.063334    0.756493  1.000000  0.052784  0.720952   \n",
              "runtime           0.229559    0.072073  0.052784  1.000000  0.067562   \n",
              "budget            0.075712    0.619807  0.720952  0.067562  1.000000   \n",
              "popularity        0.110802    0.253475  0.246981  0.079075  0.261470   \n",
              "\n",
              "              popularity  \n",
              "vote_average    0.110802  \n",
              "vote_count      0.253475  \n",
              "revenue         0.246981  \n",
              "runtime         0.079075  \n",
              "budget          0.261470  \n",
              "popularity      1.000000  "
            ],
            "text/html": [
              "\n",
              "  <div id=\"df-85acf0fa-f49a-4906-a6aa-645f421af5d9\" class=\"colab-df-container\">\n",
              "    <div>\n",
              "<style scoped>\n",
              "    .dataframe tbody tr th:only-of-type {\n",
              "        vertical-align: middle;\n",
              "    }\n",
              "\n",
              "    .dataframe tbody tr th {\n",
              "        vertical-align: top;\n",
              "    }\n",
              "\n",
              "    .dataframe thead th {\n",
              "        text-align: right;\n",
              "    }\n",
              "</style>\n",
              "<table border=\"1\" class=\"dataframe\">\n",
              "  <thead>\n",
              "    <tr style=\"text-align: right;\">\n",
              "      <th></th>\n",
              "      <th>vote_average</th>\n",
              "      <th>vote_count</th>\n",
              "      <th>revenue</th>\n",
              "      <th>runtime</th>\n",
              "      <th>budget</th>\n",
              "      <th>popularity</th>\n",
              "    </tr>\n",
              "  </thead>\n",
              "  <tbody>\n",
              "    <tr>\n",
              "      <th>vote_average</th>\n",
              "      <td>1.000000</td>\n",
              "      <td>0.099089</td>\n",
              "      <td>0.063334</td>\n",
              "      <td>0.229559</td>\n",
              "      <td>0.075712</td>\n",
              "      <td>0.110802</td>\n",
              "    </tr>\n",
              "    <tr>\n",
              "      <th>vote_count</th>\n",
              "      <td>0.099089</td>\n",
              "      <td>1.000000</td>\n",
              "      <td>0.756493</td>\n",
              "      <td>0.072073</td>\n",
              "      <td>0.619807</td>\n",
              "      <td>0.253475</td>\n",
              "    </tr>\n",
              "    <tr>\n",
              "      <th>revenue</th>\n",
              "      <td>0.063334</td>\n",
              "      <td>0.756493</td>\n",
              "      <td>1.000000</td>\n",
              "      <td>0.052784</td>\n",
              "      <td>0.720952</td>\n",
              "      <td>0.246981</td>\n",
              "    </tr>\n",
              "    <tr>\n",
              "      <th>runtime</th>\n",
              "      <td>0.229559</td>\n",
              "      <td>0.072073</td>\n",
              "      <td>0.052784</td>\n",
              "      <td>1.000000</td>\n",
              "      <td>0.067562</td>\n",
              "      <td>0.079075</td>\n",
              "    </tr>\n",
              "    <tr>\n",
              "      <th>budget</th>\n",
              "      <td>0.075712</td>\n",
              "      <td>0.619807</td>\n",
              "      <td>0.720952</td>\n",
              "      <td>0.067562</td>\n",
              "      <td>1.000000</td>\n",
              "      <td>0.261470</td>\n",
              "    </tr>\n",
              "    <tr>\n",
              "      <th>popularity</th>\n",
              "      <td>0.110802</td>\n",
              "      <td>0.253475</td>\n",
              "      <td>0.246981</td>\n",
              "      <td>0.079075</td>\n",
              "      <td>0.261470</td>\n",
              "      <td>1.000000</td>\n",
              "    </tr>\n",
              "  </tbody>\n",
              "</table>\n",
              "</div>\n",
              "    <div class=\"colab-df-buttons\">\n",
              "\n",
              "  <div class=\"colab-df-container\">\n",
              "    <button class=\"colab-df-convert\" onclick=\"convertToInteractive('df-85acf0fa-f49a-4906-a6aa-645f421af5d9')\"\n",
              "            title=\"Convert this dataframe to an interactive table.\"\n",
              "            style=\"display:none;\">\n",
              "\n",
              "  <svg xmlns=\"http://www.w3.org/2000/svg\" height=\"24px\" viewBox=\"0 -960 960 960\">\n",
              "    <path d=\"M120-120v-720h720v720H120Zm60-500h600v-160H180v160Zm220 220h160v-160H400v160Zm0 220h160v-160H400v160ZM180-400h160v-160H180v160Zm440 0h160v-160H620v160ZM180-180h160v-160H180v160Zm440 0h160v-160H620v160Z\"/>\n",
              "  </svg>\n",
              "    </button>\n",
              "\n",
              "  <style>\n",
              "    .colab-df-container {\n",
              "      display:flex;\n",
              "      gap: 12px;\n",
              "    }\n",
              "\n",
              "    .colab-df-convert {\n",
              "      background-color: #E8F0FE;\n",
              "      border: none;\n",
              "      border-radius: 50%;\n",
              "      cursor: pointer;\n",
              "      display: none;\n",
              "      fill: #1967D2;\n",
              "      height: 32px;\n",
              "      padding: 0 0 0 0;\n",
              "      width: 32px;\n",
              "    }\n",
              "\n",
              "    .colab-df-convert:hover {\n",
              "      background-color: #E2EBFA;\n",
              "      box-shadow: 0px 1px 2px rgba(60, 64, 67, 0.3), 0px 1px 3px 1px rgba(60, 64, 67, 0.15);\n",
              "      fill: #174EA6;\n",
              "    }\n",
              "\n",
              "    .colab-df-buttons div {\n",
              "      margin-bottom: 4px;\n",
              "    }\n",
              "\n",
              "    [theme=dark] .colab-df-convert {\n",
              "      background-color: #3B4455;\n",
              "      fill: #D2E3FC;\n",
              "    }\n",
              "\n",
              "    [theme=dark] .colab-df-convert:hover {\n",
              "      background-color: #434B5C;\n",
              "      box-shadow: 0px 1px 3px 1px rgba(0, 0, 0, 0.15);\n",
              "      filter: drop-shadow(0px 1px 2px rgba(0, 0, 0, 0.3));\n",
              "      fill: #FFFFFF;\n",
              "    }\n",
              "  </style>\n",
              "\n",
              "    <script>\n",
              "      const buttonEl =\n",
              "        document.querySelector('#df-85acf0fa-f49a-4906-a6aa-645f421af5d9 button.colab-df-convert');\n",
              "      buttonEl.style.display =\n",
              "        google.colab.kernel.accessAllowed ? 'block' : 'none';\n",
              "\n",
              "      async function convertToInteractive(key) {\n",
              "        const element = document.querySelector('#df-85acf0fa-f49a-4906-a6aa-645f421af5d9');\n",
              "        const dataTable =\n",
              "          await google.colab.kernel.invokeFunction('convertToInteractive',\n",
              "                                                    [key], {});\n",
              "        if (!dataTable) return;\n",
              "\n",
              "        const docLinkHtml = 'Like what you see? Visit the ' +\n",
              "          '<a target=\"_blank\" href=https://colab.research.google.com/notebooks/data_table.ipynb>data table notebook</a>'\n",
              "          + ' to learn more about interactive tables.';\n",
              "        element.innerHTML = '';\n",
              "        dataTable['output_type'] = 'display_data';\n",
              "        await google.colab.output.renderOutput(dataTable, element);\n",
              "        const docLink = document.createElement('div');\n",
              "        docLink.innerHTML = docLinkHtml;\n",
              "        element.appendChild(docLink);\n",
              "      }\n",
              "    </script>\n",
              "  </div>\n",
              "\n",
              "\n",
              "<div id=\"df-60899802-47d7-4a07-8c34-4b9ea8be4b69\">\n",
              "  <button class=\"colab-df-quickchart\" onclick=\"quickchart('df-60899802-47d7-4a07-8c34-4b9ea8be4b69')\"\n",
              "            title=\"Suggest charts\"\n",
              "            style=\"display:none;\">\n",
              "\n",
              "<svg xmlns=\"http://www.w3.org/2000/svg\" height=\"24px\"viewBox=\"0 0 24 24\"\n",
              "     width=\"24px\">\n",
              "    <g>\n",
              "        <path d=\"M19 3H5c-1.1 0-2 .9-2 2v14c0 1.1.9 2 2 2h14c1.1 0 2-.9 2-2V5c0-1.1-.9-2-2-2zM9 17H7v-7h2v7zm4 0h-2V7h2v10zm4 0h-2v-4h2v4z\"/>\n",
              "    </g>\n",
              "</svg>\n",
              "  </button>\n",
              "\n",
              "<style>\n",
              "  .colab-df-quickchart {\n",
              "      --bg-color: #E8F0FE;\n",
              "      --fill-color: #1967D2;\n",
              "      --hover-bg-color: #E2EBFA;\n",
              "      --hover-fill-color: #174EA6;\n",
              "      --disabled-fill-color: #AAA;\n",
              "      --disabled-bg-color: #DDD;\n",
              "  }\n",
              "\n",
              "  [theme=dark] .colab-df-quickchart {\n",
              "      --bg-color: #3B4455;\n",
              "      --fill-color: #D2E3FC;\n",
              "      --hover-bg-color: #434B5C;\n",
              "      --hover-fill-color: #FFFFFF;\n",
              "      --disabled-bg-color: #3B4455;\n",
              "      --disabled-fill-color: #666;\n",
              "  }\n",
              "\n",
              "  .colab-df-quickchart {\n",
              "    background-color: var(--bg-color);\n",
              "    border: none;\n",
              "    border-radius: 50%;\n",
              "    cursor: pointer;\n",
              "    display: none;\n",
              "    fill: var(--fill-color);\n",
              "    height: 32px;\n",
              "    padding: 0;\n",
              "    width: 32px;\n",
              "  }\n",
              "\n",
              "  .colab-df-quickchart:hover {\n",
              "    background-color: var(--hover-bg-color);\n",
              "    box-shadow: 0 1px 2px rgba(60, 64, 67, 0.3), 0 1px 3px 1px rgba(60, 64, 67, 0.15);\n",
              "    fill: var(--button-hover-fill-color);\n",
              "  }\n",
              "\n",
              "  .colab-df-quickchart-complete:disabled,\n",
              "  .colab-df-quickchart-complete:disabled:hover {\n",
              "    background-color: var(--disabled-bg-color);\n",
              "    fill: var(--disabled-fill-color);\n",
              "    box-shadow: none;\n",
              "  }\n",
              "\n",
              "  .colab-df-spinner {\n",
              "    border: 2px solid var(--fill-color);\n",
              "    border-color: transparent;\n",
              "    border-bottom-color: var(--fill-color);\n",
              "    animation:\n",
              "      spin 1s steps(1) infinite;\n",
              "  }\n",
              "\n",
              "  @keyframes spin {\n",
              "    0% {\n",
              "      border-color: transparent;\n",
              "      border-bottom-color: var(--fill-color);\n",
              "      border-left-color: var(--fill-color);\n",
              "    }\n",
              "    20% {\n",
              "      border-color: transparent;\n",
              "      border-left-color: var(--fill-color);\n",
              "      border-top-color: var(--fill-color);\n",
              "    }\n",
              "    30% {\n",
              "      border-color: transparent;\n",
              "      border-left-color: var(--fill-color);\n",
              "      border-top-color: var(--fill-color);\n",
              "      border-right-color: var(--fill-color);\n",
              "    }\n",
              "    40% {\n",
              "      border-color: transparent;\n",
              "      border-right-color: var(--fill-color);\n",
              "      border-top-color: var(--fill-color);\n",
              "    }\n",
              "    60% {\n",
              "      border-color: transparent;\n",
              "      border-right-color: var(--fill-color);\n",
              "    }\n",
              "    80% {\n",
              "      border-color: transparent;\n",
              "      border-right-color: var(--fill-color);\n",
              "      border-bottom-color: var(--fill-color);\n",
              "    }\n",
              "    90% {\n",
              "      border-color: transparent;\n",
              "      border-bottom-color: var(--fill-color);\n",
              "    }\n",
              "  }\n",
              "</style>\n",
              "\n",
              "  <script>\n",
              "    async function quickchart(key) {\n",
              "      const quickchartButtonEl =\n",
              "        document.querySelector('#' + key + ' button');\n",
              "      quickchartButtonEl.disabled = true;  // To prevent multiple clicks.\n",
              "      quickchartButtonEl.classList.add('colab-df-spinner');\n",
              "      try {\n",
              "        const charts = await google.colab.kernel.invokeFunction(\n",
              "            'suggestCharts', [key], {});\n",
              "      } catch (error) {\n",
              "        console.error('Error during call to suggestCharts:', error);\n",
              "      }\n",
              "      quickchartButtonEl.classList.remove('colab-df-spinner');\n",
              "      quickchartButtonEl.classList.add('colab-df-quickchart-complete');\n",
              "    }\n",
              "    (() => {\n",
              "      let quickchartButtonEl =\n",
              "        document.querySelector('#df-60899802-47d7-4a07-8c34-4b9ea8be4b69 button');\n",
              "      quickchartButtonEl.style.display =\n",
              "        google.colab.kernel.accessAllowed ? 'block' : 'none';\n",
              "    })();\n",
              "  </script>\n",
              "</div>\n",
              "\n",
              "    </div>\n",
              "  </div>\n"
            ]
          },
          "metadata": {},
          "execution_count": 104
        }
      ],
      "source": [
        "df.corr(numeric_only=True)"
      ]
    },
    {
      "cell_type": "markdown",
      "metadata": {
        "id": "L029ijlkIp40"
      },
      "source": [
        "En primera instancia, podemos observar que existe una diagonal de valores iguales a 1. Esto se debe a que la variable se relaciona consigo misma en esa celda.\n",
        "\n",
        "\n",
        "Para facilitar la interpretación de los coeficientes de Pearson obtenidos, usaremos un mapa de calor."
      ]
    },
    {
      "cell_type": "code",
      "execution_count": null,
      "metadata": {
        "id": "3K7Ga9ZqrGgq",
        "colab": {
          "base_uri": "https://localhost:8080/",
          "height": 720
        },
        "outputId": "6a9e7d5f-2345-4cf8-ebe0-2392cc488db3"
      },
      "outputs": [
        {
          "output_type": "display_data",
          "data": {
            "text/plain": [
              "<Figure size 1000x800 with 2 Axes>"
            ],
            "image/png": "[encoded data removed]"
          },
          "metadata": {}
        }
      ],
      "source": [
        "def mov_map_cor(df):\n",
        "    corr_matriz = df.corr(numeric_only=True)\n",
        "\n",
        "    plt.figure(figsize=(10, 8))\n",
        "    sns.heatmap(corr_matriz, annot=True, fmt=\".2f\", cmap=\"BuPu\")\n",
        "    plt.title(\"Mapa de calor\", fontsize=16)\n",
        "    plt.xlabel(\"Variables Numéricas\")\n",
        "    plt.ylabel(\"Variables Numéricas\")\n",
        "    plt.show()\n",
        "\n",
        "mov_map_cor(df)"
      ]
    },
    {
      "cell_type": "markdown",
      "metadata": {
        "id": "fLts_zs9D4-J"
      },
      "source": [
        "A partir de estos valores, podemos afirmar que existen **2 correlaciones positivas fuertes**, de las que podemos concluir:\n",
        "\n",
        "* **`Correlación entre 'vote_count' y 'revenue':`** Existe una correlación positiva fuerte (0.756493), indicando que **películas con mayor número de votos tienden a tener ingresos más altos**. Esto sugiere que la popularidad puede influir significativamente en el rendimiento económico.\n",
        "\n",
        "* **`Correlación entre 'budget' y 'revenue':`** Con un coeficiente de 0.720952, se observa una correlación positiva fuerte entre el presupuesto de una película y sus ingresos. Esto sugiere que **invertir más en la producción de una película puede resultar en mayores ganancias**.\n",
        "\n",
        "Además, identificamos **1 correlación positiva moderada**, de la que se puede interpretar:\n",
        "\n",
        "* **`Correlación entre 'budget' y 'vote_count':`** Hay una correlación positiva moderada (0.619807), lo que podría indicar que **las películas con mayores presupuestos tienden a recibir más votos**, posiblemente debido a una mayor atención o expectativas del público.\n",
        "\n",
        "Asimismo, se observan **2 correlaciones positivas débiles**, de las cuales podemos concluir:\n",
        "\n",
        "* **`Correlación entre 'vote_average' y 'runtime':`** Existe una correlación positiva débil (0.229559), lo que sugiere que **las películas de mayor duración podrían tener una mejor calificación promedio**, quizás debido a una narrativa más desarrollada o producción más detallada.\n",
        "\n",
        "* **`Correlación entre 'popularity' y 'budget':`** Con un coeficiente de 0.261470, hay una correlación positiva débil, indicando que **películas con mayores presupuestos pueden ser más populares**, posiblemente debido a campañas de marketing más amplias o elenco de mayor renombre.\n",
        "\n",
        "Finalmente, contamos con múltimples **correlaciones casi nulas**, las cuales no son relevantes para nuestro análisis."
      ]
    },
    {
      "cell_type": "markdown",
      "metadata": {
        "id": "LQUQjLEhu57S"
      },
      "source": [
        "Procederemos a generar gráficas de dispersión, también conocidas como scatterplots, con el fin de visualizar la relación entre las variables mencionadas."
      ]
    },
    {
      "cell_type": "code",
      "execution_count": null,
      "metadata": {
        "id": "ZmUQm-AErQYy",
        "colab": {
          "base_uri": "https://localhost:8080/",
          "height": 472
        },
        "outputId": "eac35097-00d9-45b8-8a5e-a734555aa565"
      },
      "outputs": [
        {
          "output_type": "display_data",
          "data": {
            "text/plain": [
              "<Figure size 640x480 with 1 Axes>"
            ],
            "image/png": "[encoded data removed]"
          },
          "metadata": {}
        }
      ],
      "source": [
        "sns.scatterplot(data=df, x='vote_count', y='revenue')\n",
        "plt.xlabel('Número de Votos')\n",
        "plt.ylabel('Ingresos')\n",
        "plt.title('Relación entre Número de Votos e Ingresos')\n",
        "plt.show()"
      ]
    },
    {
      "cell_type": "markdown",
      "metadata": {
        "id": "QaadM7lZx5qH"
      },
      "source": [
        "Existe una correlación positiva moderadamente fuerte de 0.756493 entre la cantidad de votos recibidos y los ingresos generados por la película. Esto sugiere que películas con más votos tienden a tener mayores ingresos."
      ]
    },
    {
      "cell_type": "code",
      "execution_count": null,
      "metadata": {
        "id": "amSEeUz0rUO0",
        "colab": {
          "base_uri": "https://localhost:8080/",
          "height": 472
        },
        "outputId": "709a83c3-e0e3-4121-ab56-90d6c05ce3fe"
      },
      "outputs": [
        {
          "output_type": "display_data",
          "data": {
            "text/plain": [
              "<Figure size 640x480 with 1 Axes>"
            ],
            "image/png": "[encoded data removed]"
          },
          "metadata": {}
        }
      ],
      "source": [
        "sns.scatterplot(data=df, x='revenue', y='budget')\n",
        "plt.xlabel('Ingresos')\n",
        "plt.ylabel('Presupuesto')\n",
        "plt.title('Relación entre Ingresos y Presupuesto')\n",
        "plt.show()"
      ]
    },
    {
      "cell_type": "markdown",
      "metadata": {
        "id": "7Nt27l8WyQj7"
      },
      "source": [
        "Vamos a crear un DataFrame para eliminar los valores iguales a 0"
      ]
    },
    {
      "cell_type": "code",
      "execution_count": null,
      "metadata": {
        "id": "BcbgR7qUtX6X"
      },
      "outputs": [],
      "source": [
        "df_no_zeros = df[df['revenue'] > 0]"
      ]
    },
    {
      "cell_type": "code",
      "execution_count": null,
      "metadata": {
        "id": "sVhNrKcYtjk5",
        "colab": {
          "base_uri": "https://localhost:8080/"
        },
        "outputId": "8f26c953-def0-4a3d-a24d-e4b480fa9512"
      },
      "outputs": [
        {
          "output_type": "execute_result",
          "data": {
            "text/plain": [
              "0.7466530754439169"
            ]
          },
          "metadata": {},
          "execution_count": 109
        }
      ],
      "source": [
        "df_no_zeros['revenue'].corr(df_no_zeros['budget'])"
      ]
    },
    {
      "cell_type": "markdown",
      "metadata": {
        "id": "6DuOAHvyynSN"
      },
      "source": [
        "Se creará un DataFrame, denominado \"df_no_zeros\", mediante la exclusión de los valores de \"revenue\" iguales a cero del DataFrame original. Posteriormente, se calculará la correlación entre la columna \"revenue\" y \"budget\" en el DataFrame modificado."
      ]
    },
    {
      "cell_type": "code",
      "execution_count": null,
      "metadata": {
        "id": "ZW5-s_cutoJ2",
        "colab": {
          "base_uri": "https://localhost:8080/",
          "height": 472
        },
        "outputId": "7c54fb24-6ba1-422f-dbc1-41dc93628ffb"
      },
      "outputs": [
        {
          "output_type": "display_data",
          "data": {
            "text/plain": [
              "<Figure size 640x480 with 1 Axes>"
            ],
            "image/png": "[encoded data removed]"
          },
          "metadata": {}
        }
      ],
      "source": [
        "sns.scatterplot(data=df, x=df_no_zeros['revenue'], y=df_no_zeros['budget'])\n",
        "plt.xlabel('Ingresos')\n",
        "plt.ylabel('Presupuesto')\n",
        "plt.title('Relación entre Ingresos y Presupuesto')\n",
        "plt.show()"
      ]
    },
    {
      "cell_type": "markdown",
      "metadata": {
        "id": "gREjrjBfyIqE"
      },
      "source": [
        " Vemos que hay una correlación positiva moderadamente fuerte de 0.720952 entre los ingresos generados y el presupuesto de la película. Esto indica que películas con mayores presupuestos tienden a generar más ingresos."
      ]
    },
    {
      "cell_type": "markdown",
      "metadata": {
        "id": "7u_eUzfifDuS"
      },
      "source": [
        "## **Eliminación de valores atípicos**\n",
        "\n",
        "Para la eliminacion de los valores atipicos es necesario utilizar la herramienta de boxplot, este hace una grafica de caja a partir de datos quartinales.\n",
        "Para ello vamos a utilizar las siguientes librerias de Phyton:\n",
        "\n",
        "\n",
        "\n",
        "* **`import seaborn as sns':`** Visualiza los datos de Phyton desarrollada sobre matplotlib.\n",
        "\n",
        "* **`import matplotlib.pyplot as plt':`**  Esta especializada en la creación de gráficos en dos dimensiones.\n",
        "\n",
        "\n"
      ]
    },
    {
      "cell_type": "markdown",
      "source": [
        "Paso 1: Realizaremos una grafica a partir de los datos de vote_average, vote_count, revenue y runtime para determinar los quantiles, antes de la eliminación de los valores atipicos como despues de la eliminacion de dichos valores.\n"
      ],
      "metadata": {
        "id": "BV7JLSeLeDQa"
      }
    },
    {
      "cell_type": "code",
      "source": [
        "plt.figure(figsize=(15, 8))\n",
        "plt.suptitle('Boxplots antes de la Eliminación de Valores Atípicos', fontsize=16)\n",
        "sns.boxplot(data=df, orient='h', palette='Set3')\n",
        "plt.show()\n",
        "\n",
        "df_limpio = df.copy()\n",
        "for columna in df_limpio.select_dtypes(include='number').columns:\n",
        "    Q1 = df_limpio[columna].quantile(0.25)\n",
        "    Q3 = df_limpio[columna].quantile(0.75)\n",
        "    IQR = Q3 - Q1\n",
        "    filtro = (df_limpio[columna] >= (Q1 - 1.5 * IQR)) & (df_limpio[columna] <= (Q3 + 1.5 * IQR))\n",
        "    df_limpio = df_limpio.loc[filtro]\n",
        "\n",
        "plt.figure(figsize=(15, 8))\n",
        "plt.suptitle('Boxplot despues de eliminar valores atipicos', fontsize=16)\n",
        "sns.boxplot(data=df_limpio, orient='h', palette='Set3')\n",
        "plt.show()"
      ],
      "metadata": {
        "colab": {
          "base_uri": "https://localhost:8080/",
          "height": 1000
        },
        "id": "dh168fuoGCIf",
        "outputId": "d8486aec-941b-47e5-a705-66ee769b8ec0"
      },
      "execution_count": null,
      "outputs": [
        {
          "output_type": "display_data",
          "data": {
            "text/plain": [
              "<Figure size 1500x800 with 1 Axes>"
            ],
            "image/png": "[encoded data removed]"
          },
          "metadata": {}
        },
        {
          "output_type": "display_data",
          "data": {
            "text/plain": [
              "<Figure size 1500x800 with 1 Axes>"
            ],
            "image/png": "[encoded data removed]"
          },
          "metadata": {}
        }
      ]
    },
    {
      "cell_type": "markdown",
      "source": [
        "Vamos a entender que los valores atipicos son aquellos datos desproporcionado en los resultados estadísticos, como la **`media`**, que nos puede dar una mala interpretacion de los datos\n",
        "\n",
        "El resultado obtenido en los diagramas tras eliminar los valores atipicos, permite entender la mediana de las variables por ejemplo la media de runtime es de 25 quantiles.\n",
        "El uso de esta herramienta tambien nos permite la identificacion de que datos hay un valor de 0 como es el caso de **budget**, **renueve** y en cierta vista los datos de **popularity**.\n",
        "No obstante tambien podemos interpretar la variabilidad de **vote_count** y **vote _average** que esto se relaizara a continuaciòn.\n",
        "\n"
      ],
      "metadata": {
        "id": "h_9bIUrqekjz"
      }
    },
    {
      "cell_type": "markdown",
      "source": [
        "Calcularemos la diferencia entre la puntuación máxima y mínima en nuestros datos seleccionados, lo que nos dará una idea de la variabilidad en las puntuaciones promedio de tus datos."
      ],
      "metadata": {
        "id": "PMEWYCDMq_ah"
      }
    },
    {
      "cell_type": "code",
      "source": [
        "puntuacion_promedio = df['vote_average']\n",
        "puntuacion_promedio.max() - puntuacion_promedio.min()"
      ],
      "metadata": {
        "colab": {
          "base_uri": "https://localhost:8080/"
        },
        "id": "warSJqRsqTLa",
        "outputId": "e057211a-1404-4a7d-84c2-e75de04f6956"
      },
      "execution_count": null,
      "outputs": [
        {
          "output_type": "execute_result",
          "data": {
            "text/plain": [
              "10.0"
            ]
          },
          "metadata": {},
          "execution_count": 112
        }
      ]
    },
    {
      "cell_type": "code",
      "source": [
        "total_de_votos = df['vote_count']\n",
        "total_de_votos.max() - total_de_votos.min()"
      ],
      "metadata": {
        "id": "AruBN6zqq3eF",
        "colab": {
          "base_uri": "https://localhost:8080/"
        },
        "outputId": "921c713e-87da-4953-dda0-dbeb15cbc122"
      },
      "execution_count": null,
      "outputs": [
        {
          "output_type": "execute_result",
          "data": {
            "text/plain": [
              "34495"
            ]
          },
          "metadata": {},
          "execution_count": 113
        }
      ]
    },
    {
      "cell_type": "markdown",
      "source": [
        "Calcularemos la diferencia entre la puntuación máxima y mínima en nuestros datos seleccionados, lo que nos dará una idea de la variabilidad en las puntuaciones promedio de tus datos."
      ],
      "metadata": {
        "id": "Cu-j_GH-rJN0"
      }
    },
    {
      "cell_type": "code",
      "source": [
        "pd.cut(puntuacion_promedio, 10)"
      ],
      "metadata": {
        "id": "7WRQ6RYIrPQn",
        "colab": {
          "base_uri": "https://localhost:8080/"
        },
        "outputId": "bdf12c83-ad50-4ced-9024-d563020bc9a6"
      },
      "execution_count": null,
      "outputs": [
        {
          "output_type": "execute_result",
          "data": {
            "text/plain": [
              "id\n",
              "27205        (8.0, 9.0]\n",
              "157336       (8.0, 9.0]\n",
              "155          (8.0, 9.0]\n",
              "19995        (7.0, 8.0]\n",
              "24428        (7.0, 8.0]\n",
              "               ...     \n",
              "657831     (-0.01, 1.0]\n",
              "657832     (-0.01, 1.0]\n",
              "657835     (-0.01, 1.0]\n",
              "657836     (-0.01, 1.0]\n",
              "1240227    (-0.01, 1.0]\n",
              "Name: vote_average, Length: 627476, dtype: category\n",
              "Categories (10, interval[float64, right]): [(-0.01, 1.0] < (1.0, 2.0] < (2.0, 3.0] < (3.0, 4.0] < ... <\n",
              "                                            (6.0, 7.0] < (7.0, 8.0] < (8.0, 9.0] < (9.0, 10.0]]"
            ]
          },
          "metadata": {},
          "execution_count": 114
        }
      ]
    },
    {
      "cell_type": "code",
      "source": [
        "pd.cut(total_de_votos, 10)"
      ],
      "metadata": {
        "id": "X9BrkXE6rXoT",
        "colab": {
          "base_uri": "https://localhost:8080/"
        },
        "outputId": "b645f043-6031-4d12-fb90-cbce5b16c448"
      },
      "execution_count": null,
      "outputs": [
        {
          "output_type": "execute_result",
          "data": {
            "text/plain": [
              "id\n",
              "27205      (31045.5, 34495.0]\n",
              "157336     (31045.5, 34495.0]\n",
              "155        (27596.0, 31045.5]\n",
              "19995      (27596.0, 31045.5]\n",
              "24428      (27596.0, 31045.5]\n",
              "                  ...        \n",
              "657831      (-34.495, 3449.5]\n",
              "657832      (-34.495, 3449.5]\n",
              "657835      (-34.495, 3449.5]\n",
              "657836      (-34.495, 3449.5]\n",
              "1240227     (-34.495, 3449.5]\n",
              "Name: vote_count, Length: 627476, dtype: category\n",
              "Categories (10, interval[float64, right]): [(-34.495, 3449.5] < (3449.5, 6899.0] < (6899.0, 10348.5] <\n",
              "                                            (10348.5, 13798.0] ... (20697.0, 24146.5] <\n",
              "                                            (24146.5, 27596.0] < (27596.0, 31045.5] <\n",
              "                                            (31045.5, 34495.0]]"
            ]
          },
          "metadata": {},
          "execution_count": 115
        }
      ]
    },
    {
      "cell_type": "markdown",
      "source": [
        "Los intervalos más anchos, como (6.0, 7.0] o (7.0, 8.0], pueden indicar que hay una cantidad significativa de observaciones en esas rangos específicos de puntuaciones promedio. Los intervalos más estrechos, como (9.0, 10.0], podrían sugerir una concentración más específica de observaciones en puntuaciones promedio más altas."
      ],
      "metadata": {
        "id": "naYlv2E8rURh"
      }
    },
    {
      "cell_type": "markdown",
      "source": [
        "Por consiguiente segmentaremos nuestros datos"
      ],
      "metadata": {
        "id": "ipezn9hbdMRX"
      }
    },
    {
      "cell_type": "code",
      "source": [
        "segmentos = pd.cut(puntuacion_promedio, 10)\n",
        "\n",
        "df['vote_count'].groupby(segmentos).count()"
      ],
      "metadata": {
        "id": "GwoauImUrfdA",
        "colab": {
          "base_uri": "https://localhost:8080/"
        },
        "outputId": "a4cb826a-92dc-456a-fa23-071f0df09412"
      },
      "execution_count": null,
      "outputs": [
        {
          "output_type": "execute_result",
          "data": {
            "text/plain": [
              "vote_average\n",
              "(-0.01, 1.0]    344377\n",
              "(1.0, 2.0]        8169\n",
              "(2.0, 3.0]        7307\n",
              "(3.0, 4.0]       17979\n",
              "(4.0, 5.0]       42796\n",
              "(5.0, 6.0]       70303\n",
              "(6.0, 7.0]       69992\n",
              "(7.0, 8.0]       38173\n",
              "(8.0, 9.0]       10812\n",
              "(9.0, 10.0]      17568\n",
              "Name: vote_count, dtype: int64"
            ]
          },
          "metadata": {},
          "execution_count": 116
        }
      ]
    },
    {
      "cell_type": "code",
      "source": [
        "segmentos = pd.cut(puntuacion_promedio, 10)\n",
        "\n",
        "df['vote_average'].groupby(segmentos).count()"
      ],
      "metadata": {
        "id": "jcvBMD1TrhaY",
        "colab": {
          "base_uri": "https://localhost:8080/"
        },
        "outputId": "7d3ee7ce-93a2-48a2-a213-8dcb77e41f08"
      },
      "execution_count": null,
      "outputs": [
        {
          "output_type": "execute_result",
          "data": {
            "text/plain": [
              "vote_average\n",
              "(-0.01, 1.0]    344377\n",
              "(1.0, 2.0]        8169\n",
              "(2.0, 3.0]        7307\n",
              "(3.0, 4.0]       17979\n",
              "(4.0, 5.0]       42796\n",
              "(5.0, 6.0]       70303\n",
              "(6.0, 7.0]       69992\n",
              "(7.0, 8.0]       38173\n",
              "(8.0, 9.0]       10812\n",
              "(9.0, 10.0]      17568\n",
              "Name: vote_average, dtype: int64"
            ]
          },
          "metadata": {},
          "execution_count": 117
        }
      ]
    },
    {
      "cell_type": "markdown",
      "source": [
        "Con estos intervalos podemos observar cuántas observaciones caen en intervalos específicos de puntuación promedio y analizar patrones en la relación entre estas dos columnas."
      ],
      "metadata": {
        "id": "_YZ2CyaOrnDg"
      }
    },
    {
      "cell_type": "markdown",
      "metadata": {
        "id": "h-oyYXZ4fDpf"
      },
      "source": [
        "## **Tablas de contingencia**"
      ]
    },
    {
      "cell_type": "markdown",
      "source": [
        "Crearemos una tabla de contingencia para comparar còmo se afectan los valores de ganancia y la calificaciòn de la pelicula."
      ],
      "metadata": {
        "id": "UtXn5sWokPB5"
      }
    },
    {
      "cell_type": "code",
      "source": [
        "contingency_table =pd.crosstab(df['vote_average'], df['revenue'])"
      ],
      "metadata": {
        "id": "aIDMVd9zd5vP"
      },
      "execution_count": null,
      "outputs": []
    },
    {
      "cell_type": "code",
      "source": [
        "plt.figure(figsize=(14,6))"
      ],
      "metadata": {
        "id": "P4Fwu1OCd6xd",
        "colab": {
          "base_uri": "https://localhost:8080/",
          "height": 52
        },
        "outputId": "14b34ff1-d3f8-4da4-f831-ceb7ea30d93a"
      },
      "execution_count": null,
      "outputs": [
        {
          "output_type": "execute_result",
          "data": {
            "text/plain": [
              "<Figure size 1400x600 with 0 Axes>"
            ]
          },
          "metadata": {},
          "execution_count": 119
        },
        {
          "output_type": "display_data",
          "data": {
            "text/plain": [
              "<Figure size 1400x600 with 0 Axes>"
            ]
          },
          "metadata": {}
        }
      ]
    },
    {
      "cell_type": "code",
      "source": [
        "print(contingency_table.head())"
      ],
      "metadata": {
        "id": "V7DlynCTegmY",
        "colab": {
          "base_uri": "https://localhost:8080/"
        },
        "outputId": "757fb7aa-9dcf-4e5f-c1b4-57e124a1a14b"
      },
      "execution_count": null,
      "outputs": [
        {
          "output_type": "stream",
          "name": "stdout",
          "text": [
            "revenue       0           1           2           3           4           \\\n",
            "vote_average                                                               \n",
            "0.000             337796         125          32          18          10   \n",
            "0.500                258           0           0           0           0   \n",
            "0.750                  1           0           0           0           0   \n",
            "0.800                 64           0           0           0           0   \n",
            "0.875                  1           0           0           0           0   \n",
            "\n",
            "revenue       5           6           7           8           9           ...  \\\n",
            "vote_average                                                              ...   \n",
            "0.000                 28           8           4           6           4  ...   \n",
            "0.500                  0           0           0           0           0  ...   \n",
            "0.750                  0           0           0           0           0  ...   \n",
            "0.800                  0           0           0           1           0  ...   \n",
            "0.875                  0           0           0           0           0  ...   \n",
            "\n",
            "revenue       1663075401  1671537444  1921847111  2052415039  2068223624  \\\n",
            "vote_average                                                               \n",
            "0.000                  0           0           0           0           0   \n",
            "0.500                  0           0           0           0           0   \n",
            "0.750                  0           0           0           0           0   \n",
            "0.800                  0           0           0           0           0   \n",
            "0.875                  0           0           0           0           0   \n",
            "\n",
            "revenue       2264162353  2320250281  2800000000  2923706026  3000000000  \n",
            "vote_average                                                              \n",
            "0.000                  0           0           0           0           1  \n",
            "0.500                  0           0           0           0           0  \n",
            "0.750                  0           0           0           0           0  \n",
            "0.800                  0           0           0           0           0  \n",
            "0.875                  0           0           0           0           0  \n",
            "\n",
            "[5 rows x 13892 columns]\n"
          ]
        }
      ]
    },
    {
      "cell_type": "markdown",
      "source": [
        "Al tener un gran tamaño de la informaciòn imprimiremos los datos de la tabla por columna para poder analizarlo mejor y crear una gràfica que nos ayude a visualizar mejor la tabla."
      ],
      "metadata": {
        "id": "1l7WVTmFlA2x"
      }
    },
    {
      "cell_type": "code",
      "source": [
        "print(contingency_table.isnull().sum())"
      ],
      "metadata": {
        "id": "1RT3fB-_k9FB",
        "colab": {
          "base_uri": "https://localhost:8080/"
        },
        "outputId": "fe398f61-94c4-4b79-c789-86ca8bbfbf95"
      },
      "execution_count": null,
      "outputs": [
        {
          "output_type": "stream",
          "name": "stdout",
          "text": [
            "revenue\n",
            "0             0\n",
            "1             0\n",
            "2             0\n",
            "3             0\n",
            "4             0\n",
            "             ..\n",
            "2264162353    0\n",
            "2320250281    0\n",
            "2800000000    0\n",
            "2923706026    0\n",
            "3000000000    0\n",
            "Length: 13892, dtype: int64\n"
          ]
        }
      ]
    },
    {
      "cell_type": "code",
      "source": [
        "data = {\n",
        "    'revenue': [0,  2320250281, 2800000000, 2923706026, 2930000000 ],\n",
        "    0.0: [0, 0, 0, 0, 0],\n",
        "    0.5: [0, 377, 1784, 198, 189],\n",
        "    0.75: [0, 411, 378, 143, 629],\n",
        "    0.8: [0, 104, 389, 1902, 184],\n",
        "    0.875: [0, 871, 190, 2482, 702]\n",
        "}\n",
        "\n",
        "df_contingency = pd.DataFrame(data)\n",
        "df_contingency.set_index('revenue', inplace=True)\n",
        "\n",
        "df_contingency.plot(kind='bar', stacked=True, figsize=(14, 8), colormap='BuPu')\n",
        "\n",
        "plt.legend(title='Vote Average', bbox_to_anchor=(1, 1))\n",
        "plt.title('Relaciòn entre la ganancia y la calificaciòn de la pelìcula ')\n",
        "plt.xlabel('Ganancias')\n",
        "plt.ylabel('Frecuencia')\n",
        "\n",
        "plt.show()"
      ],
      "metadata": {
        "id": "hqov0vVWlqK4",
        "colab": {
          "base_uri": "https://localhost:8080/",
          "height": 792
        },
        "outputId": "658296bb-ca56-4856-9ec7-6e01e2671da2"
      },
      "execution_count": null,
      "outputs": [
        {
          "output_type": "display_data",
          "data": {
            "text/plain": [
              "<Figure size 1400x800 with 1 Axes>"
            ],
            "image/png": "[encoded data removed]"
          },
          "metadata": {}
        }
      ]
    },
    {
      "cell_type": "markdown",
      "source": [
        "Con esta tabla podemos apreciar que no necesariamente las peliculas mejor puntuadas obtienen las  mejores ganancias."
      ],
      "metadata": {
        "id": "UWj-K7axlsCy"
      }
    },
    {
      "cell_type": "markdown",
      "metadata": {
        "id": "-Y7BCzcVfDd3"
      },
      "source": [
        "## **Regresión Lineal Simple**"
      ]
    },
    {
      "cell_type": "markdown",
      "metadata": {
        "id": "BfnqtqrLQ5yS"
      },
      "source": [
        "En esta sección del proyecto, realizaremos regresiones lineales simples, es decir, encontraremos una función que nos permita predecir una de las variables a partir de la otra. Para elegir las variables más adecuadas para este modelo, es preciso que exista una relación fuerte y significativa entre la variable dependiente (a predecir) y la independiente. Basándonos en los coeficientes de Pearson que hallamos anteriormente, **usaremos solo las variables con correlaciones fuertes y moderadas**, estas son **`vote_count`** y **`revenue`**, **`budget`** y **`revenue`**, y **`budget`** y **`vote_count`**.\n",
        "\n",
        "\n",
        "Para realizar las regresiones lineales simples, importamos la librería `scikit-learn`:"
      ]
    },
    {
      "cell_type": "code",
      "execution_count": null,
      "metadata": {
        "id": "XTZgLfkHaAjX"
      },
      "outputs": [],
      "source": [
        "from sklearn.linear_model import LinearRegression"
      ]
    },
    {
      "cell_type": "markdown",
      "metadata": {
        "id": "i3P4pwLxWFmv"
      },
      "source": [
        "####**Predicción de los ingresos de una película a partir de la cantidad de votos recibidos**"
      ]
    },
    {
      "cell_type": "markdown",
      "metadata": {
        "id": "CaS08Tjmf1dl"
      },
      "source": [
        "#####**Paso 1:** Preparar datos para el modelo"
      ]
    },
    {
      "cell_type": "code",
      "execution_count": null,
      "metadata": {
        "id": "nsrYABLUf7Y3"
      },
      "outputs": [],
      "source": [
        "X = df[['vote_count']]\n",
        "Y = df['revenue']"
      ]
    },
    {
      "cell_type": "markdown",
      "metadata": {
        "id": "TwuXjypmfZ8P"
      },
      "source": [
        "#####**Paso 2:** Crear y entrenar el modelo de regresión lineal"
      ]
    },
    {
      "cell_type": "code",
      "execution_count": null,
      "metadata": {
        "id": "J6ONR9DgaFD1",
        "colab": {
          "base_uri": "https://localhost:8080/",
          "height": 74
        },
        "outputId": "e7c9ff5d-e51d-4b89-e2c7-926df33da684"
      },
      "outputs": [
        {
          "output_type": "execute_result",
          "data": {
            "text/plain": [
              "LinearRegression()"
            ],
            "text/html": [
              "<style>#sk-container-id-4 {color: black;background-color: white;}#sk-container-id-4 pre{padding: 0;}#sk-container-id-4 div.sk-toggleable {background-color: white;}#sk-container-id-4 label.sk-toggleable__label {cursor: pointer;display: block;width: 100%;margin-bottom: 0;padding: 0.3em;box-sizing: border-box;text-align: center;}#sk-container-id-4 label.sk-toggleable__label-arrow:before {content: \"▸\";float: left;margin-right: 0.25em;color: #696969;}#sk-container-id-4 label.sk-toggleable__label-arrow:hover:before {color: black;}#sk-container-id-4 div.sk-estimator:hover label.sk-toggleable__label-arrow:before {color: black;}#sk-container-id-4 div.sk-toggleable__content {max-height: 0;max-width: 0;overflow: hidden;text-align: left;background-color: #f0f8ff;}#sk-container-id-4 div.sk-toggleable__content pre {margin: 0.2em;color: black;border-radius: 0.25em;background-color: #f0f8ff;}#sk-container-id-4 input.sk-toggleable__control:checked~div.sk-toggleable__content {max-height: 200px;max-width: 100%;overflow: auto;}#sk-container-id-4 input.sk-toggleable__control:checked~label.sk-toggleable__label-arrow:before {content: \"▾\";}#sk-container-id-4 div.sk-estimator input.sk-toggleable__control:checked~label.sk-toggleable__label {background-color: #d4ebff;}#sk-container-id-4 div.sk-label input.sk-toggleable__control:checked~label.sk-toggleable__label {background-color: #d4ebff;}#sk-container-id-4 input.sk-hidden--visually {border: 0;clip: rect(1px 1px 1px 1px);clip: rect(1px, 1px, 1px, 1px);height: 1px;margin: -1px;overflow: hidden;padding: 0;position: absolute;width: 1px;}#sk-container-id-4 div.sk-estimator {font-family: monospace;background-color: #f0f8ff;border: 1px dotted black;border-radius: 0.25em;box-sizing: border-box;margin-bottom: 0.5em;}#sk-container-id-4 div.sk-estimator:hover {background-color: #d4ebff;}#sk-container-id-4 div.sk-parallel-item::after {content: \"\";width: 100%;border-bottom: 1px solid gray;flex-grow: 1;}#sk-container-id-4 div.sk-label:hover label.sk-toggleable__label {background-color: #d4ebff;}#sk-container-id-4 div.sk-serial::before {content: \"\";position: absolute;border-left: 1px solid gray;box-sizing: border-box;top: 0;bottom: 0;left: 50%;z-index: 0;}#sk-container-id-4 div.sk-serial {display: flex;flex-direction: column;align-items: center;background-color: white;padding-right: 0.2em;padding-left: 0.2em;position: relative;}#sk-container-id-4 div.sk-item {position: relative;z-index: 1;}#sk-container-id-4 div.sk-parallel {display: flex;align-items: stretch;justify-content: center;background-color: white;position: relative;}#sk-container-id-4 div.sk-item::before, #sk-container-id-4 div.sk-parallel-item::before {content: \"\";position: absolute;border-left: 1px solid gray;box-sizing: border-box;top: 0;bottom: 0;left: 50%;z-index: -1;}#sk-container-id-4 div.sk-parallel-item {display: flex;flex-direction: column;z-index: 1;position: relative;background-color: white;}#sk-container-id-4 div.sk-parallel-item:first-child::after {align-self: flex-end;width: 50%;}#sk-container-id-4 div.sk-parallel-item:last-child::after {align-self: flex-start;width: 50%;}#sk-container-id-4 div.sk-parallel-item:only-child::after {width: 0;}#sk-container-id-4 div.sk-dashed-wrapped {border: 1px dashed gray;margin: 0 0.4em 0.5em 0.4em;box-sizing: border-box;padding-bottom: 0.4em;background-color: white;}#sk-container-id-4 div.sk-label label {font-family: monospace;font-weight: bold;display: inline-block;line-height: 1.2em;}#sk-container-id-4 div.sk-label-container {text-align: center;}#sk-container-id-4 div.sk-container {/* jupyter's `normalize.less` sets `[hidden] { display: none; }` but bootstrap.min.css set `[hidden] { display: none !important; }` so we also need the `!important` here to be able to override the default hidden behavior on the sphinx rendered scikit-learn.org. See: https://github.com/scikit-learn/scikit-learn/issues/21755 */display: inline-block !important;position: relative;}#sk-container-id-4 div.sk-text-repr-fallback {display: none;}</style><div id=\"sk-container-id-4\" class=\"sk-top-container\"><div class=\"sk-text-repr-fallback\"><pre>LinearRegression()</pre><b>In a Jupyter environment, please rerun this cell to show the HTML representation or trust the notebook. <br />On GitHub, the HTML representation is unable to render, please try loading this page with nbviewer.org.</b></div><div class=\"sk-container\" hidden><div class=\"sk-item\"><div class=\"sk-estimator sk-toggleable\"><input class=\"sk-toggleable__control sk-hidden--visually\" id=\"sk-estimator-id-4\" type=\"checkbox\" checked><label for=\"sk-estimator-id-4\" class=\"sk-toggleable__label sk-toggleable__label-arrow\">LinearRegression</label><div class=\"sk-toggleable__content\"><pre>LinearRegression()</pre></div></div></div></div></div>"
            ]
          },
          "metadata": {},
          "execution_count": 126
        }
      ],
      "source": [
        "lr = LinearRegression()\n",
        "lr.fit(X, Y)"
      ]
    },
    {
      "cell_type": "markdown",
      "metadata": {
        "id": "Lw0UEHzIgRNU"
      },
      "source": [
        "#####**Paso 3:** Realizar predicciones"
      ]
    },
    {
      "cell_type": "code",
      "execution_count": null,
      "metadata": {
        "id": "As2ePbeUgSjT"
      },
      "outputs": [],
      "source": [
        "df['predecido_revenue'] = lr.predict(X)"
      ]
    },
    {
      "cell_type": "markdown",
      "metadata": {
        "id": "aFc41Ep6g7Wo"
      },
      "source": [
        "#####**Paso 4:** Gráfica de dispersión y línea de regresión"
      ]
    },
    {
      "cell_type": "code",
      "execution_count": null,
      "metadata": {
        "id": "7rkrIISNhIRR",
        "colab": {
          "base_uri": "https://localhost:8080/",
          "height": 565
        },
        "outputId": "b9135ae0-0b9a-4953-b763-b69b9dd316cd"
      },
      "outputs": [
        {
          "output_type": "display_data",
          "data": {
            "text/plain": [
              "<Figure size 1000x600 with 1 Axes>"
            ],
            "image/png": "[encoded data removed]"
          },
          "metadata": {}
        }
      ],
      "source": [
        "plt.figure(figsize=(10, 6))\n",
        "plt.scatter(df['vote_count'], df['revenue'], color='pink', alpha=0.5, label='Ingresos reales')\n",
        "plt.plot(df['vote_count'], df['predecido_revenue'], color='purple', linewidth=2, label='Ingresos predecidos')\n",
        "plt.title('Regresión Lineal entre los votos recibidos y los ingresos')\n",
        "plt.xlabel('Votos recibidos')\n",
        "plt.ylabel('Ingresos')\n",
        "plt.legend()\n",
        "plt.grid(True)\n",
        "plt.show()"
      ]
    },
    {
      "cell_type": "markdown",
      "metadata": {
        "id": "0kt1EF0TlSR9"
      },
      "source": [
        "Como se observa, cada punto rosa (Ingresos reales) tiene su \"correspondiente\" punto morado, contenido en la línea de regresión (Ingresos predecidos). Algunos puntos rosas y morados quedan exactamente en el mismo lugar (la predicción fue correcta), mientras que algunos quedan algo lejos (la predicción no fue acertada). Esto es normal, puesto que el modelo tiene un margen de error."
      ]
    },
    {
      "cell_type": "markdown",
      "metadata": {
        "id": "YJ60HlLXjEjB"
      },
      "source": [
        "#####**Paso 5:** Ecuación de regresión lineal a partir del modelo entrenado"
      ]
    },
    {
      "cell_type": "code",
      "execution_count": null,
      "metadata": {
        "id": "Sgv_t6CIkO27"
      },
      "outputs": [],
      "source": [
        "intercepto = lr.intercept_\n",
        "coeficiente = lr.coef_[0]"
      ]
    },
    {
      "cell_type": "code",
      "execution_count": null,
      "metadata": {
        "id": "7OA6kdRPjVVZ",
        "colab": {
          "base_uri": "https://localhost:8080/"
        },
        "outputId": "b9262a98-5189-451d-d536-358efb144a6a"
      },
      "outputs": [
        {
          "output_type": "stream",
          "name": "stdout",
          "text": [
            "Intercepto: -171061.87463176996\n",
            "Coeficiente: 39151.05202894885\n"
          ]
        }
      ],
      "source": [
        "print(\"Intercepto:\", lr.intercept_)\n",
        "print(\"Coeficiente:\", lr.coef_[0])"
      ]
    },
    {
      "cell_type": "markdown",
      "metadata": {
        "id": "QmeWrYkfkdBV"
      },
      "source": [
        "Respecto a estos dos valores, se puede interpretar:\n",
        "\n",
        "\n",
        "* Si no hubiera votos (es decir, si vote_count fuera 0), se esperaría que los ingresos fueran de aproximadamente -171061.87.\n",
        "* Por cada voto adicional (vote_count incrementado en 1), se espera que los ingresos (revenue) aumenten en promedio por 39151.05 unidades monetarias.\n",
        "* Al obtenerse un coeficiente de valor positivo se infiere una relación directa y proporcional entre el número de votos y los ingresos: a medida que aumentan los votos, también se espera que aumenten los ingresos.\n"
      ]
    },
    {
      "cell_type": "markdown",
      "metadata": {
        "id": "0lSvzoYFjfqC"
      },
      "source": [
        "#####**Paso 6:** Función predictiva"
      ]
    },
    {
      "cell_type": "code",
      "execution_count": null,
      "metadata": {
        "id": "3O7zf_jQjmqT",
        "colab": {
          "base_uri": "https://localhost:8080/"
        },
        "outputId": "00ef57c7-f22a-4723-c074-903c1524a60a"
      },
      "outputs": [
        {
          "output_type": "stream",
          "name": "stdout",
          "text": [
            "Y = 39151.05202894885 * X + -171061.87463176996\n"
          ]
        }
      ],
      "source": [
        "print(f'Y = {coeficiente} * X + {intercepto}')"
      ]
    },
    {
      "cell_type": "markdown",
      "metadata": {
        "id": "Hzv_cXt8wVs8"
      },
      "source": [
        "####**Predicción de los ingresos de una película a partir de su presupuesto**"
      ]
    },
    {
      "cell_type": "markdown",
      "metadata": {
        "id": "F274edlXwVs9"
      },
      "source": [
        "#####**Paso 1:** Preparar datos para el modelo"
      ]
    },
    {
      "cell_type": "code",
      "execution_count": null,
      "metadata": {
        "id": "fkqix-y1wVs9"
      },
      "outputs": [],
      "source": [
        "X = df[['budget']]\n",
        "Y = df['revenue']"
      ]
    },
    {
      "cell_type": "markdown",
      "metadata": {
        "id": "dhVbC8PMwVs9"
      },
      "source": [
        "#####**Paso 2:** Crear y entrenar el modelo de regresión lineal"
      ]
    },
    {
      "cell_type": "code",
      "execution_count": null,
      "metadata": {
        "id": "ezjOn4CkwVs9",
        "colab": {
          "base_uri": "https://localhost:8080/",
          "height": 74
        },
        "outputId": "deefce36-38ec-4389-b673-02ab5ee625d5"
      },
      "outputs": [
        {
          "output_type": "execute_result",
          "data": {
            "text/plain": [
              "LinearRegression()"
            ],
            "text/html": [
              "<style>#sk-container-id-5 {color: black;background-color: white;}#sk-container-id-5 pre{padding: 0;}#sk-container-id-5 div.sk-toggleable {background-color: white;}#sk-container-id-5 label.sk-toggleable__label {cursor: pointer;display: block;width: 100%;margin-bottom: 0;padding: 0.3em;box-sizing: border-box;text-align: center;}#sk-container-id-5 label.sk-toggleable__label-arrow:before {content: \"▸\";float: left;margin-right: 0.25em;color: #696969;}#sk-container-id-5 label.sk-toggleable__label-arrow:hover:before {color: black;}#sk-container-id-5 div.sk-estimator:hover label.sk-toggleable__label-arrow:before {color: black;}#sk-container-id-5 div.sk-toggleable__content {max-height: 0;max-width: 0;overflow: hidden;text-align: left;background-color: #f0f8ff;}#sk-container-id-5 div.sk-toggleable__content pre {margin: 0.2em;color: black;border-radius: 0.25em;background-color: #f0f8ff;}#sk-container-id-5 input.sk-toggleable__control:checked~div.sk-toggleable__content {max-height: 200px;max-width: 100%;overflow: auto;}#sk-container-id-5 input.sk-toggleable__control:checked~label.sk-toggleable__label-arrow:before {content: \"▾\";}#sk-container-id-5 div.sk-estimator input.sk-toggleable__control:checked~label.sk-toggleable__label {background-color: #d4ebff;}#sk-container-id-5 div.sk-label input.sk-toggleable__control:checked~label.sk-toggleable__label {background-color: #d4ebff;}#sk-container-id-5 input.sk-hidden--visually {border: 0;clip: rect(1px 1px 1px 1px);clip: rect(1px, 1px, 1px, 1px);height: 1px;margin: -1px;overflow: hidden;padding: 0;position: absolute;width: 1px;}#sk-container-id-5 div.sk-estimator {font-family: monospace;background-color: #f0f8ff;border: 1px dotted black;border-radius: 0.25em;box-sizing: border-box;margin-bottom: 0.5em;}#sk-container-id-5 div.sk-estimator:hover {background-color: #d4ebff;}#sk-container-id-5 div.sk-parallel-item::after {content: \"\";width: 100%;border-bottom: 1px solid gray;flex-grow: 1;}#sk-container-id-5 div.sk-label:hover label.sk-toggleable__label {background-color: #d4ebff;}#sk-container-id-5 div.sk-serial::before {content: \"\";position: absolute;border-left: 1px solid gray;box-sizing: border-box;top: 0;bottom: 0;left: 50%;z-index: 0;}#sk-container-id-5 div.sk-serial {display: flex;flex-direction: column;align-items: center;background-color: white;padding-right: 0.2em;padding-left: 0.2em;position: relative;}#sk-container-id-5 div.sk-item {position: relative;z-index: 1;}#sk-container-id-5 div.sk-parallel {display: flex;align-items: stretch;justify-content: center;background-color: white;position: relative;}#sk-container-id-5 div.sk-item::before, #sk-container-id-5 div.sk-parallel-item::before {content: \"\";position: absolute;border-left: 1px solid gray;box-sizing: border-box;top: 0;bottom: 0;left: 50%;z-index: -1;}#sk-container-id-5 div.sk-parallel-item {display: flex;flex-direction: column;z-index: 1;position: relative;background-color: white;}#sk-container-id-5 div.sk-parallel-item:first-child::after {align-self: flex-end;width: 50%;}#sk-container-id-5 div.sk-parallel-item:last-child::after {align-self: flex-start;width: 50%;}#sk-container-id-5 div.sk-parallel-item:only-child::after {width: 0;}#sk-container-id-5 div.sk-dashed-wrapped {border: 1px dashed gray;margin: 0 0.4em 0.5em 0.4em;box-sizing: border-box;padding-bottom: 0.4em;background-color: white;}#sk-container-id-5 div.sk-label label {font-family: monospace;font-weight: bold;display: inline-block;line-height: 1.2em;}#sk-container-id-5 div.sk-label-container {text-align: center;}#sk-container-id-5 div.sk-container {/* jupyter's `normalize.less` sets `[hidden] { display: none; }` but bootstrap.min.css set `[hidden] { display: none !important; }` so we also need the `!important` here to be able to override the default hidden behavior on the sphinx rendered scikit-learn.org. See: https://github.com/scikit-learn/scikit-learn/issues/21755 */display: inline-block !important;position: relative;}#sk-container-id-5 div.sk-text-repr-fallback {display: none;}</style><div id=\"sk-container-id-5\" class=\"sk-top-container\"><div class=\"sk-text-repr-fallback\"><pre>LinearRegression()</pre><b>In a Jupyter environment, please rerun this cell to show the HTML representation or trust the notebook. <br />On GitHub, the HTML representation is unable to render, please try loading this page with nbviewer.org.</b></div><div class=\"sk-container\" hidden><div class=\"sk-item\"><div class=\"sk-estimator sk-toggleable\"><input class=\"sk-toggleable__control sk-hidden--visually\" id=\"sk-estimator-id-5\" type=\"checkbox\" checked><label for=\"sk-estimator-id-5\" class=\"sk-toggleable__label sk-toggleable__label-arrow\">LinearRegression</label><div class=\"sk-toggleable__content\"><pre>LinearRegression()</pre></div></div></div></div></div>"
            ]
          },
          "metadata": {},
          "execution_count": 133
        }
      ],
      "source": [
        "lr = LinearRegression()\n",
        "lr.fit(X, Y)"
      ]
    },
    {
      "cell_type": "markdown",
      "metadata": {
        "id": "Pbh_9wfkwVs9"
      },
      "source": [
        "#####**Paso 3:** Realizar predicciones"
      ]
    },
    {
      "cell_type": "code",
      "execution_count": null,
      "metadata": {
        "id": "GiqidG5mwVs-"
      },
      "outputs": [],
      "source": [
        "df['predecido_revenue'] = lr.predict(X)"
      ]
    },
    {
      "cell_type": "markdown",
      "metadata": {
        "id": "WyQBEqeHwVs-"
      },
      "source": [
        "#####**Paso 4:** Gráfica de dispersión y línea de regresión"
      ]
    },
    {
      "cell_type": "code",
      "execution_count": null,
      "metadata": {
        "id": "MgqVrlNqwVs-",
        "colab": {
          "base_uri": "https://localhost:8080/",
          "height": 565
        },
        "outputId": "0f5f562c-bab7-44df-ff9a-14d76192bc2e"
      },
      "outputs": [
        {
          "output_type": "display_data",
          "data": {
            "text/plain": [
              "<Figure size 1000x600 with 1 Axes>"
            ],
            "image/png": "[encoded data removed]"
          },
          "metadata": {}
        }
      ],
      "source": [
        "plt.figure(figsize=(10, 6))\n",
        "plt.scatter(df['budget'], df['revenue'], color='pink', alpha=0.5, label='Ingresos reales')\n",
        "plt.plot(df['budget'], df['predecido_revenue'], color='purple', linewidth=2, label='Ingresos predecidos')\n",
        "plt.title('Regresión Lineal entre los presupuestos y los ingresos')\n",
        "plt.xlabel('Presupuesto')\n",
        "plt.ylabel('Ingresos')\n",
        "plt.legend()\n",
        "plt.grid(True)\n",
        "plt.show()"
      ]
    },
    {
      "cell_type": "markdown",
      "metadata": {
        "id": "UKSH6_v0wVs-"
      },
      "source": [
        "#####**Paso 5:** Ecuación de regresión lineal a partir del modelo entrenado"
      ]
    },
    {
      "cell_type": "code",
      "execution_count": null,
      "metadata": {
        "id": "1yQLNSdRwVtA"
      },
      "outputs": [],
      "source": [
        "intercepto = lr.intercept_\n",
        "coeficiente = lr.coef_[0]"
      ]
    },
    {
      "cell_type": "code",
      "execution_count": null,
      "metadata": {
        "id": "jW4skJv6wVtB",
        "colab": {
          "base_uri": "https://localhost:8080/"
        },
        "outputId": "f6433fb0-55a0-4b1f-ac27-9203af984ae8"
      },
      "outputs": [
        {
          "output_type": "stream",
          "name": "stdout",
          "text": [
            "Intercepto: -7014.780805530027\n",
            "Coeficiente: 2.5630784933782893\n"
          ]
        }
      ],
      "source": [
        "print(\"Intercepto:\", lr.intercept_)\n",
        "print(\"Coeficiente:\", lr.coef_[0])"
      ]
    },
    {
      "cell_type": "markdown",
      "metadata": {
        "id": "_t0A-p37wVtB"
      },
      "source": [
        "Respecto a estos dos valores, se puede interpretar:\n",
        "\n",
        "\n",
        "* Si no hubiera presupuesto (es decir, si budget fuera 0), se esperaría que los ingresos fueran de aproximadamente -7014.78.\n",
        "* Por unidad monetaria de presupuesto adicional (budget incrementado en 1), se espera que los ingresos (revenue) aumenten en promedio por 2.56 unidades monetarias.\n",
        "* Al obtenerse un coeficiente de valor positivo se infiere que el presupuesto y los ingresos son directamente proporcionales: a medida que aumenta el presupuesto, también se espera que aumenten los ingresos.\n"
      ]
    },
    {
      "cell_type": "markdown",
      "metadata": {
        "id": "ZL9CJPy7wVtC"
      },
      "source": [
        "#####**Paso 6:** Función predictiva"
      ]
    },
    {
      "cell_type": "code",
      "execution_count": null,
      "metadata": {
        "id": "zBwFB6DwwVtC",
        "colab": {
          "base_uri": "https://localhost:8080/"
        },
        "outputId": "4920f5ae-1963-4546-a2c4-ac33b5671786"
      },
      "outputs": [
        {
          "output_type": "stream",
          "name": "stdout",
          "text": [
            "Y = 2.5630784933782893 * X + -7014.780805530027\n"
          ]
        }
      ],
      "source": [
        "print(f'Y = {coeficiente} * X + {intercepto}')"
      ]
    },
    {
      "cell_type": "markdown",
      "metadata": {
        "id": "tQL63NDf7RMG"
      },
      "source": [
        "####**Predicción de la cantidad de votos de una película a partir de su presupuesto**"
      ]
    },
    {
      "cell_type": "markdown",
      "metadata": {
        "id": "ffW0ypBk7RMG"
      },
      "source": [
        "#####**Paso 1:** Preparar datos para el modelo"
      ]
    },
    {
      "cell_type": "code",
      "execution_count": null,
      "metadata": {
        "id": "9_iKbltD7RMG"
      },
      "outputs": [],
      "source": [
        "X = df[['budget']]\n",
        "Y = df['vote_count']"
      ]
    },
    {
      "cell_type": "markdown",
      "metadata": {
        "id": "7wLzi0Xr7RMH"
      },
      "source": [
        "#####**Paso 2:** Crear y entrenar el modelo de regresión lineal"
      ]
    },
    {
      "cell_type": "code",
      "execution_count": null,
      "metadata": {
        "id": "QpPR1Wm67RMH",
        "colab": {
          "base_uri": "https://localhost:8080/",
          "height": 74
        },
        "outputId": "52e70a1e-f65d-4c80-aebf-927c57326da2"
      },
      "outputs": [
        {
          "output_type": "execute_result",
          "data": {
            "text/plain": [
              "LinearRegression()"
            ],
            "text/html": [
              "<style>#sk-container-id-6 {color: black;background-color: white;}#sk-container-id-6 pre{padding: 0;}#sk-container-id-6 div.sk-toggleable {background-color: white;}#sk-container-id-6 label.sk-toggleable__label {cursor: pointer;display: block;width: 100%;margin-bottom: 0;padding: 0.3em;box-sizing: border-box;text-align: center;}#sk-container-id-6 label.sk-toggleable__label-arrow:before {content: \"▸\";float: left;margin-right: 0.25em;color: #696969;}#sk-container-id-6 label.sk-toggleable__label-arrow:hover:before {color: black;}#sk-container-id-6 div.sk-estimator:hover label.sk-toggleable__label-arrow:before {color: black;}#sk-container-id-6 div.sk-toggleable__content {max-height: 0;max-width: 0;overflow: hidden;text-align: left;background-color: #f0f8ff;}#sk-container-id-6 div.sk-toggleable__content pre {margin: 0.2em;color: black;border-radius: 0.25em;background-color: #f0f8ff;}#sk-container-id-6 input.sk-toggleable__control:checked~div.sk-toggleable__content {max-height: 200px;max-width: 100%;overflow: auto;}#sk-container-id-6 input.sk-toggleable__control:checked~label.sk-toggleable__label-arrow:before {content: \"▾\";}#sk-container-id-6 div.sk-estimator input.sk-toggleable__control:checked~label.sk-toggleable__label {background-color: #d4ebff;}#sk-container-id-6 div.sk-label input.sk-toggleable__control:checked~label.sk-toggleable__label {background-color: #d4ebff;}#sk-container-id-6 input.sk-hidden--visually {border: 0;clip: rect(1px 1px 1px 1px);clip: rect(1px, 1px, 1px, 1px);height: 1px;margin: -1px;overflow: hidden;padding: 0;position: absolute;width: 1px;}#sk-container-id-6 div.sk-estimator {font-family: monospace;background-color: #f0f8ff;border: 1px dotted black;border-radius: 0.25em;box-sizing: border-box;margin-bottom: 0.5em;}#sk-container-id-6 div.sk-estimator:hover {background-color: #d4ebff;}#sk-container-id-6 div.sk-parallel-item::after {content: \"\";width: 100%;border-bottom: 1px solid gray;flex-grow: 1;}#sk-container-id-6 div.sk-label:hover label.sk-toggleable__label {background-color: #d4ebff;}#sk-container-id-6 div.sk-serial::before {content: \"\";position: absolute;border-left: 1px solid gray;box-sizing: border-box;top: 0;bottom: 0;left: 50%;z-index: 0;}#sk-container-id-6 div.sk-serial {display: flex;flex-direction: column;align-items: center;background-color: white;padding-right: 0.2em;padding-left: 0.2em;position: relative;}#sk-container-id-6 div.sk-item {position: relative;z-index: 1;}#sk-container-id-6 div.sk-parallel {display: flex;align-items: stretch;justify-content: center;background-color: white;position: relative;}#sk-container-id-6 div.sk-item::before, #sk-container-id-6 div.sk-parallel-item::before {content: \"\";position: absolute;border-left: 1px solid gray;box-sizing: border-box;top: 0;bottom: 0;left: 50%;z-index: -1;}#sk-container-id-6 div.sk-parallel-item {display: flex;flex-direction: column;z-index: 1;position: relative;background-color: white;}#sk-container-id-6 div.sk-parallel-item:first-child::after {align-self: flex-end;width: 50%;}#sk-container-id-6 div.sk-parallel-item:last-child::after {align-self: flex-start;width: 50%;}#sk-container-id-6 div.sk-parallel-item:only-child::after {width: 0;}#sk-container-id-6 div.sk-dashed-wrapped {border: 1px dashed gray;margin: 0 0.4em 0.5em 0.4em;box-sizing: border-box;padding-bottom: 0.4em;background-color: white;}#sk-container-id-6 div.sk-label label {font-family: monospace;font-weight: bold;display: inline-block;line-height: 1.2em;}#sk-container-id-6 div.sk-label-container {text-align: center;}#sk-container-id-6 div.sk-container {/* jupyter's `normalize.less` sets `[hidden] { display: none; }` but bootstrap.min.css set `[hidden] { display: none !important; }` so we also need the `!important` here to be able to override the default hidden behavior on the sphinx rendered scikit-learn.org. See: https://github.com/scikit-learn/scikit-learn/issues/21755 */display: inline-block !important;position: relative;}#sk-container-id-6 div.sk-text-repr-fallback {display: none;}</style><div id=\"sk-container-id-6\" class=\"sk-top-container\"><div class=\"sk-text-repr-fallback\"><pre>LinearRegression()</pre><b>In a Jupyter environment, please rerun this cell to show the HTML representation or trust the notebook. <br />On GitHub, the HTML representation is unable to render, please try loading this page with nbviewer.org.</b></div><div class=\"sk-container\" hidden><div class=\"sk-item\"><div class=\"sk-estimator sk-toggleable\"><input class=\"sk-toggleable__control sk-hidden--visually\" id=\"sk-estimator-id-6\" type=\"checkbox\" checked><label for=\"sk-estimator-id-6\" class=\"sk-toggleable__label sk-toggleable__label-arrow\">LinearRegression</label><div class=\"sk-toggleable__content\"><pre>LinearRegression()</pre></div></div></div></div></div>"
            ]
          },
          "metadata": {},
          "execution_count": 140
        }
      ],
      "source": [
        "lr = LinearRegression()\n",
        "lr.fit(X, Y)"
      ]
    },
    {
      "cell_type": "markdown",
      "metadata": {
        "id": "-jJ4aFc77RMH"
      },
      "source": [
        "#####**Paso 3:** Realizar predicciones"
      ]
    },
    {
      "cell_type": "code",
      "execution_count": null,
      "metadata": {
        "id": "4TcXHP6O7RMH"
      },
      "outputs": [],
      "source": [
        "df['predecido_vote_count'] = lr.predict(X)"
      ]
    },
    {
      "cell_type": "markdown",
      "metadata": {
        "id": "mKghoaxM7RMH"
      },
      "source": [
        "#####**Paso 4:** Gráfica de dispersión y línea de regresión"
      ]
    },
    {
      "cell_type": "code",
      "execution_count": null,
      "metadata": {
        "id": "NFw3JLss7RMI",
        "colab": {
          "base_uri": "https://localhost:8080/",
          "height": 565
        },
        "outputId": "c5b44fe0-7724-4f21-c685-141626c8ec79"
      },
      "outputs": [
        {
          "output_type": "display_data",
          "data": {
            "text/plain": [
              "<Figure size 1000x600 with 1 Axes>"
            ],
            "image/png": "[encoded data removed]"
          },
          "metadata": {}
        }
      ],
      "source": [
        "plt.figure(figsize=(10, 6))\n",
        "plt.scatter(df['budget'], df['vote_count'], color='pink', alpha=0.5, label='Votos recibidos reales')\n",
        "plt.plot(df['budget'], df['predecido_vote_count'], color='purple', linewidth=2, label='Votos recibidos predecidos')\n",
        "plt.title('Regresión Lineal entre los presupuestos y los votos recibidos')\n",
        "plt.xlabel('Presupuesto')\n",
        "plt.ylabel('Votos recibidos')\n",
        "plt.legend()\n",
        "plt.grid(True)\n",
        "plt.show()"
      ]
    },
    {
      "cell_type": "markdown",
      "metadata": {
        "id": "RviRhWjB7RMI"
      },
      "source": [
        "#####**Paso 5:** Ecuación de regresión lineal a partir del modelo entrenado"
      ]
    },
    {
      "cell_type": "code",
      "execution_count": null,
      "metadata": {
        "id": "26_6-d0J7RMI"
      },
      "outputs": [],
      "source": [
        "intercepto = lr.intercept_\n",
        "coeficiente = lr.coef_[0]"
      ]
    },
    {
      "cell_type": "code",
      "execution_count": null,
      "metadata": {
        "id": "JGFYt0Qt7RMI",
        "colab": {
          "base_uri": "https://localhost:8080/"
        },
        "outputId": "f6a35cc7-a68e-41e8-9915-73daf55de634"
      },
      "outputs": [
        {
          "output_type": "stream",
          "name": "stdout",
          "text": [
            "Intercepto: 14.607705146560694\n",
            "Coeficiente: 4.257685927433969e-05\n"
          ]
        }
      ],
      "source": [
        "print(\"Intercepto:\", lr.intercept_)\n",
        "print(\"Coeficiente:\", lr.coef_[0])"
      ]
    },
    {
      "cell_type": "markdown",
      "metadata": {
        "id": "dwLkmxSr7RMI"
      },
      "source": [
        "Respecto a estos dos valores, se puede interpretar:\n",
        "\n",
        "\n",
        "* Si no hubiera presupuesto (es decir, si budget fuera 0), se esperaría que los votos recibidos fueran aproximadamente 14.\n",
        "* Por unidad monetaria de presupuesto adicional (busget incrementado en 1), se espera que los votos recibidos (vote_count) aumenten en 4.\n",
        "* Al obtenerse un coeficiente de valor positivo se infiere que el presupuesto y los votos recibidos son directamente proporcionales: a medida que aumenta el presupuesto, también se espera que aumenten los votos recibidos.\n"
      ]
    },
    {
      "cell_type": "markdown",
      "metadata": {
        "id": "QdPzNruX7RMI"
      },
      "source": [
        "#####**Paso 6:** Función predictiva"
      ]
    },
    {
      "cell_type": "code",
      "execution_count": null,
      "metadata": {
        "id": "4jK5U3II7RMI",
        "colab": {
          "base_uri": "https://localhost:8080/"
        },
        "outputId": "204dc81a-5978-43da-f36d-5e267bf215fc"
      },
      "outputs": [
        {
          "output_type": "stream",
          "name": "stdout",
          "text": [
            "Y = 4.257685927433969e-05 * X + 14.607705146560694\n"
          ]
        }
      ],
      "source": [
        "print(f'Y = {coeficiente} * X + {intercepto}')"
      ]
    },
    {
      "cell_type": "markdown",
      "metadata": {
        "id": "qccUH7hrfDPW"
      },
      "source": [
        "## **Bootstrap**"
      ]
    },
    {
      "cell_type": "markdown",
      "source": [
        "La información de nuestra base de datos es recopilada a través de una plataforma en línea que está abierta a todo público, pues sólo se necesita crear una cuenta a través de un correo electrónico para poder interactuar con el sitio.\n",
        "\n",
        "Sin embargo, el sesgo que se identifica es que sólo se considera las puntuaciones de las personas que se encuentran en el nicho \"cinéfilo\", y no a la mayoría de las personas que ven la película.\n",
        "\n",
        "Y aunque este es un sesgo que de alguna manera siempre estará presente al investigar de una temática en específico, se considera importante mencionarlo para fines de la toma de decisiones.\n",
        "\n",
        "Con el objetivo de eliminar otros posibles sesgos en el análisis, utilizaremos el muestreo aleatorio, que junto con la técnica de bootstrap para la extracción y comparación de más muestras, nos ayudará a realizar un análisis más completo."
      ],
      "metadata": {
        "id": "jHy3W0JGOsvh"
      }
    },
    {
      "cell_type": "markdown",
      "metadata": {
        "id": "ZhrazVOImH8w"
      },
      "source": [
        "Comenzaremos analizando la información de dos de las variables con una correlación positiva más fuerte: 'vote_average' y 'vote_count'. Hemos generado 100,000 variables bootstrap para cada una, cada una tomando muestras de tamaño 15 con reemplazo de nuestros datos originales."
      ]
    },
    {
      "cell_type": "code",
      "execution_count": null,
      "metadata": {
        "id": "lavJVVHcn1Sa"
      },
      "outputs": [],
      "source": [
        "def bootstrap(data, statistic, num_variable, variable_size):\n",
        "  variable = [data.sample(n=variable_size, replace=True) for _ in range(num_variable)]\n",
        "  return [statistic(variable) for variable in variable]\n",
        "\n",
        "variable_a = bootstrap(df['vote_average'], np.mean, 100000, 15)\n",
        "\n",
        "variable_b = bootstrap(df['vote_count'], np.mean, 100000, 15)"
      ]
    },
    {
      "cell_type": "code",
      "execution_count": null,
      "metadata": {
        "id": "QDVScMXp626c",
        "colab": {
          "base_uri": "https://localhost:8080/",
          "height": 545
        },
        "outputId": "f08965cd-3f7f-47f5-d794-39a9c5756ead"
      },
      "outputs": [
        {
          "output_type": "display_data",
          "data": {
            "text/plain": [
              "<Figure size 1200x600 with 2 Axes>"
            ],
            "image/png": "[encoded data removed]"
          },
          "metadata": {}
        }
      ],
      "source": [
        "plt.figure(figsize=(12,6))\n",
        "\n",
        "plt.subplot(1, 3, 1)\n",
        "plt.hist(variable_a, bins=20, edgecolor= 'black', alpha= 0.7)\n",
        "plt.title('Bootstrap Vote Average')\n",
        "\n",
        "plt.subplot(1, 3, 2)\n",
        "plt.hist(variable_b, bins=20, edgecolor= 'black', alpha= 0.7)\n",
        "plt.title('Bootstrap Vote Count')\n",
        "\n",
        "plt.show()"
      ]
    },
    {
      "cell_type": "markdown",
      "source": [
        "A simple vista en la gràfica podemos ver un ligero sesgo, pero lo confirmaremos en la siguiente pràctica."
      ],
      "metadata": {
        "id": "6wSh3HeBu3q9"
      }
    },
    {
      "cell_type": "markdown",
      "metadata": {
        "id": "ZNjTiiEQmsec"
      },
      "source": [
        "En este código, estamos calculando la asimetría y la curtosis para los dos conjuntos de datos."
      ]
    },
    {
      "cell_type": "code",
      "execution_count": null,
      "metadata": {
        "id": "TUoifPaMwpGI",
        "colab": {
          "base_uri": "https://localhost:8080/"
        },
        "outputId": "6436d25e-411a-4e39-84ba-fefd9513e625"
      },
      "outputs": [
        {
          "output_type": "stream",
          "name": "stdout",
          "text": [
            "Asimetría y Curtosis:\n",
            "Asimetría Vote Average: 0.1434686409320638, Curtosis: -0.10053700822837675\n",
            "Asimetría Vote Count: 8.07901082771634, Curtosis: 89.81121355401342\n"
          ]
        }
      ],
      "source": [
        "asimetria_a, curtosis_a = pd.Series(variable_a).skew(), pd.Series(variable_a).kurt()\n",
        "asimetria_b, curtosis_b = pd.Series(variable_b).skew(), pd.Series(variable_b).kurt()\n",
        "\n",
        "print(f'Asimetría y Curtosis:')\n",
        "print(f'Asimetría Vote Average: {asimetria_a}, Curtosis: {curtosis_a}')\n",
        "print(f'Asimetría Vote Count: {asimetria_b}, Curtosis: {curtosis_b}')\n"
      ]
    },
    {
      "cell_type": "markdown",
      "source": [
        "\"Vote Average\" tienen una ligera asimetría a la derecha y colas ligeras en comparación con una distribución normal. Por otro lado, tus datos para \"Vote Count\" tienen una fuerte asimetría a la derecha y colas muy pesadas en comparación con una distribución normal.\n",
        "\n",
        "\n",
        "\n",
        "\n",
        "\n",
        "\n",
        "\n",
        "\n",
        "\n",
        "\n",
        "\n",
        "\n",
        "\n",
        "\n"
      ],
      "metadata": {
        "id": "LbZB_-gfvvbg"
      }
    },
    {
      "cell_type": "code",
      "execution_count": null,
      "metadata": {
        "id": "HpQcBPbmwuy7",
        "colab": {
          "base_uri": "https://localhost:8080/"
        },
        "outputId": "63f9d225-a33c-4fe4-f964-5357f0e844b2"
      },
      "outputs": [
        {
          "output_type": "stream",
          "name": "stdout",
          "text": [
            "Error estándar:\n",
            "Error estándar Vote Average: 0.838896703745607\n",
            "Error estándar Vote Count: 111.68097654852075\n"
          ]
        }
      ],
      "source": [
        "error_a = pd.Series(variable_a).std()\n",
        "error_b = pd.Series(variable_b).std()\n",
        "\n",
        "print(f'Error estándar:')\n",
        "print(f'Error estándar Vote Average: {error_a}')\n",
        "print(f'Error estándar Vote Count: {error_b}')"
      ]
    },
    {
      "cell_type": "markdown",
      "source": [
        "\"Vote Average\" tiende a desviarse alrededor de 0.84 unidades estándar de la media. Cuanto menor sea el error estándar, menor será la dispersión de los datos con respecto a la media.\n",
        "En el caso de \"Vote Count\", el valor del error estándar es bastante alto, indicando que los valores tienden a dispersarse alrededor de 109.79 unidades estándar de la media. Esto sugiere una mayor variabilidad en los datos de \"Vote Count\" en comparación con los datos de \"Vote Average\"."
      ],
      "metadata": {
        "id": "7r-RFk_4wmEr"
      }
    },
    {
      "cell_type": "markdown",
      "source": [
        "**Intervalos de confianza**"
      ],
      "metadata": {
        "id": "2OEuF6Kf46rr"
      }
    },
    {
      "cell_type": "markdown",
      "source": [
        "Con el objetivo de conocer más sobre nuestra información, utilizaremos los intervalos de confianza para conocer el rango en que están el 95% de nuestros datos."
      ],
      "metadata": {
        "id": "H-d9dMLdq8j2"
      }
    },
    {
      "cell_type": "code",
      "execution_count": null,
      "metadata": {
        "id": "MGyYT6KJw22C",
        "colab": {
          "base_uri": "https://localhost:8080/"
        },
        "outputId": "3f9e21b0-3d32-4f7e-d973-2a1e1ebfc18f"
      },
      "outputs": [
        {
          "output_type": "stream",
          "name": "stdout",
          "text": [
            "Límite inferior Vote Average: 1.1888566666666667\n",
            "Límite superior Vote Average: 4.460400000000001\n",
            "Límite inferior Vote Count: 0.6\n",
            "Límite superior Vote Count: 287.86833333333294\n"
          ]
        }
      ],
      "source": [
        "limite_inferiorA = pd.Series(variable_a).quantile(0.025)\n",
        "limite_superiorA = pd.Series(variable_a).quantile(0.975)\n",
        "\n",
        "limite_inferiorB = pd.Series(variable_b).quantile(0.025)\n",
        "limite_superiorB = pd.Series(variable_b).quantile(0.975)\n",
        "\n",
        "print(f'Límite inferior Vote Average: {limite_inferiorA}')\n",
        "print(f'Límite superior Vote Average: {limite_superiorA}')\n",
        "\n",
        "print(f'Límite inferior Vote Count: {limite_inferiorB}')\n",
        "print(f'Límite superior Vote Count: {limite_superiorB}')\n",
        "\n"
      ]
    },
    {
      "cell_type": "markdown",
      "source": [
        "\"Vote Average\":\n",
        "Esto sugiere que con cierto nivel de confianza (generalmente se especifica, como un intervalo de confianza del 95%), se espera que la verdadera media de la variable \"Vote Average\" se encuentre entre aproximadamente 1.20 y 4.48.\n",
        "\n",
        "\"Vote Count\":\n",
        "De manera similar, con cierto nivel de confianza, se espera que la verdadera media de la variable \"Vote Count\" se encuentre entre aproximadamente 0.60 y 284.00."
      ],
      "metadata": {
        "id": "zt8esJTlx6vQ"
      }
    },
    {
      "cell_type": "code",
      "source": [
        "print(f'Intervalo de confianza: {limite_inferiorA} < {vote_average.mean()} < {limite_superiorA}')"
      ],
      "metadata": {
        "id": "vx5EMp5xFMK7",
        "colab": {
          "base_uri": "https://localhost:8080/"
        },
        "outputId": "eb7adfe2-09ec-4e6b-8534-e118e40fabf9"
      },
      "execution_count": null,
      "outputs": [
        {
          "output_type": "stream",
          "name": "stdout",
          "text": [
            "Intervalo de confianza: 1.1847933333333336 < 2.7668193601338706 < 4.465403333333333\n"
          ]
        }
      ]
    },
    {
      "cell_type": "markdown",
      "source": [
        "Esto indica que, con cierto nivel de confianza (generalmente especificado, como un intervalo de confianza del 95%), se espera que la verdadera media de la variable \"Vote Average\" esté entre aproximadamente 1.20 y 4.48. El valor específico de \"2.7668149506913413\" es una estimación puntual de la media y se encuentra dentro de este intervalo."
      ],
      "metadata": {
        "id": "BNcZd_zjyN4O"
      }
    },
    {
      "cell_type": "code",
      "source": [
        "intervalos= ((vote_average.mean() - limite_inferiorA) + (limite_superiorA - vote_average.mean())) / 2\n",
        "print(f'Intervalo de confianza: {vote_average.mean()} +/- {intervalos}')"
      ],
      "metadata": {
        "id": "JvtEhJoGIKye",
        "colab": {
          "base_uri": "https://localhost:8080/"
        },
        "outputId": "f51ffe4e-8c2c-4504-93ea-903a801ccb23"
      },
      "execution_count": null,
      "outputs": [
        {
          "output_type": "stream",
          "name": "stdout",
          "text": [
            "Intervalo de confianza: 2.7668193601338706 +/- 1.6403049999999997\n"
          ]
        }
      ]
    },
    {
      "cell_type": "markdown",
      "source": [
        "Este código nos indica que nuestro intervalo de confianza tiene una variación de 1.633"
      ],
      "metadata": {
        "id": "0C1f9EweyPNW"
      }
    },
    {
      "cell_type": "code",
      "source": [
        "sns.histplot(variable_a, kde=False)\n",
        "\n",
        "plt.axvline(x=1.195171666666667, color='red', linestyle='--')\n",
        "plt.axvline(x=4.477066666666667, color='red', linestyle='--')\n",
        "\n",
        "plt.show"
      ],
      "metadata": {
        "id": "PAPPVxkuKEvt",
        "colab": {
          "base_uri": "https://localhost:8080/",
          "height": 451
        },
        "outputId": "4cfb0b5e-507b-498a-fd46-184a09980ba2"
      },
      "execution_count": null,
      "outputs": [
        {
          "output_type": "execute_result",
          "data": {
            "text/plain": [
              "<function matplotlib.pyplot.show(close=None, block=None)>"
            ]
          },
          "metadata": {},
          "execution_count": 92
        },
        {
          "output_type": "display_data",
          "data": {
            "text/plain": [
              "<Figure size 640x480 with 1 Axes>"
            ],
            "image/png": "[encoded data removed]"
          },
          "metadata": {}
        }
      ]
    },
    {
      "cell_type": "markdown",
      "source": [
        "Con la visualización de este histograma, podemos inferir con un nivel de confianza del 95% que al tomar una muestra de nuestra variable inicial y calcular la estadística deseada, es probable que dicha medida se encuentre dentro del intervalo de 1.19 a 4.47."
      ],
      "metadata": {
        "id": "ffnB1Khor--S"
      }
    }
  ],
  "metadata": {
    "colab": {
      "provenance": [],
      "include_colab_link": true
    },
    "kernelspec": {
      "display_name": "Python 3",
      "name": "python3"
    },
    "language_info": {
      "name": "python"
    }
  },
  "nbformat": 4,
  "nbformat_minor": 0
}